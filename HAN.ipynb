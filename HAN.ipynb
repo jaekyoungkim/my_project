{
  "cells": [
    {
      "cell_type": "markdown",
      "metadata": {
        "id": "view-in-github",
        "colab_type": "text"
      },
      "source": [
        "<a href=\"https://colab.research.google.com/github/jaekyoungkim/my_project/blob/main/HAN.ipynb\" target=\"_parent\"><img src=\"https://colab.research.google.com/assets/colab-badge.svg\" alt=\"Open In Colab\"/></a>"
      ]
    },
    {
      "cell_type": "code",
      "execution_count": null,
      "metadata": {
        "id": "z5cUxpwNzdm5"
      },
      "outputs": [],
      "source": [
        "# https://blog.naver.com/hist0134/221386940063\n",
        "# http://hist0134.blog.me/221179965199\n",
        "# https://github.com/hist0613/keras-implementations/blob/main/IMDB-HieAtt.ipynb\n",
        "# https://github.com/kwonsuhan/Exchange-Rate-Caster/blob/a4dff9961e44572b7a950c347944f3386f9cbe1e/code/han/HAN_model.py\n",
        "# [Keras] Hierarchical Attention Networks for Document Classification 구현"
      ]
    },
    {
      "cell_type": "markdown",
      "metadata": {
        "id": "LwAcsYqxFL9G"
      },
      "source": [
        "# 세팅"
      ]
    },
    {
      "cell_type": "code",
      "execution_count": 1,
      "metadata": {
        "id": "G27Jxk2L02cN"
      },
      "outputs": [],
      "source": [
        "# IMDB-HieAtt.ipynb\n",
        "# We provide a set of 25,000 highly polar movie reviews for training, and 25,000 for testing. There is additional unlabeled data for use as well. \n",
        "import keras\n",
        "from keras import backend as K\n",
        "import tensorflow as tf\n",
        "\n",
        "#from keras.engine.topology import Layer 수정해야함\n",
        "#from tensorflow.python.keras.layers import Layer, InputSpec\n",
        "\n",
        "from tensorflow.keras.layers import Layer, InputSpec\n",
        "from keras.layers import Input, Embedding, Dense\n",
        "from keras.layers import Lambda, Permute, RepeatVector, Multiply\n",
        "from keras.layers import Bidirectional, TimeDistributed\n",
        "from keras.layers import CuDNNGRU, GRU\n",
        "from keras.layers import BatchNormalization, Dropout\n",
        "from keras.models import Model, Sequential\n",
        "from keras.callbacks import EarlyStopping, ModelCheckpoint"
      ]
    },
    {
      "cell_type": "code",
      "execution_count": 2,
      "metadata": {
        "colab": {
          "base_uri": "https://localhost:8080/"
        },
        "id": "w8ZPKbBo53aY",
        "outputId": "bbc0ef01-33ff-4842-959f-1fe551a3aca9"
      },
      "outputs": [
        {
          "output_type": "stream",
          "name": "stdout",
          "text": [
            "/bin/bash: -c: line 0: syntax error near unexpected token `'punkt''\n",
            "/bin/bash: -c: line 0: `nltk.download('punkt')'\n"
          ]
        }
      ],
      "source": [
        "\n",
        "!nltk.download('punkt')\n",
        "import nltk"
      ]
    },
    {
      "cell_type": "code",
      "execution_count": 3,
      "metadata": {
        "colab": {
          "base_uri": "https://localhost:8080/"
        },
        "id": "tYSo3Sc3tkmX",
        "outputId": "f16aded1-63bd-4924-ff0b-f3e20c31d2c2"
      },
      "outputs": [
        {
          "output_type": "stream",
          "name": "stdout",
          "text": [
            "Mounted at /content/gdrive\n"
          ]
        }
      ],
      "source": [
        "from google.colab import drive\n",
        "drive.mount('/content/gdrive')\n",
        "#4/1AX4XfWgKzT5FnEsEqbHv_MJeAYGD6bx-GaC_4wW5f-wWQPUEX9zI2zEL4ug\n",
        "# crm = pd.read_csv('gdrive/MyDrive/DW_DATA/CRMDATA_product.csv', encoding = 'c==p949')  # cp949\n",
        "# CRM품목정리 파일 활용\n",
        "# utf-8  or cp 949 로 코딩"
      ]
    },
    {
      "cell_type": "code",
      "execution_count": 14,
      "metadata": {
        "id": "kXxG-aZQ6Sbt"
      },
      "outputs": [],
      "source": [
        "# long sentence 할때 이 부분 숫자를 조정해야할듯\n",
        "# 데이터에서 max(sentence) 값을 적용해야할듯\n",
        "\n",
        "MAX_SENTENCES = 10\n",
        "MAX_SENTENCE_LENGTH = 25"
      ]
    },
    {
      "cell_type": "markdown",
      "metadata": {
        "id": "3IDA2bmjFPmK"
      },
      "source": [
        "# 데이터불러오기 "
      ]
    },
    {
      "cell_type": "code",
      "execution_count": 4,
      "metadata": {
        "colab": {
          "base_uri": "https://localhost:8080/"
        },
        "id": "DPgMXfp1trmI",
        "outputId": "2dda08b7-0125-41e7-8810-9a3e017d5acb"
      },
      "outputs": [
        {
          "output_type": "stream",
          "name": "stdout",
          "text": [
            "gdrive/MyDrive/dataset/IMDB/aclImdb/train\n",
            "gdrive/MyDrive/dataset/IMDB/aclImdb/test\n"
          ]
        }
      ],
      "source": [
        "# refer: http://ai.stanford.edu/~amaas/data/sentiment/\n",
        "\n",
        "\n",
        "import os\n",
        "\n",
        "data_dir = \"gdrive/MyDrive/dataset/IMDB/aclImdb\"  # 데이터 받아서 해당 폴더 생성한거에 집어넣음\n",
        "train_dir = os.path.join(data_dir, 'train')\n",
        "test_dir = os.path.join(data_dir, 'test')\n",
        "print(train_dir)\n",
        "print(test_dir)"
      ]
    },
    {
      "cell_type": "code",
      "execution_count": 5,
      "metadata": {
        "colab": {
          "base_uri": "https://localhost:8080/",
          "height": 34
        },
        "id": "ftjDAdsw1CLM",
        "outputId": "722776ee-2cad-4760-8d43-ab5d39696af8"
      },
      "outputs": [
        {
          "output_type": "execute_result",
          "data": {
            "text/plain": [
              "'gdrive/MyDrive/dataset/IMDB/aclImdb/train'"
            ],
            "application/vnd.google.colaboratory.intrinsic+json": {
              "type": "string"
            }
          },
          "metadata": {},
          "execution_count": 5
        }
      ],
      "source": [
        "base_dir = 'gdrive/MyDrive/dataset/IMDB/aclImdb'\n",
        "split_dir = os.path.join(base_dir, 'train')\n",
        "split_dir"
      ]
    },
    {
      "cell_type": "code",
      "execution_count": 6,
      "metadata": {
        "id": "0qXBLIJl8hy3"
      },
      "outputs": [],
      "source": [
        "def load_dataset(split='train'):\n",
        "    x_data = []\n",
        "    y_data = []\n",
        "    \n",
        "    base_dir = 'gdrive/MyDrive/dataset/IMDB/aclImdb'\n",
        "    split_dir = os.path.join(base_dir, split)\n",
        "    for sentiment, y in [('neg', 0), ('pos', 1)]:\n",
        "        data_dir = os.path.join(split_dir, sentiment)   # dir~~~ /neg 폴더 , dir~~~ /pos 폴더 각각에서 데이터 뽑기\n",
        "        for file_name in os.listdir(data_dir):\n",
        "            file_path = os.path.join(data_dir, file_name)\n",
        "            with open(file_path, 'r', encoding='utf-8') as fp:\n",
        "                review = fp.read()\n",
        "            x_data.append(review)\n",
        "            y_data.append(y)\n",
        "            \n",
        "    return x_data, y_data"
      ]
    },
    {
      "cell_type": "code",
      "execution_count": 7,
      "metadata": {
        "id": "KxlNkpgdz5Ef",
        "colab": {
          "base_uri": "https://localhost:8080/"
        },
        "outputId": "3c5658e0-bbbd-464f-eb4c-980facf8f1e7"
      },
      "outputs": [
        {
          "output_type": "stream",
          "name": "stdout",
          "text": [
            "len(train_x_data): 25000\n",
            "len(test_x_data): 25000\n"
          ]
        }
      ],
      "source": [
        "train_x_data, train_y_data = load_dataset(split='train') \n",
        "test_x_data, test_y_data = load_dataset(split='test')\n",
        "\n",
        "print(\"len(train_x_data): {}\".format(len(train_x_data)))\n",
        "print(\"len(test_x_data): {}\".format(len(test_x_data)))"
      ]
    },
    {
      "cell_type": "code",
      "execution_count": null,
      "metadata": {
        "colab": {
          "base_uri": "https://localhost:8080/",
          "height": 87
        },
        "id": "2-ZQVa4l6SfF",
        "outputId": "2a447bf3-0a8a-4d3a-d211-aba2f331369d"
      },
      "outputs": [
        {
          "output_type": "execute_result",
          "data": {
            "text/plain": [
              "'OK, so I just saw the movie, although it appeared last year... I thought that it was generally a decent movie, except for the storyline, which was stupid and horrible... First of all, we never get to know anything about the creatures, why they appeared, wtf are they doing in our world, and really, have they been on Earth before we were or did they just come from space? Secondly, the role of the butcher to maintain order is just so obviously created... Really, how large could the underground for a sub station could have been? There were only so many of those creatures, so I think instead of killing innocent people in vain, they could have just planted some tactical bombs, or maybe clear the are and a Nuke would have done the job. I know it sounds funny and it is, but I do not see the killing of people as being NECESSARY... Thirdly, Leon acts like Superman jumping on the train and fighting Vinnie Jones, who was way taller and bigger in stature. Then again, when he faces the conductor he does nothing and acts as a wimp, watching all the abominations. I mean OK, the conductor had creepy help(lol), but if Leon was so brave he would have gone all the way... I mean he risks his life first, then does nothing exactly when he should have. He could have died as a hero but lives as a coward... this might be the case, but not after showing so much braveness earlier on... Then, the cop thing... come on! This was a city having a subway, I bet there must have been other cops except that lady, other police stations,this was really kind of silly... All in all, great acting by Vinnie Jones, interesting idea up to the reason behind it which is not really built at all... By the way, what did the signs on the chest mean? Vinnie Jones cannot make up for the rest...'"
            ],
            "application/vnd.google.colaboratory.intrinsic+json": {
              "type": "string"
            }
          },
          "metadata": {},
          "execution_count": 9
        }
      ],
      "source": [
        "train_x_data[4]"
      ]
    },
    {
      "cell_type": "code",
      "source": [
        "type(train_x_data)"
      ],
      "metadata": {
        "id": "9nTHsWCNb2oF",
        "colab": {
          "base_uri": "https://localhost:8080/"
        },
        "outputId": "bc881b86-5e39-46b6-e8c5-821bb28747b1"
      },
      "execution_count": null,
      "outputs": [
        {
          "output_type": "execute_result",
          "data": {
            "text/plain": [
              "list"
            ]
          },
          "metadata": {},
          "execution_count": 10
        }
      ]
    },
    {
      "cell_type": "code",
      "execution_count": null,
      "metadata": {
        "colab": {
          "base_uri": "https://localhost:8080/"
        },
        "id": "71uPbeN96ZcY",
        "outputId": "e0fcbbdd-9440-49d1-9f9f-c0b9bc2a1908"
      },
      "outputs": [
        {
          "data": {
            "text/plain": [
              "0"
            ]
          },
          "execution_count": 12,
          "metadata": {},
          "output_type": "execute_result"
        }
      ],
      "source": [
        "train_y_data[4]"
      ]
    },
    {
      "cell_type": "code",
      "execution_count": 8,
      "metadata": {
        "id": "EF3wKKPp6Zfd"
      },
      "outputs": [],
      "source": [
        "import numpy as np\n",
        "from keras.preprocessing.text import Tokenizer  # 토큰화하는 패키지\n",
        "from keras.preprocessing.sequence import pad_sequences # padding 을 위한 패키지\n",
        "#from keras.utils import to_categorical # 범주형 변수로 만들어줌 / 실행안되는 이유확인\n",
        "from tensorflow.keras.utils import to_categorical # \n",
        "from nltk.tokenize import sent_tokenize  # 문장을 token화 시킴\n",
        "import nltk"
      ]
    },
    {
      "cell_type": "code",
      "execution_count": 9,
      "metadata": {
        "colab": {
          "base_uri": "https://localhost:8080/"
        },
        "id": "zZsafForJt81",
        "outputId": "024a82a9-7e2d-4cc0-c0c6-0fdadc92edb3"
      },
      "outputs": [
        {
          "name": "stdout",
          "output_type": "stream",
          "text": [
            "NLTK Downloader\n",
            "---------------------------------------------------------------------------\n",
            "    d) Download   l) List    u) Update   c) Config   h) Help   q) Quit\n",
            "---------------------------------------------------------------------------\n",
            "Downloader> d\n",
            "\n",
            "Download which package (l=list; x=cancel)?\n",
            "  Identifier> punkt\n",
            "    Downloading package punkt to /root/nltk_data...\n",
            "      Unzipping tokenizers/punkt.zip.\n",
            "\n",
            "---------------------------------------------------------------------------\n",
            "    d) Download   l) List    u) Update   c) Config   h) Help   q) Quit\n",
            "---------------------------------------------------------------------------\n",
            "Downloader> q\n"
          ]
        },
        {
          "output_type": "execute_result",
          "data": {
            "text/plain": [
              "True"
            ]
          },
          "metadata": {},
          "execution_count": 9
        }
      ],
      "source": [
        "nltk.download() #'punkt'"
      ]
    },
    {
      "cell_type": "code",
      "execution_count": 10,
      "metadata": {
        "id": "rpqPvtQmIMov"
      },
      "outputs": [],
      "source": [
        "tokenizer = Tokenizer()\n",
        "tokenizer.fit_on_texts(train_x_data)\n",
        "tokenizer.fit_on_texts(test_x_data)\n",
        "\n",
        "max_nb_words = len(tokenizer.word_index) + 1  # 토큰나이즈했을때에 나타나는 단어개수만큼"
      ]
    },
    {
      "cell_type": "code",
      "execution_count": 11,
      "metadata": {
        "colab": {
          "base_uri": "https://localhost:8080/"
        },
        "id": "FiIZ8soDIRuq",
        "outputId": "5759f49b-2264-4787-dca2-1bafbadfaa9d"
      },
      "outputs": [
        {
          "output_type": "stream",
          "name": "stdout",
          "text": [
            "[[23, 22, 3839, 68], [3, 119, 14522, 296, 35, 2096, 12310, 2, 42636, 15, 3, 6009], [85, 1024, 77, 22, 25, 5, 26, 5, 77, 11], [59, 200, 26, 480, 5, 3710, 18, 9, 6, 21, 996, 8, 11, 303, 527, 2891, 11313, 1376, 353], [10, 118, 59, 45, 3, 4061, 1582, 6951, 4048], [34, 124, 4636, 33192, 18, 10, 89, 63, 87, 16, 1156, 31140, 615, 12310, 4, 4392, 5398, 2, 38711, 7, 7, 59, 45, 3, 6128, 770, 56310], [56310], [542, 681, 42, 250, 3, 389, 12, 364, 7, 7, 51, 55, 6, 995, 20, 2375, 48043, 71, 823, 6187], [35, 45, 12, 242, 4, 55], [20563, 142, 26, 20, 125, 27895, 21, 20, 56, 240], [11, 119, 142, 26, 20, 1059, 2274, 21, 1678, 2274]]\n"
          ]
        }
      ],
      "source": [
        "a=sent_tokenize(train_x_data[5])\n",
        "a  #문장단위로 끊어줌, 끊는 기준이 있을것임\n",
        "\n",
        "b = tokenizer.texts_to_sequences(a)\n",
        "print(b)"
      ]
    },
    {
      "cell_type": "code",
      "execution_count": null,
      "metadata": {
        "colab": {
          "base_uri": "https://localhost:8080/"
        },
        "id": "CXuT3uerLQ_e",
        "outputId": "ca2a89c8-7c3c-45fb-c5a4-7c6cf1199c03"
      },
      "outputs": [
        {
          "name": "stdout",
          "output_type": "stream",
          "text": [
            "[[    0     0     0     0     0     0     0     0     0     0     0     0\n",
            "      0     0     0     0     0     0     0     0     0    23    22  3839\n",
            "     68]\n",
            " [    0     0     0     0     0     0     0     0     0     0     0     0\n",
            "      0     3   119 14522   296    35  2096 12310     2 42636    15     3\n",
            "   6009]\n",
            " [    0     0     0     0     0     0     0     0     0     0     0     0\n",
            "      0     0     0    85  1024    77    22    25     5    26     5    77\n",
            "     11]\n",
            " [    0     0     0     0     0     0    59   200    26   480     5  3710\n",
            "     18     9     6    21   996     8    11   303   527  2891 11313  1376\n",
            "    353]\n",
            " [    0     0     0     0     0     0     0     0     0     0     0     0\n",
            "      0     0     0     0    10   118    59    45     3  4061  1582  6951\n",
            "   4048]\n",
            " [ 4636 33192    18    10    89    63    87    16  1156 31140   615 12310\n",
            "      4  4392  5398     2 38711     7     7    59    45     3  6128   770\n",
            "  56310]\n",
            " [    0     0     0     0     0     0     0     0     0     0     0     0\n",
            "      0     0     0     0     0     0     0     0     0     0     0     0\n",
            "  56310]\n",
            " [    0     0     0     0     0   542   681    42   250     3   389    12\n",
            "    364     7     7    51    55     6   995    20  2375 48043    71   823\n",
            "   6187]\n",
            " [    0     0     0     0     0     0     0     0     0     0     0     0\n",
            "      0     0     0     0     0     0     0    35    45    12   242     4\n",
            "     55]\n",
            " [    0     0     0     0     0     0     0     0     0     0     0     0\n",
            "      0     0     0 20563   142    26    20   125 27895    21    20    56\n",
            "    240]\n",
            " [    0     0     0     0     0     0     0     0     0     0     0     0\n",
            "      0     0     0    11   119   142    26    20  1059  2274    21  1678\n",
            "   2274]]\n"
          ]
        }
      ],
      "source": [
        "c = pad_sequences(b, maxlen=25) # 길이를 25로 맞추기\n",
        "print(c)"
      ]
    },
    {
      "cell_type": "code",
      "execution_count": null,
      "metadata": {
        "colab": {
          "base_uri": "https://localhost:8080/"
        },
        "id": "Lg8Vim0w-iQ9",
        "outputId": "0b324fb0-8686-4725-b174-51981b44fe70"
      },
      "outputs": [
        {
          "data": {
            "text/plain": [
              "<keras_preprocessing.text.Tokenizer at 0x7f24447492d0>"
            ]
          },
          "execution_count": 18,
          "metadata": {},
          "output_type": "execute_result"
        }
      ],
      "source": [
        "tokenizer"
      ]
    },
    {
      "cell_type": "code",
      "execution_count": null,
      "metadata": {
        "colab": {
          "base_uri": "https://localhost:8080/"
        },
        "id": "0yx26Kll-lJw",
        "outputId": "6cc6324a-2acf-4995-da4a-235bc75feb8e"
      },
      "outputs": [
        {
          "data": {
            "text/plain": [
              "124253"
            ]
          },
          "execution_count": 19,
          "metadata": {},
          "output_type": "execute_result"
        }
      ],
      "source": [
        "max_nb_words # 124253"
      ]
    },
    {
      "cell_type": "code",
      "execution_count": null,
      "metadata": {
        "colab": {
          "base_uri": "https://localhost:8080/"
        },
        "id": "FexyIekKHLrc",
        "outputId": "3c65742b-5aad-48ef-e232-5888e27a935a"
      },
      "outputs": [
        {
          "data": {
            "text/plain": [
              "25"
            ]
          },
          "execution_count": 20,
          "metadata": {},
          "output_type": "execute_result"
        }
      ],
      "source": [
        "MAX_SENTENCE_LENGTH "
      ]
    },
    {
      "cell_type": "code",
      "execution_count": null,
      "metadata": {
        "colab": {
          "base_uri": "https://localhost:8080/"
        },
        "id": "dCopOJnuHMiT",
        "outputId": "778fc3e7-9d7e-4023-a8f9-86fa57ddb961"
      },
      "outputs": [
        {
          "data": {
            "text/plain": [
              "10"
            ]
          },
          "execution_count": 21,
          "metadata": {},
          "output_type": "execute_result"
        }
      ],
      "source": [
        "MAX_SENTENCES"
      ]
    },
    {
      "cell_type": "code",
      "execution_count": 15,
      "metadata": {
        "colab": {
          "base_uri": "https://localhost:8080/"
        },
        "id": "NCN3o4KM5HrD",
        "outputId": "72940e8f-7858-4592-d3ea-02ad293556cf"
      },
      "outputs": [
        {
          "output_type": "stream",
          "name": "stdout",
          "text": [
            "train_X_data.shape: (25000, 10, 25)\n",
            "test_X_data.shape: (25000, 10, 25)\n"
          ]
        }
      ],
      "source": [
        "def doc2hierarchical(text,  \n",
        "                     max_sentences=MAX_SENTENCES,  # 10\n",
        "                     max_sentence_length=MAX_SENTENCE_LENGTH):  # 15\n",
        "    sentences = sent_tokenize(text)   # 긴문장을 문장 단위로 쪼개줌\n",
        "    tokenized_sentences = tokenizer.texts_to_sequences(sentences)\n",
        "    tokenized_sentences = pad_sequences(tokenized_sentences, maxlen=max_sentence_length) # 패딩을 써서 길이를 맞춰춤\n",
        "\n",
        "    pad_size = max_sentences - tokenized_sentences.shape[0]\n",
        "\n",
        "    if pad_size <= 0:  # tokenized_sentences.shape[0] < max_sentences\n",
        "        tokenized_sentences = tokenized_sentences[:max_sentences]  # 패딩사이즈를 넘어가면 중간에 잘라주어야함\n",
        "    else:\n",
        "        tokenized_sentences = np.pad(\n",
        "            tokenized_sentences, ((0, pad_size), (0, 0)),\n",
        "            mode='constant', constant_values=0\n",
        "        )\n",
        "    \n",
        "    return tokenized_sentences  \n",
        "            \n",
        "def build_dataset(x_data, y_data, \n",
        "                  max_sentences=MAX_SENTENCES, \n",
        "                  max_sentence_length=MAX_SENTENCE_LENGTH,\n",
        "                  tokenizer=tokenizer):\n",
        "    \n",
        "    nb_instances = len(x_data)\n",
        "    X_data = np.zeros((nb_instances, max_sentences, max_sentence_length), dtype='int32')\n",
        "    for i, review in enumerate(x_data):\n",
        "        tokenized_sentences = doc2hierarchical(review)\n",
        "            \n",
        "        X_data[i] = tokenized_sentences[None, ...]\n",
        "        \n",
        "    nb_classes = len(set(y_data))  # 0,1 2개 카테고리 > 2값이 나옴\n",
        "    Y_data = to_categorical(y_data, nb_classes)  #  1/0 binary를 2개의 컬럼으로 나타냄 / one-hot encoding과 같음\n",
        "    \n",
        "    return X_data, Y_data\n",
        "\n",
        "train_X_data, train_Y_data = build_dataset(train_x_data, train_y_data)\n",
        "test_X_data, test_Y_data = build_dataset(test_x_data, test_y_data)\n",
        "\n",
        "print(\"train_X_data.shape: {}\".format(train_X_data.shape))\n",
        "print(\"test_X_data.shape: {}\".format(test_X_data.shape))"
      ]
    },
    {
      "cell_type": "code",
      "execution_count": null,
      "metadata": {
        "colab": {
          "base_uri": "https://localhost:8080/"
        },
        "id": "-qX867LoM97o",
        "outputId": "95da28ba-b9cd-417a-e3d8-5568d30eb0b1"
      },
      "outputs": [
        {
          "output_type": "execute_result",
          "data": {
            "text/plain": [
              "array([[    0,     0,     0,     0,     0,     0,     0,     0,     0,\n",
              "            0,     0,     0,     0,     0,     0,     0,     0,     0,\n",
              "            0,     0,     0,    23,    22,  3839,    68],\n",
              "       [    0,     0,     0,     0,     0,     0,     0,     0,     0,\n",
              "            0,     0,     0,     0,     3,   119, 14522,   296,    35,\n",
              "         2096, 12310,     2, 42636,    15,     3,  6009],\n",
              "       [    0,     0,     0,     0,     0,     0,     0,     0,     0,\n",
              "            0,     0,     0,     0,     0,     0,    85,  1024,    77,\n",
              "           22,    25,     5,    26,     5,    77,    11],\n",
              "       [    0,     0,     0,     0,     0,     0,    59,   200,    26,\n",
              "          480,     5,  3710,    18,     9,     6,    21,   996,     8,\n",
              "           11,   303,   527,  2891, 11313,  1376,   353],\n",
              "       [    0,     0,     0,     0,     0,     0,     0,     0,     0,\n",
              "            0,     0,     0,     0,     0,     0,     0,    10,   118,\n",
              "           59,    45,     3,  4061,  1582,  6951,  4048],\n",
              "       [ 4636, 33192,    18,    10,    89,    63,    87,    16,  1156,\n",
              "        31140,   615, 12310,     4,  4392,  5398,     2, 38711,     7,\n",
              "            7,    59,    45,     3,  6128,   770, 56310],\n",
              "       [    0,     0,     0,     0,     0,     0,     0,     0,     0,\n",
              "            0,     0,     0,     0,     0,     0,     0,     0,     0,\n",
              "            0,     0,     0,     0,     0,     0, 56310],\n",
              "       [    0,     0,     0,     0,     0,   542,   681,    42,   250,\n",
              "            3,   389,    12,   364,     7,     7,    51,    55,     6,\n",
              "          995,    20,  2375, 48043,    71,   823,  6187],\n",
              "       [    0,     0,     0,     0,     0,     0,     0,     0,     0,\n",
              "            0,     0,     0,     0,     0,     0,     0,     0,     0,\n",
              "            0,    35,    45,    12,   242,     4,    55],\n",
              "       [    0,     0,     0,     0,     0,     0,     0,     0,     0,\n",
              "            0,     0,     0,     0,     0,     0, 20563,   142,    26,\n",
              "           20,   125, 27895,    21,    20,    56,   240]], dtype=int32)"
            ]
          },
          "metadata": {},
          "execution_count": 15
        }
      ],
      "source": [
        "doc2hierarchical(train_x_data[5])"
      ]
    },
    {
      "cell_type": "code",
      "execution_count": 16,
      "metadata": {
        "colab": {
          "base_uri": "https://localhost:8080/"
        },
        "id": "XNcKOXyA6KDb",
        "outputId": "b83a9670-2f50-49e8-de82-91585582785c"
      },
      "outputs": [
        {
          "output_type": "stream",
          "name": "stdout",
          "text": [
            "train_X_data.shape: (22500, 10, 25)\n",
            "train_Y_data.shape: (22500, 2)\n",
            "val_X_data.shape: (2500, 10, 25)\n",
            "val_Y_data.shape: (2500, 2)\n"
          ]
        }
      ],
      "source": [
        "from sklearn.model_selection import train_test_split\n",
        "# train -> train과 valid로 나누기\n",
        "train_X_data, val_X_data, train_Y_data, val_Y_data = train_test_split(train_X_data, train_Y_data, \n",
        "                                                                      test_size=0.1, \n",
        "                                                                      random_state=42)\n",
        "print(\"train_X_data.shape: {}\".format(train_X_data.shape))\n",
        "print(\"train_Y_data.shape: {}\".format(train_Y_data.shape))\n",
        "print(\"val_X_data.shape: {}\".format(val_X_data.shape))\n",
        "print(\"val_Y_data.shape: {}\".format(val_Y_data.shape))"
      ]
    },
    {
      "cell_type": "code",
      "execution_count": null,
      "metadata": {
        "colab": {
          "base_uri": "https://localhost:8080/"
        },
        "id": "S16lt544GtY3",
        "outputId": "52f6b475-3474-4c21-c4e6-2b2def82d295"
      },
      "outputs": [
        {
          "output_type": "execute_result",
          "data": {
            "text/plain": [
              "array([[    0,     0,     0,    56,   325,     2,    10,    37,     5,\n",
              "          817,    62,   364,   182,   859,   861,    97,     2,   103,\n",
              "           93,    16,   260,   350,    15,     3,   423],\n",
              "       [    0,     0,     0,     0,     0,     0,     0,     0,     0,\n",
              "           73,   210,    11,    27,    20, 83582,  2295,     2,   877,\n",
              "            5,   726,     9,     5,   260,  6526,  1011],\n",
              "       [    0,     0,     0,     0,     0,     0,     0,     0,     0,\n",
              "            0,   146,    50,    10,   131,    11,    17,     6,   372,\n",
              "           10,   383,     9,     8,     3,    49,    95],\n",
              "       [    0,     0,   267,    42,     9,     1,   113,   355,   158,\n",
              "           64,  1367,     6,    39,    34, 12595,     2,   359,   332,\n",
              "           18,  1606,    48,   162,     9,    34,    49],\n",
              "       [    0,     0,     0,     0,     0,     0,     0,     0,     0,\n",
              "            0,    10,   101,     8,    27,   129,     1,   150,   588,\n",
              "           37,    33,    70,   160,  1334,     8,   274],\n",
              "       [    0,    10,    62,   433,    12,  2590,    90,    11,    19,\n",
              "          292,   600,    50,    33,    90,     9,    84,    43,    33,\n",
              "           70,    91,    12,    58,    39,    26,   625],\n",
              "       [    0,     0,     0,     0,     0,    43,    22,    37,     5,\n",
              "          103,    62,   364,   182,    97,    39,     5,    94,   245,\n",
              "            4,    93,    91,    10,   377,    11,    27],\n",
              "       [    0,     0,     0,     0,     0,     0,     0,     0,     0,\n",
              "            0,     0,     0,     0,     0,     0,     0,     0,     0,\n",
              "            0,     0,     0,     0,     0,     0,     0],\n",
              "       [    0,     0,     0,     0,     0,     0,     0,     0,     0,\n",
              "            0,     0,     0,     0,     0,     0,     0,     0,     0,\n",
              "            0,     0,     0,     0,     0,     0,     0],\n",
              "       [    0,     0,     0,     0,     0,     0,     0,     0,     0,\n",
              "            0,     0,     0,     0,     0,     0,     0,     0,     0,\n",
              "            0,     0,     0,     0,     0,     0,     0]], dtype=int32)"
            ]
          },
          "metadata": {},
          "execution_count": 17
        }
      ],
      "source": [
        "train_X_data[1]"
      ]
    },
    {
      "cell_type": "code",
      "execution_count": null,
      "metadata": {
        "colab": {
          "base_uri": "https://localhost:8080/"
        },
        "id": "lUE6CQP9G12x",
        "outputId": "8f86d1c4-118e-415a-d1b4-d45fd45c60ba"
      },
      "outputs": [
        {
          "output_type": "execute_result",
          "data": {
            "text/plain": [
              "array([1., 0.], dtype=float32)"
            ]
          },
          "metadata": {},
          "execution_count": 18
        }
      ],
      "source": [
        "train_Y_data[1]"
      ]
    },
    {
      "cell_type": "markdown",
      "metadata": {
        "id": "n8McwflZFHkL"
      },
      "source": [
        "# word2vec 불러오기"
      ]
    },
    {
      "cell_type": "code",
      "execution_count": 17,
      "metadata": {
        "colab": {
          "base_uri": "https://localhost:8080/"
        },
        "id": "C9rmGu6bQ3fR",
        "outputId": "b22899d3-9aa8-444d-810c-4d3a9ea40a07"
      },
      "outputs": [
        {
          "output_type": "stream",
          "name": "stdout",
          "text": [
            "[==================================================] 100.0% 1662.8/1662.8MB downloaded\n"
          ]
        }
      ],
      "source": [
        "# google이 이미 word2vec의 결과로 각 word에 대한 vector를 만들어서 배포\n",
        "# 하지만 용량이 커서 작은 용량에서는 어렵죠. 그래서 작은 용량의 word2vec vector로 존재\n",
        "# vector를 특정 분야에 맞게 특화시키킬 원할 경우,\n",
        "# Word2vec.intersect_word2vec_format(googleNews_filepath, binary=True, lockf=1.0)을 통해 쉽게 초기값을 설정\n",
        "# word2vec-GoogleNews-vectors에서 이미 학습된 word2vector를 다운가능\n",
        "# 다만, 학습된 모델을 가져오는 것이 아니라, “학습된 vector”만을 수치로 가져오는 것이죠.\n",
        "# 다운로드 받아놓은게 있어서 따로 다운받을 필요 없을듯\n",
        "import gensim.downloader as api\n",
        "wv = api.load('word2vec-google-news-300')\n",
        "vec_king = wv['king']"
      ]
    },
    {
      "cell_type": "code",
      "execution_count": 18,
      "metadata": {
        "colab": {
          "base_uri": "https://localhost:8080/"
        },
        "id": "5xcuC-1HTuid",
        "outputId": "c8c2b539-176e-4ca4-fca8-aa355efd0b80"
      },
      "outputs": [
        {
          "output_type": "execute_result",
          "data": {
            "text/plain": [
              "(300,)"
            ]
          },
          "metadata": {},
          "execution_count": 18
        }
      ],
      "source": [
        "wv['diarrhea'].shape # 300차원 벡터로 표현됨  GoogleNews-vectors-negative300"
      ]
    },
    {
      "cell_type": "code",
      "execution_count": null,
      "metadata": {
        "colab": {
          "base_uri": "https://localhost:8080/"
        },
        "id": "OlRMc8K-WAQX",
        "outputId": "ea328545-baae-4c4c-868d-f72544ad7954"
      },
      "outputs": [
        {
          "output_type": "execute_result",
          "data": {
            "text/plain": [
              "array([-3.20312500e-01,  2.24609375e-02, -2.27539062e-01,  8.05664062e-02,\n",
              "        1.17187500e-01, -2.01416016e-02,  1.08886719e-01,  1.70898438e-01,\n",
              "        5.29785156e-02, -2.63671875e-01,  7.27539062e-02,  4.78515625e-02,\n",
              "       -9.61914062e-02,  3.12500000e-01,  9.17968750e-02,  3.04687500e-01,\n",
              "        7.12890625e-02, -5.37109375e-02, -2.41699219e-02,  1.71875000e-01,\n",
              "        2.22656250e-01, -2.85156250e-01,  2.09960938e-01,  1.67968750e-01,\n",
              "       -1.63269043e-03, -2.31445312e-01, -1.90429688e-01,  1.78710938e-01,\n",
              "       -2.75390625e-01, -1.35742188e-01,  7.27539062e-02, -2.68554688e-02,\n",
              "       -8.98437500e-02, -3.16406250e-01, -5.50781250e-01, -2.71484375e-01,\n",
              "        8.05664062e-02,  9.09423828e-03, -2.33398438e-01,  1.03027344e-01,\n",
              "        3.14453125e-01, -1.96289062e-01, -2.32421875e-01,  4.66308594e-02,\n",
              "       -4.83398438e-02, -2.16796875e-01, -1.87500000e-01,  4.51660156e-02,\n",
              "       -3.80859375e-01, -1.41601562e-01, -2.09960938e-01,  1.63085938e-01,\n",
              "       -4.19921875e-01, -4.66796875e-01,  2.53906250e-01, -4.02343750e-01,\n",
              "       -3.33984375e-01,  1.13769531e-01,  1.95312500e-01, -9.39941406e-03,\n",
              "       -1.52343750e-01,  2.55859375e-01,  1.94335938e-01,  7.12890625e-02,\n",
              "        1.52343750e-01,  4.17968750e-01, -1.37695312e-01, -1.34765625e-01,\n",
              "        1.28173828e-02, -2.18750000e-01, -1.03515625e-01, -6.17675781e-02,\n",
              "        3.04687500e-01,  1.31835938e-01, -3.61328125e-01, -3.43750000e-01,\n",
              "        1.66992188e-01,  5.56640625e-02, -4.29687500e-02,  3.94531250e-01,\n",
              "        1.09863281e-01,  2.99072266e-02,  8.64257812e-02,  1.19628906e-01,\n",
              "       -4.68750000e-01, -4.02832031e-02, -2.71484375e-01,  1.25000000e-01,\n",
              "        1.63574219e-02, -2.14843750e-01,  1.43554688e-01, -3.57421875e-01,\n",
              "       -1.83593750e-01,  1.55273438e-01,  6.07910156e-02, -3.69140625e-01,\n",
              "        3.73046875e-01,  4.90722656e-02,  2.13867188e-01,  3.44238281e-02,\n",
              "        3.28063965e-03, -2.34375000e-01, -4.29153442e-04, -1.50390625e-01,\n",
              "        2.96875000e-01, -9.39941406e-03, -1.04980469e-02,  1.48437500e-01,\n",
              "        3.80859375e-01,  2.06054688e-01,  2.00195312e-01,  5.22460938e-02,\n",
              "       -1.28906250e-01, -4.41406250e-01,  3.14453125e-01, -2.32421875e-01,\n",
              "       -4.78515625e-02, -4.08203125e-01, -4.34570312e-02, -1.36718750e-01,\n",
              "       -3.71093750e-01, -4.30297852e-03, -3.00781250e-01,  1.04980469e-01,\n",
              "        2.94921875e-01, -5.90820312e-02,  1.36718750e-01, -1.62109375e-01,\n",
              "        9.76562500e-03, -1.55639648e-02,  1.70898438e-02,  7.86132812e-02,\n",
              "       -2.77343750e-01, -6.64062500e-02, -1.29882812e-01,  1.17675781e-01,\n",
              "       -3.00292969e-02,  2.35351562e-01,  3.80859375e-02,  4.00390625e-01,\n",
              "        2.94189453e-02, -8.20312500e-02, -2.36328125e-01, -1.93359375e-01,\n",
              "       -1.55273438e-01, -3.14453125e-01,  2.34375000e-01,  9.03320312e-02,\n",
              "       -3.39843750e-01, -1.71875000e-01,  1.13281250e-01, -1.73828125e-01,\n",
              "       -2.33398438e-01,  3.69140625e-01, -2.31933594e-03,  1.15234375e-01,\n",
              "       -1.81640625e-01, -3.34472656e-02,  2.28515625e-01, -2.03125000e-01,\n",
              "        5.12695312e-02,  2.36816406e-02,  3.59375000e-01,  1.55273438e-01,\n",
              "        5.88378906e-02, -1.05468750e-01,  2.02148438e-01,  1.18652344e-01,\n",
              "        7.22656250e-02,  1.22558594e-01,  1.91406250e-01,  2.98828125e-01,\n",
              "        1.19628906e-01, -7.08007812e-02,  6.01196289e-03, -3.16406250e-01,\n",
              "        1.95312500e-01, -4.04296875e-01, -1.08886719e-01,  2.18750000e-01,\n",
              "        6.12792969e-02, -5.41992188e-02, -2.89062500e-01,  1.66015625e-01,\n",
              "        6.53076172e-03,  6.93359375e-02, -1.94335938e-01, -2.89062500e-01,\n",
              "       -1.34765625e-01,  1.44531250e-01, -6.54296875e-02,  1.50146484e-02,\n",
              "       -3.63281250e-01,  1.23535156e-01,  6.10351562e-02,  1.83105469e-02,\n",
              "        8.54492188e-04,  4.08203125e-01,  1.99218750e-01, -3.59375000e-01,\n",
              "       -1.02539062e-02, -2.42187500e-01,  4.83398438e-02,  2.78320312e-02,\n",
              "        1.08886719e-01, -2.91015625e-01,  2.25585938e-01, -3.51562500e-01,\n",
              "        3.24218750e-01,  1.93359375e-01, -3.26171875e-01, -8.05664062e-02,\n",
              "       -2.03125000e-01,  2.79296875e-01, -8.49609375e-02, -6.07299805e-03,\n",
              "       -3.21960449e-03, -9.08203125e-02, -2.63671875e-01, -2.11914062e-01,\n",
              "       -2.85156250e-01,  1.49414062e-01,  5.82031250e-01, -1.56250000e-01,\n",
              "        2.98828125e-01,  2.81982422e-02, -5.61523438e-02, -1.66015625e-02,\n",
              "       -1.88476562e-01,  2.15820312e-01,  1.27929688e-01, -7.03125000e-02,\n",
              "       -9.21630859e-03, -5.76171875e-02, -6.73828125e-02, -4.60937500e-01,\n",
              "        8.34960938e-02,  1.37695312e-01,  1.60156250e-01, -3.27148438e-02,\n",
              "        6.78710938e-02, -4.90234375e-01,  2.16796875e-01, -1.30859375e-01,\n",
              "       -3.63769531e-02, -2.33398438e-01,  6.83593750e-02,  8.85009766e-03,\n",
              "       -1.76757812e-01, -2.89062500e-01,  1.13769531e-01, -1.33789062e-01,\n",
              "        5.51757812e-02,  9.86328125e-02,  1.07421875e-01, -1.92382812e-01,\n",
              "       -2.57812500e-01, -3.90625000e-01,  1.66015625e-01,  2.18750000e-01,\n",
              "        1.50390625e-01, -2.18750000e-01,  3.65234375e-01, -1.47460938e-01,\n",
              "       -3.32031250e-01,  2.49023438e-01,  1.30859375e-01, -3.78417969e-02,\n",
              "       -2.89306641e-02, -3.57421875e-01, -1.04980469e-01,  3.65234375e-01,\n",
              "       -4.71191406e-02, -1.54296875e-01,  8.30078125e-02, -5.92041016e-03,\n",
              "       -1.62109375e-01,  3.00598145e-03,  1.67968750e-01,  2.34375000e-01,\n",
              "        2.12890625e-01, -1.57226562e-01, -3.33984375e-01, -1.10351562e-01,\n",
              "       -2.91015625e-01, -4.41406250e-01,  3.41796875e-01,  9.61914062e-02,\n",
              "        9.03320312e-02, -2.04101562e-01,  1.97265625e-01, -1.52343750e-01,\n",
              "        1.64794922e-02,  2.49023438e-02,  1.05957031e-01,  1.63085938e-01,\n",
              "       -3.14941406e-02,  2.67578125e-01,  6.13281250e-01,  1.77734375e-01],\n",
              "      dtype=float32)"
            ]
          },
          "metadata": {},
          "execution_count": 23
        }
      ],
      "source": [
        "wv['hypertension']"
      ]
    },
    {
      "cell_type": "code",
      "execution_count": 19,
      "metadata": {
        "id": "Uz4dJkL6_VR4"
      },
      "outputs": [],
      "source": [
        "embedding_dir = 'gdrive/MyDrive/dataset/word2vec' # 파일 넣은 위치\n",
        "# word2vec을 가져옴\n",
        "def load_word2vec(tokenizer=tokenizer): \n",
        "    from gensim.models import KeyedVectors\n",
        "    embedding_path = os.path.join(embedding_dir, 'GoogleNews-vectors-negative300.bin')  # embedding_dir 위치에 다운로드 받은 파일을 넣기 다운받는데 시간이 좀 걸림\n",
        "    # https://s3.amazonaws.com/dl4j-distribution/GoogleNews-vectors-negative300.bin.gz 해당링크에서 파일 다운로드 1.5GB정도됨\n",
        "    embeddings_index = KeyedVectors.load_word2vec_format(embedding_path, binary=True)\n",
        "    \n",
        "    return embeddings_index  # embedding_index 를 불러옴, 예를들면 dog라는 단어가 있으면 dog의  index 500 을 가져옴\n",
        "    "
      ]
    },
    {
      "cell_type": "code",
      "execution_count": 20,
      "metadata": {
        "id": "bHkCVzI4TumR"
      },
      "outputs": [],
      "source": [
        "def load_embedding(embedding_type='word2vec',\n",
        "                   tokenizer=tokenizer,\n",
        "                   embedding_dim=300):\n",
        "    \n",
        "    if embedding_type == 'word2vec':\n",
        "        embeddings_index = load_word2vec()  # 위에서 언급한 함수가 사용됨 load_word2vec\n",
        "        \n",
        "    embedding_matrix = np.random.normal(0, 1, (max_nb_words, embedding_dim))\n",
        "    for word, i in tokenizer.word_index.items():\n",
        "        try:\n",
        "            embedding_vector = embeddings_index[word]\n",
        "        except KeyError:\n",
        "            embedding_vector = None\n",
        "        if embedding_vector is not None:\n",
        "            embedding_matrix[i] = embedding_vector\n",
        "            \n",
        "    return embedding_matrix  \n",
        "    # dog라른 단어가 있으면 해당 index를 구하고 해당 index를 찾아서 이에 대한 벡터를 가져옴\n",
        "    # 전체 사용한 단어에 대해서 이에 대한 벡터 매트릭스를 생성해줌\n",
        "    # 여기서는 124253단어에 대해서 해당 벡터를 전부 가져올 수 있음\n"
      ]
    },
    {
      "cell_type": "code",
      "execution_count": 31,
      "metadata": {
        "colab": {
          "base_uri": "https://localhost:8080/"
        },
        "id": "55Hd3H1WZynu",
        "outputId": "f5507eaf-57c4-4e29-82f6-a345f5a2016a"
      },
      "outputs": [
        {
          "output_type": "stream",
          "name": "stdout",
          "text": [
            "embedding_matrix.shape: (124253, 300)\n"
          ]
        }
      ],
      "source": [
        "embedding_matrix = load_embedding('word2vec')\n",
        "\n",
        "print(\"embedding_matrix.shape: {}\".format(embedding_matrix.shape))"
      ]
    },
    {
      "cell_type": "code",
      "execution_count": 32,
      "metadata": {
        "colab": {
          "base_uri": "https://localhost:8080/"
        },
        "id": "EFKP4bYbacNr",
        "outputId": "4d1c951f-625a-460d-c0f3-275787d746ff"
      },
      "outputs": [
        {
          "output_type": "execute_result",
          "data": {
            "text/plain": [
              "array([[ 0.45984797,  0.56733676,  0.05063067, ...,  1.02074833,\n",
              "        -0.81028831, -0.5840503 ],\n",
              "       [ 0.08007812,  0.10498047,  0.04980469, ...,  0.00366211,\n",
              "         0.04760742, -0.06884766],\n",
              "       [-0.4689894 ,  0.41318829, -0.57170987, ...,  0.73471328,\n",
              "        -0.17423395,  0.59422635],\n",
              "       ...,\n",
              "       [ 2.0395211 ,  0.43030003, -0.89985033, ..., -1.76559104,\n",
              "        -0.80215887, -1.45917962],\n",
              "       [-0.09130859, -0.28320312,  0.07128906, ..., -0.33789062,\n",
              "        -0.36132812,  0.29101562],\n",
              "       [-0.18066406,  0.10351562, -0.0324707 , ...,  0.19238281,\n",
              "        -0.14550781,  0.0480957 ]])"
            ]
          },
          "metadata": {},
          "execution_count": 32
        }
      ],
      "source": [
        "embedding_matrix # 총 124253 개의 단어들을 각각 300차원으로 만들어서 표현함"
      ]
    },
    {
      "cell_type": "code",
      "execution_count": null,
      "metadata": {
        "colab": {
          "base_uri": "https://localhost:8080/"
        },
        "id": "7mVSeeWRIe4W",
        "outputId": "5e2f0830-2d8e-4200-f03c-ebb6e2484b36"
      },
      "outputs": [
        {
          "data": {
            "text/plain": [
              "124253"
            ]
          },
          "execution_count": 102,
          "metadata": {},
          "output_type": "execute_result"
        }
      ],
      "source": [
        "embedding_matrix.shape[0]"
      ]
    },
    {
      "cell_type": "code",
      "execution_count": null,
      "metadata": {
        "colab": {
          "base_uri": "https://localhost:8080/"
        },
        "id": "ROk6AynVR5pt",
        "outputId": "1b20a895-65c9-4f30-8971-70cc6ed62676"
      },
      "outputs": [
        {
          "data": {
            "text/plain": [
              "300"
            ]
          },
          "execution_count": 103,
          "metadata": {},
          "output_type": "execute_result"
        }
      ],
      "source": [
        "embedding_matrix.shape[1]"
      ]
    },
    {
      "cell_type": "code",
      "execution_count": 33,
      "metadata": {
        "id": "CkUoJBvCNHBq"
      },
      "outputs": [],
      "source": [
        "# evaluation function 3가지\n",
        "def recall(y_target, y_pred):   # 2개 요소 실제값, 예측값 필요\n",
        "    # clip(t, clip_value_min, clip_value_max) : clip_value_min~clip_value_max 이외 가장자리를 깎아 낸다\n",
        "    # round : 반올림한다\n",
        "    y_target_yn = K.round(K.clip(y_target, 0, 1)) # 실제값을 0(Negative) 또는 1(Positive)로 설정한다\n",
        "    y_pred_yn = K.round(K.clip(y_pred, 0, 1)) # 예측값을 0(Negative) 또는 1(Positive)로 설정한다\n",
        "\n",
        "    # True Positive는 실제 값과 예측 값이 모두 1(Positive)인 경우이다\n",
        "    count_true_positive = K.sum(y_target_yn * y_pred_yn) \n",
        "\n",
        "    # (True Positive + False Negative) = 실제 값이 1(Positive) 전체\n",
        "    count_true_positive_false_negative = K.sum(y_target_yn)\n",
        "\n",
        "    # Recall =  (True Positive) / (True Positive + False Negative)\n",
        "    # K.epsilon()는 'divide by zero error' 예방차원에서 작은 수를 더한다\n",
        "    recall = count_true_positive / (count_true_positive_false_negative + K.epsilon())\n",
        "    \n",
        "    # TP = y_target_yn * y_pred_yn\n",
        "    # FN = y_target_yn - (y_target_yn * y_pred_yn) \n",
        "    \n",
        "    # return a single tensor value\n",
        "    return recall\n",
        "\n",
        "\n",
        "def precision(y_target, y_pred):# 2개 요소 실제값, 예측값 필요\n",
        "    # clip(t, clip_value_min, clip_value_max) : clip_value_min~clip_value_max 이외 가장자리를 깎아 낸다\n",
        "    # round : 반올림한다\n",
        "    y_pred_yn = K.round(K.clip(y_pred, 0, 1)) # 예측값을 0(Negative) 또는 1(Positive)로 설정한다\n",
        "    y_target_yn = K.round(K.clip(y_target, 0, 1)) # 실제값을 0(Negative) 또는 1(Positive)로 설정한다\n",
        "\n",
        "    # True Positive는 실제 값과 예측 값이 모두 1(Positive)인 경우이다\n",
        "    count_true_positive = K.sum(y_target_yn * y_pred_yn) \n",
        "\n",
        "    # (True Positive + False Positive) = 예측 값이 1(Positive) 전체\n",
        "    count_true_positive_false_positive = K.sum(y_pred_yn)\n",
        "\n",
        "    # Precision = (True Positive) / (True Positive + False Positive)\n",
        "    # K.epsilon()는 'divide by zero error' 예방차원에서 작은 수를 더한다\n",
        "    precision = count_true_positive / (count_true_positive_false_positive + K.epsilon())\n",
        "\n",
        "    # FP = y_pred_yn - (y_target_yn * y_pred_yn) \n",
        "    \n",
        "    # return a single tensor value\n",
        "    return precision\n",
        "\n",
        "\n",
        "def f1score(y_target, y_pred): # 2개 요소 실제값, 예측값 필요\n",
        "    _recall = recall(y_target, y_pred)\n",
        "    _precision = precision(y_target, y_pred)\n",
        "    # K.epsilon()는 'divide by zero error' 예방차원에서 작은 수를 더한다\n",
        "    _f1score = ( 2 * _recall * _precision) / (_recall + _precision+ K.epsilon())\n",
        "    \n",
        "    # return a single tensor value\n",
        "    return _f1score"
      ]
    },
    {
      "cell_type": "code",
      "execution_count": 34,
      "metadata": {
        "id": "0bpE5B-9_VVK"
      },
      "outputs": [],
      "source": [
        "class AttentionLayer(Layer):  # Layer를 가져옴\n",
        "    def __init__(self, attention_dim, **kwargs): #  **kwargs : list가져올때 씀\n",
        "        self.attention_dim = attention_dim\n",
        "        super(AttentionLayer, self).__init__(**kwargs)  # attentionlayer의 속성을 가져옴\n",
        "    \n",
        "    def build(self, input_shape):  \n",
        "        self.W = self.add_weight(name='Attention_Weight', # attention 값 이값을 확인해야하는것 같음\n",
        "                                 shape=(input_shape[-1], self.attention_dim),\n",
        "                                 initializer='random_normal',\n",
        "                                 trainable=True)  # 학습가능\n",
        "        self.b = self.add_weight(name='Attention_Bias',\n",
        "                                 shape=(self.attention_dim, ), # attention값과 쌍을 이룸?\n",
        "                                 initializer='random_normal',\n",
        "                                 trainable=True)\n",
        "        self.u = self.add_weight(name='Attention_Context_Vector',  # u: context vector\n",
        "                                 shape=(self.attention_dim, 1),  # attention값과 쌍을 이룸?\n",
        "                                 initializer='random_normal',\n",
        "                                 trainable=True)\n",
        "        super(AttentionLayer, self).build(input_shape)\n",
        "        \n",
        "    def call(self, x):\n",
        "        # refer to the original paper\n",
        "        # link: https://www.cs.cmu.edu/~hovy/papers/16HLT-hierarchical-attention-networks.pdf\n",
        "        u_it = K.tanh(K.dot(x, self.W) + self.b) # hiddenlayer와의 계산\n",
        "        a_it = K.dot(u_it, self.u)  # a가 attention을 의미함 word attention이라고 볼 수 있음\n",
        "        a_it = K.squeeze(a_it, -1) # 일자형태로 만들기\n",
        "        a_it = K.softmax(a_it)  # softmax함수 적용 합이1이 되게함\n",
        "        \n",
        "        return a_it\n",
        "        \n",
        "    def compute_output_shape(self, input_shape):\n",
        "        return (input_shape[0], input_shape[1])\n",
        "\n",
        "    \n"
      ]
    },
    {
      "cell_type": "code",
      "execution_count": 23,
      "metadata": {
        "id": "ta1-PGckjQVt",
        "colab": {
          "base_uri": "https://localhost:8080/"
        },
        "outputId": "a976b452-1497-47ed-c215-d9e0b1820403"
      },
      "outputs": [
        {
          "output_type": "stream",
          "name": "stderr",
          "text": [
            "/usr/local/lib/python3.7/dist-packages/keras/optimizer_v2/adam.py:105: UserWarning: The `lr` argument is deprecated, use `learning_rate` instead.\n",
            "  super(Adam, self).__init__(name, **kwargs)\n"
          ]
        }
      ],
      "source": [
        "\n",
        "def WeightedSum(attentions, representations): # \n",
        "    # from Shape(batch_size, len_units) to Shape(batch_size, rnn_dim * 2, len_units)\n",
        "    repeated_attentions = RepeatVector(K.int_shape(representations)[-1])(attentions)\n",
        "    # from Shape(batch_size, rnn_dim * 2, len_units) to Shape(batch_size, len_units, lstm_dim * 2)\n",
        "    repeated_attentions = Permute([2, 1])(repeated_attentions)\n",
        "\n",
        "    # compute representation as the weighted sum of representations\n",
        "    aggregated_representation = Multiply()([representations, repeated_attentions])\n",
        "    aggregated_representation = Lambda(lambda x: K.sum(x, axis=1))(aggregated_representation)\n",
        "\n",
        "    return aggregated_representation # 합쳐진 representation\n",
        "    \n",
        "    \n",
        "def HieAtt(embedding_matrix,  # word2vec한 값\n",
        "           max_sentences, \n",
        "           max_sentence_length,\n",
        "           nb_classes,  # 클래스의 개수 여기서는 2개 \n",
        "           embedding_dim=300,  # 임베딩 차원 여기서는 300차원으로 변환시킴\n",
        "           attention_dim=100,\n",
        "           rnn_dim=150,\n",
        "           include_dense_batch_normalization=False,\n",
        "           include_dense_dropout=True,\n",
        "           nb_dense=1,\n",
        "           dense_dim=300,\n",
        "           dense_dropout=0.2,\n",
        "           optimizer = tf.keras.optimizers.Adam(lr=0.001)):\n",
        "    # Use tf.keras.optimizers.Adam(learning_rate) instead of keras.optimizers.Adam(learning_rate)\n",
        "\n",
        "    # embedding_matrix = (max_nb_words + 1, embedding_dim)\n",
        "    max_nb_words = embedding_matrix.shape[0] - 1  # 124253-1\n",
        "    embedding_layer = Embedding(max_nb_words + 1, \n",
        "                                embedding_dim,   \n",
        "                                weights=[embedding_matrix],\n",
        "                                input_length=max_sentence_length,     # input\n",
        "                                trainable=False)   # embedding한걸 다시 학습할 필요없음\n",
        "\n",
        "    # first, build a sentence encoder\n",
        "    sentence_input = Input(shape=(max_sentence_length, ), dtype='int32')\n",
        "    embedded_sentence = embedding_layer(sentence_input)   # sentence에 대한 임베딩 / sentence단위의 임베딩으로 한단계 위\n",
        "    embedded_sentence = Dropout(dense_dropout)(embedded_sentence)\n",
        "    contextualized_sentence = Bidirectional(GRU(rnn_dim, return_sequences=True))(embedded_sentence) # CuDNNGRU\n",
        "    # embedded sentence 를 bidirectional featrue2개가 생성되고 두개가 합쳐짐\n",
        "    \n",
        "    # word attention computation\n",
        "    word_attention = AttentionLayer(attention_dim)(contextualized_sentence)  # 위에서 설정한 attentionlayer함수사용\n",
        "    sentence_representation = WeightedSum(word_attention, contextualized_sentence)  # 위에서 설정한 weightedsum 함수사용\n",
        "    \n",
        "    sentence_encoder = Model(inputs=[sentence_input],   # from keras.models import Model,\n",
        "                             outputs=[sentence_representation])  # sentence를 벡터로 표현하는 과정\n",
        "\n",
        "    # then, build a document encoder (최종 아웃풋임)\n",
        "    document_input = Input(shape=(max_sentences, max_sentence_length), dtype='int32')\n",
        "    embedded_document = TimeDistributed(sentence_encoder)(document_input)\n",
        "    contextualized_document = Bidirectional(GRU(rnn_dim, return_sequences=True))(embedded_document)  # CuDNNGRU\n",
        "    # sentence를 이용해서 doc에 대한 representation v계산\n",
        "    \n",
        "    # sentence attention computation\n",
        "    sentence_attention = AttentionLayer(attention_dim)(contextualized_document)  \n",
        "    # 해당 코드에서 가장 중요한 부분 : sentence_attention  각 sentence별 attention값이 계산되는것을 확인\n",
        "    document_representation = WeightedSum(sentence_attention, contextualized_document)\n",
        "    # doc에 대해 하나로 표현가능한 vector값이 나오게됨\n",
        "\n",
        "    # 마지막 fc layer를 통해서 분류문제를 해결하고자 함\n",
        "    # finally, add fc layers for classification\n",
        "    fc_layers = Sequential()\n",
        "    for _ in range(nb_dense): # 클래스 수만큼 fc layer를 수행함\n",
        "        if include_dense_batch_normalization == True:  #  batch norm 을 한경우\n",
        "            fc_layers.add(BatchNormalization())\n",
        "        fc_layers.add(Dense(dense_dim, activation='relu'))\n",
        "        if include_dense_dropout == True:   # drop_out 을 한경우\n",
        "            fc_layers.add(Dropout(dense_dropout))\n",
        "    fc_layers.add(Dense(nb_classes, activation='softmax'))  # soft max \n",
        "    \n",
        "    pred_sentiment = fc_layers(document_representation) # 최종 결과값이라 볼 수 있음\n",
        "\n",
        "    model = Model(inputs=[document_input],\n",
        "                  outputs=[pred_sentiment])\n",
        "    \n",
        "    ############### build attention extractor ###############\n",
        "    word_attention_extractor = Model(inputs=[sentence_input],\n",
        "                                     outputs=[word_attention])\n",
        "    word_attentions = TimeDistributed(word_attention_extractor)(document_input)\n",
        "    attention_extractor = Model(inputs=[document_input],\n",
        "                                     outputs=[word_attentions, sentence_attention])\n",
        "    # 모델에 대한 마지막 정의\n",
        "    model.compile(loss=['categorical_crossentropy'],\n",
        "              optimizer=optimizer,\n",
        "              metrics=['accuracy'])\n",
        "\n",
        "    return model, attention_extractor, sentence_attention, word_attentions"
      ]
    },
    {
      "cell_type": "code",
      "execution_count": 24,
      "metadata": {
        "colab": {
          "base_uri": "https://localhost:8080/",
          "height": 34
        },
        "id": "UN1j1dWcGTYH",
        "outputId": "5b43daaa-7674-4d35-c9e1-3ed8d887af89"
      },
      "outputs": [
        {
          "output_type": "execute_result",
          "data": {
            "text/plain": [
              "'/content'"
            ],
            "application/vnd.google.colaboratory.intrinsic+json": {
              "type": "string"
            }
          },
          "metadata": {},
          "execution_count": 24
        }
      ],
      "source": [
        "import os\n",
        "os.getcwd()"
      ]
    },
    {
      "cell_type": "markdown",
      "metadata": {
        "id": "tR-D7wgJFDgw"
      },
      "source": [
        "# model학습"
      ]
    },
    {
      "cell_type": "code",
      "execution_count": 35,
      "metadata": {
        "colab": {
          "base_uri": "https://localhost:8080/"
        },
        "id": "owsfhXOzeYmP",
        "outputId": "3ef15baf-b9d7-48da-917c-50e3d99fb140"
      },
      "outputs": [
        {
          "output_type": "stream",
          "name": "stderr",
          "text": [
            "/usr/local/lib/python3.7/dist-packages/keras/optimizer_v2/adam.py:105: UserWarning: The `lr` argument is deprecated, use `learning_rate` instead.\n",
            "  super(Adam, self).__init__(name, **kwargs)\n"
          ]
        }
      ],
      "source": [
        "model_name = \"HieAtt\"\n",
        "model_path = '/models/checkpoints/{}.h5'.format(model_name)\n",
        "checkpointer = ModelCheckpoint(filepath=model_path,\n",
        "                               monitor='val_acc',\n",
        "                               verbose=True,\n",
        "                               save_best_only=True,\n",
        "                               mode='max')\n",
        "\n",
        "model, attention_extractor, sentence_att, word_att = HieAtt(embedding_matrix=embedding_matrix,\n",
        "                                    max_sentences=MAX_SENTENCES,\n",
        "                                    max_sentence_length=MAX_SENTENCE_LENGTH,\n",
        "                                    nb_classes=2,\n",
        "                                    embedding_dim=300,\n",
        "                                    attention_dim=100,\n",
        "                                    rnn_dim=150,\n",
        "                                    include_dense_batch_normalization=False,\n",
        "                                    include_dense_dropout=True,\n",
        "                                    nb_dense=1,\n",
        "                                    dense_dim=300,\n",
        "                                    dense_dropout=0.2,\n",
        "                                    optimizer = tf.keras.optimizers.Adam(lr=0.001)\n",
        "                                    )\n"
      ]
    },
    {
      "cell_type": "code",
      "execution_count": 36,
      "metadata": {
        "colab": {
          "base_uri": "https://localhost:8080/"
        },
        "id": "McMr1wV-HnSy",
        "outputId": "ace0f2e5-cc18-42e6-b4f0-edf85ac8e0d7"
      },
      "outputs": [
        {
          "output_type": "execute_result",
          "data": {
            "text/plain": [
              "<keras.engine.functional.Functional at 0x7fb9fdeaf990>"
            ]
          },
          "metadata": {},
          "execution_count": 36
        }
      ],
      "source": [
        "model"
      ]
    },
    {
      "cell_type": "code",
      "execution_count": 37,
      "metadata": {
        "colab": {
          "base_uri": "https://localhost:8080/"
        },
        "id": "9VJni7kJQOPH",
        "outputId": "47866e0f-7205-4f81-b9df-267e53aa0917"
      },
      "outputs": [
        {
          "output_type": "stream",
          "name": "stdout",
          "text": [
            "Model: \"model_1\"\n",
            "__________________________________________________________________________________________________\n",
            " Layer (type)                   Output Shape         Param #     Connected to                     \n",
            "==================================================================================================\n",
            " input_2 (InputLayer)           [(None, 10, 25)]     0           []                               \n",
            "                                                                                                  \n",
            " time_distributed (TimeDistribu  (None, 10, 300)     37712900    ['input_2[0][0]']                \n",
            " ted)                                                                                             \n",
            "                                                                                                  \n",
            " bidirectional_1 (Bidirectional  (None, 10, 300)     406800      ['time_distributed[0][0]']       \n",
            " )                                                                                                \n",
            "                                                                                                  \n",
            " attention_layer_1 (AttentionLa  (None, 10)          30200       ['bidirectional_1[0][0]']        \n",
            " yer)                                                                                             \n",
            "                                                                                                  \n",
            " repeat_vector_1 (RepeatVector)  (None, 300, 10)     0           ['attention_layer_1[0][0]']      \n",
            "                                                                                                  \n",
            " permute_1 (Permute)            (None, 10, 300)      0           ['repeat_vector_1[0][0]']        \n",
            "                                                                                                  \n",
            " multiply_1 (Multiply)          (None, 10, 300)      0           ['bidirectional_1[0][0]',        \n",
            "                                                                  'permute_1[0][0]']              \n",
            "                                                                                                  \n",
            " lambda_1 (Lambda)              (None, 300)          0           ['multiply_1[0][0]']             \n",
            "                                                                                                  \n",
            " sequential (Sequential)        (None, 2)            90902       ['lambda_1[0][0]']               \n",
            "                                                                                                  \n",
            "==================================================================================================\n",
            "Total params: 38,240,802\n",
            "Trainable params: 964,902\n",
            "Non-trainable params: 37,275,900\n",
            "__________________________________________________________________________________________________\n"
          ]
        }
      ],
      "source": [
        "model.summary()  # OUTPUT SHAPE를 확인 가능"
      ]
    },
    {
      "cell_type": "code",
      "execution_count": null,
      "metadata": {
        "colab": {
          "base_uri": "https://localhost:8080/"
        },
        "id": "pYqw1Dt9IJfg",
        "outputId": "25b351a2-1425-4cbc-aaac-44d4acb9242a"
      },
      "outputs": [
        {
          "output_type": "execute_result",
          "data": {
            "text/plain": [
              "<keras.engine.functional.Functional at 0x7f953ba02990>"
            ]
          },
          "metadata": {},
          "execution_count": 35
        }
      ],
      "source": [
        "attention_extractor"
      ]
    },
    {
      "cell_type": "code",
      "execution_count": null,
      "metadata": {
        "colab": {
          "base_uri": "https://localhost:8080/"
        },
        "id": "8LeJjEp9KLKK",
        "outputId": "658d45f9-22c2-48b4-ee93-234de7d84048"
      },
      "outputs": [
        {
          "output_type": "execute_result",
          "data": {
            "text/plain": [
              "list"
            ]
          },
          "metadata": {},
          "execution_count": 36
        }
      ],
      "source": [
        "x=[train_X_data];type(x)"
      ]
    },
    {
      "cell_type": "code",
      "execution_count": null,
      "metadata": {
        "colab": {
          "base_uri": "https://localhost:8080/"
        },
        "id": "OAWsT5QMKL0m",
        "outputId": "3a63df06-d967-4436-8b53-a2e6df9c0997"
      },
      "outputs": [
        {
          "output_type": "execute_result",
          "data": {
            "text/plain": [
              "list"
            ]
          },
          "metadata": {},
          "execution_count": 37
        }
      ],
      "source": [
        "y=[train_Y_data]; type(y)"
      ]
    },
    {
      "cell_type": "code",
      "execution_count": null,
      "metadata": {
        "colab": {
          "base_uri": "https://localhost:8080/"
        },
        "id": "2xKcx-nhKVUB",
        "outputId": "2c80e0be-78fe-489f-90bb-1e740369524e"
      },
      "outputs": [
        {
          "output_type": "execute_result",
          "data": {
            "text/plain": [
              "tuple"
            ]
          },
          "metadata": {},
          "execution_count": 38
        }
      ],
      "source": [
        "validation_data=(val_X_data, val_Y_data) ;type(validation_data) # TUPLE"
      ]
    },
    {
      "cell_type": "code",
      "execution_count": null,
      "metadata": {
        "colab": {
          "base_uri": "https://localhost:8080/"
        },
        "id": "rGIJ36t_SWTe",
        "outputId": "4f2ec745-11e3-40b3-921a-7673c0e567b0"
      },
      "outputs": [
        {
          "output_type": "execute_result",
          "data": {
            "text/plain": [
              "list"
            ]
          },
          "metadata": {},
          "execution_count": 39
        }
      ],
      "source": [
        "validation_data=[val_X_data, val_Y_data] ;type(validation_data) # LIST "
      ]
    },
    {
      "cell_type": "code",
      "execution_count": 38,
      "metadata": {
        "colab": {
          "base_uri": "https://localhost:8080/"
        },
        "id": "h-EpZMJYGqtc",
        "outputId": "0aa007a9-3ab3-46f9-86e8-11f5c7b10be3"
      },
      "outputs": [
        {
          "output_type": "execute_result",
          "data": {
            "text/plain": [
              "37370"
            ]
          },
          "metadata": {},
          "execution_count": 38
        }
      ],
      "source": [
        "# 실제 데이터에 적용하는 과정\n",
        "# Hyperparameter\n",
        "max_sentences = 35\n",
        "max_sentence_length = 10  # maxlen이랑 같음\n",
        "# 사전에서 단어 수(embedding layer에서 사용)\n",
        "max_nb_words = len(tokenizer.word_index) + 1\n",
        "\n",
        "early_stop = EarlyStopping(monitor='val_loss', patience=10)\n",
        "import gc\n",
        "gc.collect()"
      ]
    },
    {
      "cell_type": "code",
      "execution_count": null,
      "metadata": {
        "colab": {
          "base_uri": "https://localhost:8080/"
        },
        "id": "vtfzXfbEWxee",
        "outputId": "5d378a25-f500-4114-b45d-ba3d69eb1e88"
      },
      "outputs": [
        {
          "data": {
            "text/plain": [
              "(25000, 10, 25)"
            ]
          },
          "execution_count": 90,
          "metadata": {},
          "output_type": "execute_result"
        }
      ],
      "source": [
        "train_X_data.shape"
      ]
    },
    {
      "cell_type": "code",
      "execution_count": null,
      "metadata": {
        "colab": {
          "base_uri": "https://localhost:8080/"
        },
        "id": "EtmqDpc6W0jm",
        "outputId": "e0be4802-e832-4f52-9e40-75315da0f560"
      },
      "outputs": [
        {
          "data": {
            "text/plain": [
              "numpy.ndarray"
            ]
          },
          "execution_count": 91,
          "metadata": {},
          "output_type": "execute_result"
        }
      ],
      "source": [
        "type(train_X_data)"
      ]
    },
    {
      "cell_type": "code",
      "execution_count": null,
      "metadata": {
        "colab": {
          "base_uri": "https://localhost:8080/"
        },
        "id": "JbD85ES1W2kF",
        "outputId": "74099c7f-e27b-4ef6-e243-78d69ea1b8d5"
      },
      "outputs": [
        {
          "data": {
            "text/plain": [
              "(2500, 10, 25)"
            ]
          },
          "execution_count": 106,
          "metadata": {},
          "output_type": "execute_result"
        }
      ],
      "source": [
        "val_X_data.shape"
      ]
    },
    {
      "cell_type": "code",
      "execution_count": null,
      "metadata": {
        "colab": {
          "base_uri": "https://localhost:8080/"
        },
        "id": "vf2JAJKVW58V",
        "outputId": "0c78029f-49ff-4583-de09-5912e6eee1f5"
      },
      "outputs": [
        {
          "data": {
            "text/plain": [
              "numpy.ndarray"
            ]
          },
          "execution_count": 107,
          "metadata": {},
          "output_type": "execute_result"
        }
      ],
      "source": [
        "type(val_X_data)"
      ]
    },
    {
      "cell_type": "code",
      "execution_count": 39,
      "metadata": {
        "colab": {
          "base_uri": "https://localhost:8080/"
        },
        "id": "jND3x0w8P64X",
        "outputId": "f980255f-aee5-4886-9eb4-49148bafc23a"
      },
      "outputs": [
        {
          "output_type": "stream",
          "name": "stdout",
          "text": [
            "Epoch 1/20\n",
            "176/176 [==============================] - 20s 47ms/step - loss: 0.5203 - accuracy: 0.7225 - val_loss: 0.4315 - val_accuracy: 0.8104\n",
            "Epoch 2/20\n",
            "176/176 [==============================] - 7s 39ms/step - loss: 0.3665 - accuracy: 0.8374 - val_loss: 0.3368 - val_accuracy: 0.8564\n",
            "Epoch 3/20\n",
            "176/176 [==============================] - 7s 39ms/step - loss: 0.3314 - accuracy: 0.8572 - val_loss: 0.3241 - val_accuracy: 0.8632\n",
            "Epoch 4/20\n",
            "176/176 [==============================] - 7s 38ms/step - loss: 0.3134 - accuracy: 0.8668 - val_loss: 0.3458 - val_accuracy: 0.8548\n",
            "Epoch 5/20\n",
            "176/176 [==============================] - 7s 38ms/step - loss: 0.2949 - accuracy: 0.8757 - val_loss: 0.3149 - val_accuracy: 0.8684\n",
            "Epoch 6/20\n",
            "176/176 [==============================] - 7s 38ms/step - loss: 0.2765 - accuracy: 0.8848 - val_loss: 0.3177 - val_accuracy: 0.8728\n",
            "Epoch 7/20\n",
            "176/176 [==============================] - 7s 38ms/step - loss: 0.2572 - accuracy: 0.8941 - val_loss: 0.3558 - val_accuracy: 0.8552\n",
            "Epoch 8/20\n",
            "176/176 [==============================] - 7s 38ms/step - loss: 0.2365 - accuracy: 0.9036 - val_loss: 0.3744 - val_accuracy: 0.8604\n",
            "Epoch 9/20\n",
            "176/176 [==============================] - 7s 38ms/step - loss: 0.2162 - accuracy: 0.9110 - val_loss: 0.3205 - val_accuracy: 0.8656\n",
            "Epoch 10/20\n",
            "176/176 [==============================] - 7s 38ms/step - loss: 0.1958 - accuracy: 0.9231 - val_loss: 0.3321 - val_accuracy: 0.8644\n",
            "Epoch 11/20\n",
            "176/176 [==============================] - 7s 38ms/step - loss: 0.1765 - accuracy: 0.9285 - val_loss: 0.3898 - val_accuracy: 0.8492\n",
            "Epoch 12/20\n",
            "176/176 [==============================] - 7s 38ms/step - loss: 0.1543 - accuracy: 0.9392 - val_loss: 0.3757 - val_accuracy: 0.8716\n",
            "Epoch 13/20\n",
            "176/176 [==============================] - 7s 38ms/step - loss: 0.1392 - accuracy: 0.9442 - val_loss: 0.3741 - val_accuracy: 0.8624\n",
            "Epoch 14/20\n",
            "176/176 [==============================] - 7s 38ms/step - loss: 0.1191 - accuracy: 0.9538 - val_loss: 0.3932 - val_accuracy: 0.8652\n",
            "Epoch 15/20\n",
            "176/176 [==============================] - 7s 38ms/step - loss: 0.1066 - accuracy: 0.9588 - val_loss: 0.4293 - val_accuracy: 0.8628\n"
          ]
        }
      ],
      "source": [
        "history = model.fit(x=train_X_data,  # x : list\n",
        "                    y=train_Y_data,  # y: list\n",
        "                    batch_size=128,\n",
        "                    epochs=20,\n",
        "                    verbose=True,\n",
        "                    validation_data=(val_X_data, val_Y_data)  # tuple , 'NoneType' object is not callable\n",
        "                    ,callbacks=[early_stop]\n",
        "                    )\n",
        "                    #,callbacks=[early_stop])\n",
        "\n",
        "\n",
        "# error\n",
        "# def _fixup_shape(images, labels):\n",
        "#    images.set_shape([None, 15, 256, 256, 3])\n",
        "#    labels.set_shape([None, 12])\n",
        "#    return images, labels\n",
        "# as_list() is not defined on an unknown tensorshape\n",
        "\n"
      ]
    },
    {
      "cell_type": "code",
      "source": [
        "model.weights"
      ],
      "metadata": {
        "id": "CS0tdTn2sm8P"
      },
      "execution_count": null,
      "outputs": []
    },
    {
      "cell_type": "code",
      "source": [
        ""
      ],
      "metadata": {
        "colab": {
          "base_uri": "https://localhost:8080/",
          "height": 169
        },
        "id": "rNGcl4K5tU89",
        "outputId": "c04cf11a-5303-46ee-afe1-24660cc32a07"
      },
      "execution_count": 81,
      "outputs": [
        {
          "output_type": "error",
          "ename": "AttributeError",
          "evalue": "ignored",
          "traceback": [
            "\u001b[0;31m---------------------------------------------------------------------------\u001b[0m",
            "\u001b[0;31mAttributeError\u001b[0m                            Traceback (most recent call last)",
            "\u001b[0;32m<ipython-input-81-28fe4e14479c>\u001b[0m in \u001b[0;36m<module>\u001b[0;34m()\u001b[0m\n\u001b[0;32m----> 1\u001b[0;31m \u001b[0mmodel\u001b[0m\u001b[0;34m.\u001b[0m\u001b[0mstate_dict\u001b[0m\u001b[0;34m(\u001b[0m\u001b[0;34m)\u001b[0m\u001b[0;34m\u001b[0m\u001b[0;34m\u001b[0m\u001b[0m\n\u001b[0m",
            "\u001b[0;31mAttributeError\u001b[0m: 'Functional' object has no attribute 'state_dict'"
          ]
        }
      ]
    },
    {
      "cell_type": "markdown",
      "source": [
        "# 모델 저장/불러오기"
      ],
      "metadata": {
        "id": "bKeeOQtdn4fL"
      }
    },
    {
      "cell_type": "code",
      "source": [
        "# 모델 저장해보기\n",
        "# 모델 전체 저장하기 / 총 50개의 모델에 대해서 저장함\n",
        "import torch as th\n",
        "# Pytorch 모델 파일은 확장자가 pt\n",
        "\n",
        "\n",
        "path = 'gdrive/MyDrive/dataset/model/han.pt'\n",
        "th.save(model,path)"
      ],
      "metadata": {
        "colab": {
          "base_uri": "https://localhost:8080/"
        },
        "id": "nxfTdqIkn1rT",
        "outputId": "3e7b252e-a32d-425f-c7a4-9e3bd4a2d9de"
      },
      "execution_count": 83,
      "outputs": [
        {
          "output_type": "stream",
          "name": "stderr",
          "text": [
            "WARNING:absl:Found untraced functions such as gru_cell_4_layer_call_fn, gru_cell_4_layer_call_and_return_conditional_losses, gru_cell_5_layer_call_fn, gru_cell_5_layer_call_and_return_conditional_losses, gru_cell_1_layer_call_fn while saving (showing 5 of 8). These functions will not be directly callable after loading.\n"
          ]
        },
        {
          "output_type": "stream",
          "name": "stdout",
          "text": [
            "INFO:tensorflow:Assets written to: ram://984a8b4b-8313-4d2f-9e63-4ec64215132a/assets\n"
          ]
        },
        {
          "output_type": "stream",
          "name": "stderr",
          "text": [
            "INFO:tensorflow:Assets written to: ram://984a8b4b-8313-4d2f-9e63-4ec64215132a/assets\n",
            "WARNING:absl:<keras.layers.recurrent.GRUCell object at 0x7fb9d7f523d0> has the same name 'GRUCell' as a built-in Keras object. Consider renaming <class 'keras.layers.recurrent.GRUCell'> to avoid naming conflicts when loading with `tf.keras.models.load_model`. If renaming is not possible, pass the object in the `custom_objects` parameter of the load function.\n",
            "WARNING:absl:<keras.layers.recurrent.GRUCell object at 0x7fba007f5a50> has the same name 'GRUCell' as a built-in Keras object. Consider renaming <class 'keras.layers.recurrent.GRUCell'> to avoid naming conflicts when loading with `tf.keras.models.load_model`. If renaming is not possible, pass the object in the `custom_objects` parameter of the load function.\n",
            "WARNING:absl:<keras.layers.recurrent.GRUCell object at 0x7fb9e795f050> has the same name 'GRUCell' as a built-in Keras object. Consider renaming <class 'keras.layers.recurrent.GRUCell'> to avoid naming conflicts when loading with `tf.keras.models.load_model`. If renaming is not possible, pass the object in the `custom_objects` parameter of the load function.\n",
            "WARNING:absl:<keras.layers.recurrent.GRUCell object at 0x7fb9e795f150> has the same name 'GRUCell' as a built-in Keras object. Consider renaming <class 'keras.layers.recurrent.GRUCell'> to avoid naming conflicts when loading with `tf.keras.models.load_model`. If renaming is not possible, pass the object in the `custom_objects` parameter of the load function.\n"
          ]
        }
      ]
    },
    {
      "cell_type": "code",
      "source": [
        "# Pytorch에서 모델의 state_dict은 학습가능한 매개변수가 담겨있는 딕셔너리(Dictionary)\n",
        "# th.save(history.state_dict(), path)"
      ],
      "metadata": {
        "id": "0PfVAzSCn3PN"
      },
      "execution_count": 84,
      "outputs": []
    },
    {
      "cell_type": "code",
      "source": [
        "# 모델 불러오기\n",
        "model = th.load('gdrive/MyDrive/dataset/model/han.pt')  # 전체 모델을 통째로 불러옴, 클래스 선언 필수"
      ],
      "metadata": {
        "id": "hdclEjGAn3Vc"
      },
      "execution_count": 86,
      "outputs": []
    },
    {
      "cell_type": "code",
      "execution_count": null,
      "metadata": {
        "colab": {
          "base_uri": "https://localhost:8080/"
        },
        "id": "JLq6AdLvX2e0",
        "outputId": "e550d9f2-2cd6-4936-f0f4-42e418c21f27"
      },
      "outputs": [
        {
          "output_type": "stream",
          "name": "stdout",
          "text": [
            "KerasTensor(type_spec=TensorSpec(shape=(None, 10), dtype=tf.float32, name=None), name='attention_layer_1/Softmax:0', description=\"created by layer 'attention_layer_1'\")\n"
          ]
        }
      ],
      "source": [
        "print(sentence_att)"
      ]
    },
    {
      "cell_type": "code",
      "execution_count": null,
      "metadata": {
        "colab": {
          "base_uri": "https://localhost:8080/"
        },
        "id": "bRuA7QbjKqKj",
        "outputId": "b37174db-b66f-4cc1-a781-e79ace01fb1f"
      },
      "outputs": [
        {
          "output_type": "stream",
          "name": "stdout",
          "text": [
            "KerasTensor(type_spec=TensorSpec(shape=(None, 10, 25), dtype=tf.float32, name=None), name='time_distributed_1/Reshape_1:0', description=\"created by layer 'time_distributed_1'\")\n"
          ]
        }
      ],
      "source": [
        "print(word_att)"
      ]
    },
    {
      "cell_type": "code",
      "execution_count": null,
      "metadata": {
        "colab": {
          "base_uri": "https://localhost:8080/"
        },
        "id": "eimpQWvt_VYo",
        "outputId": "dd3ac14f-dfff-45c2-9423-f31012d6181a"
      },
      "outputs": [
        {
          "output_type": "stream",
          "name": "stdout",
          "text": [
            "Test Accuracy of HieAtt: 0.861240029335022\n"
          ]
        }
      ],
      "source": [
        "#model.load_weights(model_path)\n",
        "score = model.evaluate(test_X_data, test_Y_data, verbose=0, batch_size=128)\n",
        "print(\"Test Accuracy of {}: {}\".format(model_name, score[1]))"
      ]
    },
    {
      "cell_type": "markdown",
      "metadata": {
        "id": "kdnv_b15GrRb"
      },
      "source": [
        "# 결과 시각화 "
      ]
    },
    {
      "cell_type": "code",
      "execution_count": 87,
      "metadata": {
        "colab": {
          "base_uri": "https://localhost:8080/",
          "height": 295
        },
        "id": "B4GLYO136SkS",
        "outputId": "356086dc-4a9c-4a94-ee2c-606b8b5b294c"
      },
      "outputs": [
        {
          "output_type": "display_data",
          "data": {
            "text/plain": [
              "<Figure size 432x288 with 1 Axes>"
            ],
            "image/png": "[encoded data removed]"
          },
          "metadata": {
            "needs_background": "light"
          }
        }
      ],
      "source": [
        "import matplotlib.pyplot as plt\n",
        "\n",
        "history_dict = history.history\n",
        "loss = history_dict['loss']\n",
        "val_loss = history_dict['val_loss']\n",
        "\n",
        "epochs = range(1, len(loss) + 1)\n",
        "\n",
        "plt.plot(epochs, loss, 'bo', label='Training loss')\n",
        "plt.plot(epochs, val_loss, 'b', label='Validation loss')\n",
        "plt.title('Training and validation loss')\n",
        "plt.xlabel('Epochs')\n",
        "plt.ylabel('Loss')\n",
        "plt.legend()\n",
        "\n",
        "plt.show()"
      ]
    },
    {
      "cell_type": "code",
      "execution_count": 88,
      "metadata": {
        "colab": {
          "base_uri": "https://localhost:8080/",
          "height": 295
        },
        "id": "q83837Y4_dhm",
        "outputId": "92def5dd-7545-4e71-9d84-3558b62c1f54"
      },
      "outputs": [
        {
          "output_type": "display_data",
          "data": {
            "text/plain": [
              "<Figure size 432x288 with 1 Axes>"
            ],
            "image/png": "[encoded data removed]"
          },
          "metadata": {
            "needs_background": "light"
          }
        }
      ],
      "source": [
        "plt.clf()\n",
        "acc = history_dict['accuracy']\n",
        "val_acc = history_dict['val_accuracy']\n",
        "\n",
        "epochs = range(1, len(loss) + 1)\n",
        "\n",
        "plt.plot(epochs, acc, 'bo', label='Training acc')\n",
        "plt.plot(epochs, val_acc, 'b', label='Validation acc')\n",
        "plt.title('Training and validation accuracy')\n",
        "plt.xlabel('Epochs')\n",
        "plt.ylabel('Accuracy')\n",
        "plt.legend()\n",
        "\n",
        "plt.show()"
      ]
    },
    {
      "cell_type": "code",
      "execution_count": 89,
      "metadata": {
        "colab": {
          "base_uri": "https://localhost:8080/"
        },
        "id": "GTsqYBoB_dkj",
        "outputId": "bb4eb87e-d2d8-4021-b001-2585b4903a53"
      },
      "outputs": [
        {
          "output_type": "stream",
          "name": "stdout",
          "text": [
            "Model: \"model_1\"\n",
            "__________________________________________________________________________________________________\n",
            " Layer (type)                   Output Shape         Param #     Connected to                     \n",
            "==================================================================================================\n",
            " input_2 (InputLayer)           [(None, 10, 25)]     0           []                               \n",
            "                                                                                                  \n",
            " time_distributed (TimeDistribu  (None, 10, 300)     37712900    ['input_2[0][0]']                \n",
            " ted)                                                                                             \n",
            "                                                                                                  \n",
            " bidirectional_1 (Bidirectional  (None, 10, 300)     406800      ['time_distributed[0][0]']       \n",
            " )                                                                                                \n",
            "                                                                                                  \n",
            " attention_layer_1 (AttentionLa  (None, 10)          30200       ['bidirectional_1[0][0]']        \n",
            " yer)                                                                                             \n",
            "                                                                                                  \n",
            " repeat_vector_1 (RepeatVector)  (None, 300, 10)     0           ['attention_layer_1[0][0]']      \n",
            "                                                                                                  \n",
            " permute_1 (Permute)            (None, 10, 300)      0           ['repeat_vector_1[0][0]']        \n",
            "                                                                                                  \n",
            " multiply_1 (Multiply)          (None, 10, 300)      0           ['bidirectional_1[0][0]',        \n",
            "                                                                  'permute_1[0][0]']              \n",
            "                                                                                                  \n",
            " lambda_1 (Lambda)              (None, 300)          0           ['multiply_1[0][0]']             \n",
            "                                                                                                  \n",
            " sequential (Sequential)        (None, 2)            90902       ['lambda_1[0][0]']               \n",
            "                                                                                                  \n",
            "==================================================================================================\n",
            "Total params: 38,240,802\n",
            "Trainable params: 964,902\n",
            "Non-trainable params: 37,275,900\n",
            "__________________________________________________________________________________________________\n"
          ]
        }
      ],
      "source": [
        "model.summary()"
      ]
    },
    {
      "cell_type": "code",
      "execution_count": null,
      "metadata": {
        "id": "376HU-uc_dnV"
      },
      "outputs": [],
      "source": [
        "import seaborn as sn\n"
      ]
    },
    {
      "cell_type": "code",
      "source": [
        "\n",
        "word_rev_index = {}\n",
        "for word, i in tokenizer.word_index.items():\n",
        "    word_rev_index[i] = word\n"
      ],
      "metadata": {
        "id": "lpzgGvNxtX1-"
      },
      "execution_count": 90,
      "outputs": []
    },
    {
      "cell_type": "code",
      "execution_count": 91,
      "metadata": {
        "id": "2dx_hxcsYr32",
        "colab": {
          "base_uri": "https://localhost:8080/"
        },
        "outputId": "97a417cc-d8d7-4ad8-8029-ea02184ed999"
      },
      "outputs": [
        {
          "output_type": "execute_result",
          "data": {
            "text/plain": [
              "{1: 'the',\n",
              " 2: 'and',\n",
              " 3: 'a',\n",
              " 4: 'of',\n",
              " 5: 'to',\n",
              " 6: 'is',\n",
              " 7: 'br',\n",
              " 8: 'in',\n",
              " 9: 'it',\n",
              " 10: 'i',\n",
              " 11: 'this',\n",
              " 12: 'that',\n",
              " 13: 'was',\n",
              " 14: 'as',\n",
              " 15: 'for',\n",
              " 16: 'with',\n",
              " 17: 'movie',\n",
              " 18: 'but',\n",
              " 19: 'film',\n",
              " 20: 'on',\n",
              " 21: 'not',\n",
              " 22: 'you',\n",
              " 23: 'are',\n",
              " 24: 'his',\n",
              " 25: 'have',\n",
              " 26: 'be',\n",
              " 27: 'one',\n",
              " 28: 'he',\n",
              " 29: 'all',\n",
              " 30: 'at',\n",
              " 31: 'by',\n",
              " 32: 'an',\n",
              " 33: 'they',\n",
              " 34: 'so',\n",
              " 35: 'who',\n",
              " 36: 'from',\n",
              " 37: 'like',\n",
              " 38: 'or',\n",
              " 39: 'just',\n",
              " 40: 'her',\n",
              " 41: 'out',\n",
              " 42: 'about',\n",
              " 43: 'if',\n",
              " 44: \"it's\",\n",
              " 45: 'has',\n",
              " 46: 'there',\n",
              " 47: 'some',\n",
              " 48: 'what',\n",
              " 49: 'good',\n",
              " 50: 'when',\n",
              " 51: 'more',\n",
              " 52: 'very',\n",
              " 53: 'up',\n",
              " 54: 'no',\n",
              " 55: 'time',\n",
              " 56: 'my',\n",
              " 57: 'even',\n",
              " 58: 'would',\n",
              " 59: 'she',\n",
              " 60: 'which',\n",
              " 61: 'only',\n",
              " 62: 'really',\n",
              " 63: 'see',\n",
              " 64: 'story',\n",
              " 65: 'their',\n",
              " 66: 'had',\n",
              " 67: 'can',\n",
              " 68: 'me',\n",
              " 69: 'well',\n",
              " 70: 'were',\n",
              " 71: 'than',\n",
              " 72: 'much',\n",
              " 73: 'we',\n",
              " 74: 'bad',\n",
              " 75: 'been',\n",
              " 76: 'get',\n",
              " 77: 'do',\n",
              " 78: 'great',\n",
              " 79: 'other',\n",
              " 80: 'will',\n",
              " 81: 'also',\n",
              " 82: 'into',\n",
              " 83: 'people',\n",
              " 84: 'because',\n",
              " 85: 'how',\n",
              " 86: 'first',\n",
              " 87: 'him',\n",
              " 88: 'most',\n",
              " 89: \"don't\",\n",
              " 90: 'made',\n",
              " 91: 'then',\n",
              " 92: 'its',\n",
              " 93: 'them',\n",
              " 94: 'make',\n",
              " 95: 'way',\n",
              " 96: 'too',\n",
              " 97: 'movies',\n",
              " 98: 'could',\n",
              " 99: 'any',\n",
              " 100: 'after',\n",
              " 101: 'think',\n",
              " 102: 'characters',\n",
              " 103: 'watch',\n",
              " 104: 'films',\n",
              " 105: 'two',\n",
              " 106: 'many',\n",
              " 107: 'seen',\n",
              " 108: 'character',\n",
              " 109: 'being',\n",
              " 110: 'never',\n",
              " 111: 'plot',\n",
              " 112: 'love',\n",
              " 113: 'acting',\n",
              " 114: 'life',\n",
              " 115: 'did',\n",
              " 116: 'best',\n",
              " 117: 'where',\n",
              " 118: 'know',\n",
              " 119: 'show',\n",
              " 120: 'little',\n",
              " 121: 'over',\n",
              " 122: 'off',\n",
              " 123: 'ever',\n",
              " 124: 'does',\n",
              " 125: 'your',\n",
              " 126: 'better',\n",
              " 127: 'end',\n",
              " 128: 'man',\n",
              " 129: 'scene',\n",
              " 130: 'still',\n",
              " 131: 'say',\n",
              " 132: 'these',\n",
              " 133: 'here',\n",
              " 134: 'why',\n",
              " 135: 'scenes',\n",
              " 136: 'while',\n",
              " 137: 'something',\n",
              " 138: 'such',\n",
              " 139: 'go',\n",
              " 140: 'through',\n",
              " 141: 'back',\n",
              " 142: 'should',\n",
              " 143: 'those',\n",
              " 144: 'real',\n",
              " 145: \"i'm\",\n",
              " 146: 'now',\n",
              " 147: 'watching',\n",
              " 148: 'thing',\n",
              " 149: \"doesn't\",\n",
              " 150: 'actors',\n",
              " 151: 'though',\n",
              " 152: 'funny',\n",
              " 153: 'years',\n",
              " 154: \"didn't\",\n",
              " 155: 'old',\n",
              " 156: 'another',\n",
              " 157: '10',\n",
              " 158: 'work',\n",
              " 159: 'before',\n",
              " 160: 'actually',\n",
              " 161: 'nothing',\n",
              " 162: 'makes',\n",
              " 163: 'look',\n",
              " 164: 'director',\n",
              " 165: 'find',\n",
              " 166: 'going',\n",
              " 167: 'same',\n",
              " 168: 'new',\n",
              " 169: 'lot',\n",
              " 170: 'every',\n",
              " 171: 'few',\n",
              " 172: 'again',\n",
              " 173: 'part',\n",
              " 174: 'cast',\n",
              " 175: 'down',\n",
              " 176: 'us',\n",
              " 177: 'things',\n",
              " 178: 'want',\n",
              " 179: 'quite',\n",
              " 180: 'pretty',\n",
              " 181: 'world',\n",
              " 182: 'horror',\n",
              " 183: 'around',\n",
              " 184: 'seems',\n",
              " 185: \"can't\",\n",
              " 186: 'young',\n",
              " 187: 'take',\n",
              " 188: 'however',\n",
              " 189: 'got',\n",
              " 190: 'thought',\n",
              " 191: 'big',\n",
              " 192: 'fact',\n",
              " 193: 'enough',\n",
              " 194: 'long',\n",
              " 195: 'both',\n",
              " 196: \"that's\",\n",
              " 197: 'give',\n",
              " 198: \"i've\",\n",
              " 199: 'own',\n",
              " 200: 'may',\n",
              " 201: 'between',\n",
              " 202: 'comedy',\n",
              " 203: 'right',\n",
              " 204: 'series',\n",
              " 205: 'action',\n",
              " 206: 'must',\n",
              " 207: 'music',\n",
              " 208: 'without',\n",
              " 209: 'times',\n",
              " 210: 'saw',\n",
              " 211: 'always',\n",
              " 212: 'original',\n",
              " 213: \"isn't\",\n",
              " 214: 'role',\n",
              " 215: 'come',\n",
              " 216: 'almost',\n",
              " 217: 'gets',\n",
              " 218: 'interesting',\n",
              " 219: 'guy',\n",
              " 220: 'point',\n",
              " 221: 'done',\n",
              " 222: \"there's\",\n",
              " 223: 'whole',\n",
              " 224: 'least',\n",
              " 225: 'far',\n",
              " 226: 'bit',\n",
              " 227: 'script',\n",
              " 228: 'minutes',\n",
              " 229: 'feel',\n",
              " 230: '2',\n",
              " 231: 'anything',\n",
              " 232: 'making',\n",
              " 233: 'might',\n",
              " 234: 'since',\n",
              " 235: 'am',\n",
              " 236: 'family',\n",
              " 237: \"he's\",\n",
              " 238: 'last',\n",
              " 239: 'probably',\n",
              " 240: 'tv',\n",
              " 241: 'performance',\n",
              " 242: 'kind',\n",
              " 243: 'away',\n",
              " 244: 'yet',\n",
              " 245: 'fun',\n",
              " 246: 'worst',\n",
              " 247: 'sure',\n",
              " 248: 'rather',\n",
              " 249: 'hard',\n",
              " 250: 'anyone',\n",
              " 251: 'girl',\n",
              " 252: 'each',\n",
              " 253: 'played',\n",
              " 254: 'day',\n",
              " 255: 'found',\n",
              " 256: 'looking',\n",
              " 257: 'woman',\n",
              " 258: 'screen',\n",
              " 259: 'although',\n",
              " 260: 'our',\n",
              " 261: 'especially',\n",
              " 262: 'believe',\n",
              " 263: 'having',\n",
              " 264: 'trying',\n",
              " 265: 'course',\n",
              " 266: 'dvd',\n",
              " 267: 'everything',\n",
              " 268: 'set',\n",
              " 269: 'goes',\n",
              " 270: 'comes',\n",
              " 271: 'put',\n",
              " 272: 'ending',\n",
              " 273: 'maybe',\n",
              " 274: 'place',\n",
              " 275: 'book',\n",
              " 276: 'shows',\n",
              " 277: 'three',\n",
              " 278: 'worth',\n",
              " 279: 'different',\n",
              " 280: 'main',\n",
              " 281: 'once',\n",
              " 282: 'sense',\n",
              " 283: 'american',\n",
              " 284: 'reason',\n",
              " 285: 'looks',\n",
              " 286: 'effects',\n",
              " 287: 'watched',\n",
              " 288: 'play',\n",
              " 289: 'true',\n",
              " 290: 'money',\n",
              " 291: 'actor',\n",
              " 292: \"wasn't\",\n",
              " 293: 'job',\n",
              " 294: 'together',\n",
              " 295: 'war',\n",
              " 296: 'someone',\n",
              " 297: 'plays',\n",
              " 298: 'instead',\n",
              " 299: 'high',\n",
              " 300: 'during',\n",
              " 301: 'year',\n",
              " 302: 'said',\n",
              " 303: 'half',\n",
              " 304: 'everyone',\n",
              " 305: 'later',\n",
              " 306: 'takes',\n",
              " 307: '1',\n",
              " 308: 'seem',\n",
              " 309: 'audience',\n",
              " 310: 'special',\n",
              " 311: 'beautiful',\n",
              " 312: 'left',\n",
              " 313: 'himself',\n",
              " 314: 'seeing',\n",
              " 315: 'john',\n",
              " 316: 'night',\n",
              " 317: 'black',\n",
              " 318: 'version',\n",
              " 319: 'shot',\n",
              " 320: 'excellent',\n",
              " 321: 'idea',\n",
              " 322: 'house',\n",
              " 323: 'mind',\n",
              " 324: 'star',\n",
              " 325: 'wife',\n",
              " 326: 'fan',\n",
              " 327: 'death',\n",
              " 328: 'used',\n",
              " 329: 'else',\n",
              " 330: 'simply',\n",
              " 331: 'nice',\n",
              " 332: 'budget',\n",
              " 333: 'poor',\n",
              " 334: 'short',\n",
              " 335: 'completely',\n",
              " 336: 'second',\n",
              " 337: \"you're\",\n",
              " 338: '3',\n",
              " 339: 'read',\n",
              " 340: 'less',\n",
              " 341: 'along',\n",
              " 342: 'top',\n",
              " 343: 'help',\n",
              " 344: 'home',\n",
              " 345: 'men',\n",
              " 346: 'either',\n",
              " 347: 'line',\n",
              " 348: 'boring',\n",
              " 349: 'dead',\n",
              " 350: 'friends',\n",
              " 351: 'kids',\n",
              " 352: 'try',\n",
              " 353: 'production',\n",
              " 354: 'enjoy',\n",
              " 355: 'camera',\n",
              " 356: 'wrong',\n",
              " 357: 'use',\n",
              " 358: 'given',\n",
              " 359: 'low',\n",
              " 360: 'classic',\n",
              " 361: 'father',\n",
              " 362: 'need',\n",
              " 363: 'full',\n",
              " 364: 'stupid',\n",
              " 365: 'next',\n",
              " 366: 'until',\n",
              " 367: 'performances',\n",
              " 368: 'school',\n",
              " 369: 'hollywood',\n",
              " 370: 'rest',\n",
              " 371: 'truly',\n",
              " 372: 'awful',\n",
              " 373: 'video',\n",
              " 374: 'couple',\n",
              " 375: 'start',\n",
              " 376: 'sex',\n",
              " 377: 'recommend',\n",
              " 378: 'women',\n",
              " 379: 'let',\n",
              " 380: 'tell',\n",
              " 381: 'terrible',\n",
              " 382: 'remember',\n",
              " 383: 'mean',\n",
              " 384: 'came',\n",
              " 385: 'getting',\n",
              " 386: 'understand',\n",
              " 387: 'perhaps',\n",
              " 388: 'moments',\n",
              " 389: 'name',\n",
              " 390: 'keep',\n",
              " 391: 'face',\n",
              " 392: 'itself',\n",
              " 393: 'wonderful',\n",
              " 394: 'playing',\n",
              " 395: 'human',\n",
              " 396: 'style',\n",
              " 397: 'small',\n",
              " 398: 'episode',\n",
              " 399: 'perfect',\n",
              " 400: 'others',\n",
              " 401: 'person',\n",
              " 402: 'doing',\n",
              " 403: 'often',\n",
              " 404: 'early',\n",
              " 405: 'stars',\n",
              " 406: 'definitely',\n",
              " 407: 'written',\n",
              " 408: 'head',\n",
              " 409: 'lines',\n",
              " 410: 'dialogue',\n",
              " 411: 'gives',\n",
              " 412: 'piece',\n",
              " 413: \"couldn't\",\n",
              " 414: 'went',\n",
              " 415: 'finally',\n",
              " 416: 'mother',\n",
              " 417: 'case',\n",
              " 418: 'title',\n",
              " 419: 'absolutely',\n",
              " 420: 'boy',\n",
              " 421: 'live',\n",
              " 422: 'yes',\n",
              " 423: 'laugh',\n",
              " 424: 'certainly',\n",
              " 425: 'liked',\n",
              " 426: 'become',\n",
              " 427: 'worse',\n",
              " 428: 'entertaining',\n",
              " 429: 'oh',\n",
              " 430: 'sort',\n",
              " 431: 'loved',\n",
              " 432: 'lost',\n",
              " 433: 'hope',\n",
              " 434: 'called',\n",
              " 435: 'picture',\n",
              " 436: 'felt',\n",
              " 437: 'overall',\n",
              " 438: 'entire',\n",
              " 439: 'mr',\n",
              " 440: 'several',\n",
              " 441: 'based',\n",
              " 442: 'supposed',\n",
              " 443: 'cinema',\n",
              " 444: 'friend',\n",
              " 445: 'guys',\n",
              " 446: 'sound',\n",
              " 447: '5',\n",
              " 448: 'problem',\n",
              " 449: 'drama',\n",
              " 450: 'against',\n",
              " 451: 'waste',\n",
              " 452: 'white',\n",
              " 453: 'beginning',\n",
              " 454: '4',\n",
              " 455: 'fans',\n",
              " 456: 'totally',\n",
              " 457: 'dark',\n",
              " 458: 'care',\n",
              " 459: 'direction',\n",
              " 460: 'humor',\n",
              " 461: 'wanted',\n",
              " 462: \"she's\",\n",
              " 463: 'seemed',\n",
              " 464: 'under',\n",
              " 465: 'game',\n",
              " 466: 'children',\n",
              " 467: 'despite',\n",
              " 468: 'lives',\n",
              " 469: 'lead',\n",
              " 470: 'guess',\n",
              " 471: 'example',\n",
              " 472: 'already',\n",
              " 473: 'final',\n",
              " 474: 'throughout',\n",
              " 475: \"you'll\",\n",
              " 476: 'turn',\n",
              " 477: 'evil',\n",
              " 478: 'becomes',\n",
              " 479: 'unfortunately',\n",
              " 480: 'able',\n",
              " 481: 'quality',\n",
              " 482: \"i'd\",\n",
              " 483: 'days',\n",
              " 484: 'history',\n",
              " 485: 'fine',\n",
              " 486: 'side',\n",
              " 487: 'wants',\n",
              " 488: 'horrible',\n",
              " 489: 'heart',\n",
              " 490: 'writing',\n",
              " 491: 'amazing',\n",
              " 492: 'b',\n",
              " 493: 'flick',\n",
              " 494: 'killer',\n",
              " 495: 'run',\n",
              " 496: 'son',\n",
              " 497: '\\x96',\n",
              " 498: 'michael',\n",
              " 499: 'works',\n",
              " 500: 'close',\n",
              " 501: \"they're\",\n",
              " 502: 'act',\n",
              " 503: 'art',\n",
              " 504: 'kill',\n",
              " 505: 'matter',\n",
              " 506: 'etc',\n",
              " 507: 'tries',\n",
              " 508: \"won't\",\n",
              " 509: 'past',\n",
              " 510: 'town',\n",
              " 511: 'turns',\n",
              " 512: 'enjoyed',\n",
              " 513: 'brilliant',\n",
              " 514: 'gave',\n",
              " 515: 'behind',\n",
              " 516: 'parts',\n",
              " 517: 'stuff',\n",
              " 518: 'genre',\n",
              " 519: 'eyes',\n",
              " 520: 'car',\n",
              " 521: 'favorite',\n",
              " 522: 'directed',\n",
              " 523: 'late',\n",
              " 524: 'hand',\n",
              " 525: 'expect',\n",
              " 526: 'soon',\n",
              " 527: 'hour',\n",
              " 528: 'obviously',\n",
              " 529: 'themselves',\n",
              " 530: 'sometimes',\n",
              " 531: 'killed',\n",
              " 532: 'thinking',\n",
              " 533: 'actress',\n",
              " 534: 'child',\n",
              " 535: 'girls',\n",
              " 536: 'viewer',\n",
              " 537: 'starts',\n",
              " 538: 'city',\n",
              " 539: 'myself',\n",
              " 540: 'decent',\n",
              " 541: 'highly',\n",
              " 542: 'stop',\n",
              " 543: 'type',\n",
              " 544: 'self',\n",
              " 545: 'god',\n",
              " 546: 'says',\n",
              " 547: 'group',\n",
              " 548: 'anyway',\n",
              " 549: 'voice',\n",
              " 550: 'took',\n",
              " 551: 'known',\n",
              " 552: 'blood',\n",
              " 553: 'kid',\n",
              " 554: 'heard',\n",
              " 555: 'happens',\n",
              " 556: 'except',\n",
              " 557: 'fight',\n",
              " 558: 'feeling',\n",
              " 559: 'experience',\n",
              " 560: 'coming',\n",
              " 561: 'slow',\n",
              " 562: 'daughter',\n",
              " 563: 'writer',\n",
              " 564: 'stories',\n",
              " 565: 'moment',\n",
              " 566: 'leave',\n",
              " 567: 'told',\n",
              " 568: 'extremely',\n",
              " 569: 'score',\n",
              " 570: 'violence',\n",
              " 571: 'involved',\n",
              " 572: 'police',\n",
              " 573: 'strong',\n",
              " 574: 'lack',\n",
              " 575: 'chance',\n",
              " 576: 'cannot',\n",
              " 577: 'hit',\n",
              " 578: 'roles',\n",
              " 579: 'hilarious',\n",
              " 580: 's',\n",
              " 581: 'happen',\n",
              " 582: 'wonder',\n",
              " 583: 'particularly',\n",
              " 584: 'ok',\n",
              " 585: 'including',\n",
              " 586: 'save',\n",
              " 587: 'living',\n",
              " 588: 'looked',\n",
              " 589: \"wouldn't\",\n",
              " 590: 'crap',\n",
              " 591: 'please',\n",
              " 592: 'simple',\n",
              " 593: 'cool',\n",
              " 594: 'murder',\n",
              " 595: 'obvious',\n",
              " 596: 'happened',\n",
              " 597: 'complete',\n",
              " 598: 'cut',\n",
              " 599: 'age',\n",
              " 600: 'serious',\n",
              " 601: 'gore',\n",
              " 602: 'attempt',\n",
              " 603: 'hell',\n",
              " 604: 'ago',\n",
              " 605: 'song',\n",
              " 606: 'shown',\n",
              " 607: 'taken',\n",
              " 608: 'english',\n",
              " 609: 'james',\n",
              " 610: 'robert',\n",
              " 611: 'david',\n",
              " 612: 'seriously',\n",
              " 613: 'released',\n",
              " 614: 'reality',\n",
              " 615: 'opening',\n",
              " 616: 'interest',\n",
              " 617: 'jokes',\n",
              " 618: 'across',\n",
              " 619: 'none',\n",
              " 620: 'hero',\n",
              " 621: 'exactly',\n",
              " 622: 'today',\n",
              " 623: 'possible',\n",
              " 624: 'alone',\n",
              " 625: 'sad',\n",
              " 626: 'brother',\n",
              " 627: 'number',\n",
              " 628: 'saying',\n",
              " 629: 'career',\n",
              " 630: \"film's\",\n",
              " 631: 'usually',\n",
              " 632: 'hours',\n",
              " 633: 'cinematography',\n",
              " 634: 'talent',\n",
              " 635: 'view',\n",
              " 636: 'annoying',\n",
              " 637: 'yourself',\n",
              " 638: 'running',\n",
              " 639: 'relationship',\n",
              " 640: 'documentary',\n",
              " 641: 'wish',\n",
              " 642: 'order',\n",
              " 643: 'huge',\n",
              " 644: 'shots',\n",
              " 645: 'whose',\n",
              " 646: 'ridiculous',\n",
              " 647: 'taking',\n",
              " 648: 'important',\n",
              " 649: 'light',\n",
              " 650: 'body',\n",
              " 651: 'middle',\n",
              " 652: 'level',\n",
              " 653: 'ends',\n",
              " 654: 'started',\n",
              " 655: 'call',\n",
              " 656: 'female',\n",
              " 657: \"i'll\",\n",
              " 658: 'husband',\n",
              " 659: 'four',\n",
              " 660: 'power',\n",
              " 661: 'turned',\n",
              " 662: 'major',\n",
              " 663: 'word',\n",
              " 664: 'opinion',\n",
              " 665: 'change',\n",
              " 666: 'mostly',\n",
              " 667: 'usual',\n",
              " 668: 'silly',\n",
              " 669: 'scary',\n",
              " 670: 'rating',\n",
              " 671: 'beyond',\n",
              " 672: 'somewhat',\n",
              " 673: 'happy',\n",
              " 674: 'ones',\n",
              " 675: 'words',\n",
              " 676: 'room',\n",
              " 677: 'knew',\n",
              " 678: 'knows',\n",
              " 679: 'country',\n",
              " 680: 'disappointed',\n",
              " 681: 'talking',\n",
              " 682: 'novel',\n",
              " 683: 'apparently',\n",
              " 684: 'non',\n",
              " 685: 'strange',\n",
              " 686: 'upon',\n",
              " 687: 'attention',\n",
              " 688: 'single',\n",
              " 689: 'finds',\n",
              " 690: 'basically',\n",
              " 691: 'cheap',\n",
              " 692: 'modern',\n",
              " 693: 'due',\n",
              " 694: 'jack',\n",
              " 695: 'television',\n",
              " 696: 'musical',\n",
              " 697: 'problems',\n",
              " 698: 'miss',\n",
              " 699: 'episodes',\n",
              " 700: 'clearly',\n",
              " 701: 'local',\n",
              " 702: '7',\n",
              " 703: 'british',\n",
              " 704: 'thriller',\n",
              " 705: 'talk',\n",
              " 706: 'events',\n",
              " 707: 'five',\n",
              " 708: 'sequence',\n",
              " 709: \"aren't\",\n",
              " 710: 'class',\n",
              " 711: 'french',\n",
              " 712: 'moving',\n",
              " 713: 'ten',\n",
              " 714: 'fast',\n",
              " 715: 'earth',\n",
              " 716: 'review',\n",
              " 717: 'tells',\n",
              " 718: 'predictable',\n",
              " 719: 'team',\n",
              " 720: 'songs',\n",
              " 721: 'comic',\n",
              " 722: 'straight',\n",
              " 723: '8',\n",
              " 724: 'whether',\n",
              " 725: 'die',\n",
              " 726: 'add',\n",
              " 727: 'dialog',\n",
              " 728: 'entertainment',\n",
              " 729: 'above',\n",
              " 730: 'sets',\n",
              " 731: 'future',\n",
              " 732: 'enjoyable',\n",
              " 733: 'appears',\n",
              " 734: 'near',\n",
              " 735: 'space',\n",
              " 736: 'easily',\n",
              " 737: 'hate',\n",
              " 738: 'soundtrack',\n",
              " 739: 'bring',\n",
              " 740: 'giving',\n",
              " 741: 'lots',\n",
              " 742: 'similar',\n",
              " 743: 'romantic',\n",
              " 744: 'george',\n",
              " 745: 'supporting',\n",
              " 746: 'release',\n",
              " 747: 'mention',\n",
              " 748: 'filmed',\n",
              " 749: 'within',\n",
              " 750: 'message',\n",
              " 751: 'sequel',\n",
              " 752: 'clear',\n",
              " 753: 'falls',\n",
              " 754: 'needs',\n",
              " 755: \"haven't\",\n",
              " 756: 'dull',\n",
              " 757: 'suspense',\n",
              " 758: 'eye',\n",
              " 759: 'bunch',\n",
              " 760: 'surprised',\n",
              " 761: 'showing',\n",
              " 762: 'sorry',\n",
              " 763: 'tried',\n",
              " 764: 'certain',\n",
              " 765: 'working',\n",
              " 766: 'easy',\n",
              " 767: 'ways',\n",
              " 768: 'theme',\n",
              " 769: 'theater',\n",
              " 770: 'named',\n",
              " 771: 'among',\n",
              " 772: \"what's\",\n",
              " 773: 'storyline',\n",
              " 774: 'monster',\n",
              " 775: 'king',\n",
              " 776: 'stay',\n",
              " 777: 'effort',\n",
              " 778: 'fall',\n",
              " 779: 'minute',\n",
              " 780: 'stand',\n",
              " 781: 'gone',\n",
              " 782: 'rock',\n",
              " 783: 'using',\n",
              " 784: '9',\n",
              " 785: 'feature',\n",
              " 786: 'buy',\n",
              " 787: 'comments',\n",
              " 788: \"'\",\n",
              " 789: 't',\n",
              " 790: 'typical',\n",
              " 791: 'editing',\n",
              " 792: 'sister',\n",
              " 793: 'tale',\n",
              " 794: 'avoid',\n",
              " 795: 'dr',\n",
              " 796: 'mystery',\n",
              " 797: 'deal',\n",
              " 798: 'doubt',\n",
              " 799: 'fantastic',\n",
              " 800: 'nearly',\n",
              " 801: 'kept',\n",
              " 802: 'feels',\n",
              " 803: 'subject',\n",
              " 804: 'okay',\n",
              " 805: 'viewing',\n",
              " 806: 'elements',\n",
              " 807: 'check',\n",
              " 808: 'oscar',\n",
              " 809: 'points',\n",
              " 810: 'realistic',\n",
              " 811: 'means',\n",
              " 812: 'greatest',\n",
              " 813: 'herself',\n",
              " 814: 'parents',\n",
              " 815: 'famous',\n",
              " 816: 'imagine',\n",
              " 817: 'rent',\n",
              " 818: 'viewers',\n",
              " 819: 'richard',\n",
              " 820: 'crime',\n",
              " 821: 'form',\n",
              " 822: 'peter',\n",
              " 823: 'actual',\n",
              " 824: 'lady',\n",
              " 825: 'general',\n",
              " 826: 'dog',\n",
              " 827: 'follow',\n",
              " 828: 'believable',\n",
              " 829: 'period',\n",
              " 830: 'red',\n",
              " 831: 'move',\n",
              " 832: 'brought',\n",
              " 833: 'material',\n",
              " 834: 'forget',\n",
              " 835: 'somehow',\n",
              " 836: 'begins',\n",
              " 837: 're',\n",
              " 838: 'reviews',\n",
              " 839: 'animation',\n",
              " 840: 'paul',\n",
              " 841: \"you've\",\n",
              " 842: 'leads',\n",
              " 843: 'weak',\n",
              " 844: 'figure',\n",
              " 845: 'surprise',\n",
              " 846: 'hear',\n",
              " 847: 'sit',\n",
              " 848: 'average',\n",
              " 849: 'open',\n",
              " 850: 'sequences',\n",
              " 851: 'killing',\n",
              " 852: 'atmosphere',\n",
              " 853: 'eventually',\n",
              " 854: 'learn',\n",
              " 855: 'tom',\n",
              " 856: 'premise',\n",
              " 857: '20',\n",
              " 858: 'wait',\n",
              " 859: 'sci',\n",
              " 860: 'deep',\n",
              " 861: 'fi',\n",
              " 862: 'expected',\n",
              " 863: 'whatever',\n",
              " 864: 'indeed',\n",
              " 865: 'note',\n",
              " 866: 'poorly',\n",
              " 867: 'lame',\n",
              " 868: 'particular',\n",
              " 869: 'imdb',\n",
              " 870: 'dance',\n",
              " 871: 'situation',\n",
              " 872: 'shame',\n",
              " 873: 'third',\n",
              " 874: 'box',\n",
              " 875: 'york',\n",
              " 876: 'truth',\n",
              " 877: 'decided',\n",
              " 878: 'free',\n",
              " 879: 'hot',\n",
              " 880: \"who's\",\n",
              " 881: 'difficult',\n",
              " 882: 'season',\n",
              " 883: 'needed',\n",
              " 884: 'acted',\n",
              " 885: 'leaves',\n",
              " 886: 'unless',\n",
              " 887: 'emotional',\n",
              " 888: 'possibly',\n",
              " 889: 'romance',\n",
              " 890: 'sexual',\n",
              " 891: 'gay',\n",
              " 892: 'boys',\n",
              " 893: 'footage',\n",
              " 894: 'write',\n",
              " 895: 'western',\n",
              " 896: 'forced',\n",
              " 897: 'credits',\n",
              " 898: 'became',\n",
              " 899: 'doctor',\n",
              " 900: 'memorable',\n",
              " 901: 'reading',\n",
              " 902: 'otherwise',\n",
              " 903: 'crew',\n",
              " 904: 'de',\n",
              " 905: 'begin',\n",
              " 906: 'air',\n",
              " 907: 'question',\n",
              " 908: 'meet',\n",
              " 909: 'society',\n",
              " 910: 'male',\n",
              " 911: 'meets',\n",
              " 912: \"let's\",\n",
              " 913: 'plus',\n",
              " 914: 'cheesy',\n",
              " 915: 'hands',\n",
              " 916: 'superb',\n",
              " 917: 'screenplay',\n",
              " 918: 'interested',\n",
              " 919: 'beauty',\n",
              " 920: 'street',\n",
              " 921: 'features',\n",
              " 922: 'masterpiece',\n",
              " 923: 'whom',\n",
              " 924: 'perfectly',\n",
              " 925: 'laughs',\n",
              " 926: 'stage',\n",
              " 927: 'nature',\n",
              " 928: 'effect',\n",
              " 929: 'comment',\n",
              " 930: 'forward',\n",
              " 931: 'nor',\n",
              " 932: 'previous',\n",
              " 933: 'sounds',\n",
              " 934: 'badly',\n",
              " 935: 'e',\n",
              " 936: 'japanese',\n",
              " 937: 'weird',\n",
              " 938: 'island',\n",
              " 939: 'personal',\n",
              " 940: 'inside',\n",
              " 941: 'quickly',\n",
              " 942: 'total',\n",
              " 943: 'keeps',\n",
              " 944: 'towards',\n",
              " 945: 'result',\n",
              " 946: 'america',\n",
              " 947: 'battle',\n",
              " 948: 'crazy',\n",
              " 949: 'worked',\n",
              " 950: 'incredibly',\n",
              " 951: 'setting',\n",
              " 952: 'earlier',\n",
              " 953: 'background',\n",
              " 954: 'mess',\n",
              " 955: 'cop',\n",
              " 956: 'writers',\n",
              " 957: 'fire',\n",
              " 958: 'copy',\n",
              " 959: 'dumb',\n",
              " 960: 'realize',\n",
              " 961: 'unique',\n",
              " 962: 'powerful',\n",
              " 963: 'lee',\n",
              " 964: 'mark',\n",
              " 965: 'business',\n",
              " 966: 'rate',\n",
              " 967: 'older',\n",
              " 968: 'dramatic',\n",
              " 969: 'pay',\n",
              " 970: 'following',\n",
              " 971: 'girlfriend',\n",
              " 972: 'directors',\n",
              " 973: 'joke',\n",
              " 974: 'plenty',\n",
              " 975: 'directing',\n",
              " 976: 'various',\n",
              " 977: 'creepy',\n",
              " 978: 'baby',\n",
              " 979: 'appear',\n",
              " 980: 'development',\n",
              " 981: 'brings',\n",
              " 982: 'front',\n",
              " 983: 'dream',\n",
              " 984: 'ask',\n",
              " 985: 'water',\n",
              " 986: 'rich',\n",
              " 987: 'admit',\n",
              " 988: 'bill',\n",
              " 989: 'apart',\n",
              " 990: 'joe',\n",
              " 991: 'fairly',\n",
              " 992: 'political',\n",
              " 993: 'reasons',\n",
              " 994: 'leading',\n",
              " 995: 'spent',\n",
              " 996: 'portrayed',\n",
              " 997: 'telling',\n",
              " 998: 'cover',\n",
              " 999: 'outside',\n",
              " 1000: 'fighting',\n",
              " ...}"
            ]
          },
          "metadata": {},
          "execution_count": 91
        }
      ],
      "source": [
        "word_rev_index # index 에 매칭되는 단어를 보여줌"
      ]
    },
    {
      "cell_type": "markdown",
      "metadata": {
        "id": "YNhyWapHE-rZ"
      },
      "source": [
        "# attention시각화 함수"
      ]
    },
    {
      "cell_type": "code",
      "execution_count": 92,
      "metadata": {
        "id": "XO6gj4Ot_dq-"
      },
      "outputs": [],
      "source": [
        "# word attention 시각화\n",
        "def sentiment_analysis(review):         # review 에 text가 들어가게됨\n",
        "    tokenized_sentences = doc2hierarchical(review)  # model 에 넣을수 있는 형태로 변형시켜줌\n",
        "    \n",
        "    # word attention만 가져오기\n",
        "    pred_attention = attention_extractor.predict(np.asarray([tokenized_sentences]))[0][0]\n",
        "    for sent_idx, sentence in enumerate(tokenized_sentences):\n",
        "        if sentence[-1] == 0:\n",
        "            continue\n",
        "            \n",
        "        for word_idx in range(MAX_SENTENCE_LENGTH):\n",
        "            if sentence[word_idx] != 0:\n",
        "                words = [word_rev_index[word_id] for word_id in sentence[word_idx:]]\n",
        "                pred_att = pred_attention[sent_idx][-len(words):]\n",
        "                pred_att = np.expand_dims(pred_att, axis=0)\n",
        "                break\n",
        "\n",
        "        fig, ax = plt.subplots(figsize=(len(words), 1))\n",
        "        plt.rc('xtick', labelsize=16)\n",
        "        midpoint = (max(pred_att[:, 0]) - min(pred_att[:, 0])) / 2\n",
        "        heatmap = sn.heatmap(pred_att, xticklabels=words, yticklabels=False, square=True, linewidths=0.1, cmap='coolwarm', center=midpoint, vmin=0, vmax=1)\n",
        "        plt.xticks(rotation=45)\n",
        "        plt.show()\n",
        "        "
      ]
    },
    {
      "cell_type": "code",
      "source": [
        "sent1=\"Absolute perfection end game !! Good acting performance to all the characters. Great cgi's. Truly epic & perfect ending to a long journey of marvel movie. Go see it you wont regret it !! Perfection Marvel Endgame !!\"\n",
        "tokenized_sentences = doc2hierarchical(sent1) ;tokenized_sentences # (10, 25) 총 10개의 문장으로 이루어짐"
      ],
      "metadata": {
        "id": "GOyFNm9mcoOG",
        "colab": {
          "base_uri": "https://localhost:8080/"
        },
        "outputId": "0f8f3845-e564-4990-ef49-00188648e119"
      },
      "execution_count": 93,
      "outputs": [
        {
          "output_type": "execute_result",
          "data": {
            "text/plain": [
              "array([[    0,     0,     0,     0,     0,     0,     0,     0,     0,\n",
              "            0,     0,     0,     0,     0,     0,     0,     0,     0,\n",
              "            0,     0,     0,  1591,  3116,   127,   465],\n",
              "       [    0,     0,     0,     0,     0,     0,     0,     0,     0,\n",
              "            0,     0,     0,     0,     0,     0,     0,     0,     0,\n",
              "           49,   113,   241,     5,    29,     1,   102],\n",
              "       [    0,     0,     0,     0,     0,     0,     0,     0,     0,\n",
              "            0,     0,     0,     0,     0,     0,     0,     0,     0,\n",
              "            0,     0,     0,     0,     0,    78, 67633],\n",
              "       [    0,     0,     0,     0,     0,     0,     0,     0,     0,\n",
              "            0,     0,     0,     0,     0,   371,  1630,   399,   272,\n",
              "            5,     3,   194,  1261,     4,  5815,    17],\n",
              "       [    0,     0,     0,     0,     0,     0,     0,     0,     0,\n",
              "            0,     0,     0,     0,     0,     0,     0,     0,     0,\n",
              "          139,    63,     9,    22,  4007,  2529,     9],\n",
              "       [    0,     0,     0,     0,     0,     0,     0,     0,     0,\n",
              "            0,     0,     0,     0,     0,     0,     0,     0,     0,\n",
              "            0,     0,     0,     0,  3116,  5815, 29041],\n",
              "       [    0,     0,     0,     0,     0,     0,     0,     0,     0,\n",
              "            0,     0,     0,     0,     0,     0,     0,     0,     0,\n",
              "            0,     0,     0,     0,     0,     0,     0],\n",
              "       [    0,     0,     0,     0,     0,     0,     0,     0,     0,\n",
              "            0,     0,     0,     0,     0,     0,     0,     0,     0,\n",
              "            0,     0,     0,     0,     0,     0,     0],\n",
              "       [    0,     0,     0,     0,     0,     0,     0,     0,     0,\n",
              "            0,     0,     0,     0,     0,     0,     0,     0,     0,\n",
              "            0,     0,     0,     0,     0,     0,     0],\n",
              "       [    0,     0,     0,     0,     0,     0,     0,     0,     0,\n",
              "            0,     0,     0,     0,     0,     0,     0,     0,     0,\n",
              "            0,     0,     0,     0,     0,     0,     0]], dtype=int32)"
            ]
          },
          "metadata": {},
          "execution_count": 93
        }
      ]
    },
    {
      "cell_type": "code",
      "execution_count": 94,
      "metadata": {
        "id": "2fUswq6VUy-I"
      },
      "outputs": [],
      "source": [
        "# sentence attention 시각화\n",
        "def sentiment_sent_analysis(review):         # review 에 text가 들어가게됨\n",
        "    tokenized_sentences = doc2hierarchical(review)  # model 에 넣을수 있는 형태로 변형시켜줌\n",
        "    pred_sent_attention = attention_extractor.predict(np.asarray([tokenized_sentences]))[1][0]\n",
        "    print(pred_sent_attention)\n"
      ]
    },
    {
      "cell_type": "code",
      "execution_count": 95,
      "metadata": {
        "id": "oCfsGTRFe6YO"
      },
      "outputs": [],
      "source": [
        "# word_sentence attention 시각화 : word와 sentence를 같이 고려한 attention으로 중요한 단어들만 남게 하자!! \n",
        "\n",
        "def wordsent_mult(pred_sent_attention,pred_word_attention):\n",
        " #for문 자제함, 속도 느리게 하는 원인이 됨   \n",
        "  for i in range(len(pred_sent_attention)):    # sentence개수만큼 구해야함 여기서는 10이 나옴   (0~9)\n",
        "    for j in range(len(pred_word_attention[i])):       # sentence내의 word개수만큼 구해야함  여기서는 25이 나옴 한개 문장을 padding으로 길이 25로 맞춤 (0~24)\n",
        "      pred_ws_att[i][j] = pred_sent_attention[i] * pred_word_attention[i][j]                               \n",
        "  return pred_ws_att # 기존 pred_word_attetion과 값이 달라진것을 확인할 수 있음\n",
        " \n",
        "\n",
        "\n",
        "def sentiment_word_sentence_analysis(review):         # review 에 text가 들어가게됨\n",
        "    tokenized_sentences = doc2hierarchical(review)  # model 에 넣을수 있는 형태로 변형시켜줌\n",
        "    \n",
        "    pred_sent_attention = attention_extractor.predict(np.asarray([tokenized_sentences]))[1][0]\n",
        "    pred_word_attention = attention_extractor.predict(np.asarray([tokenized_sentences]))[0][0] \n",
        "    \n",
        "    pred_ws_att =  pred_word_attention * np.tile(pred_sent_attention, (25, 1)).T # 여기서 pred_ws_att 나오게됨\n",
        "    \n",
        "    for sent_idx, sentence in enumerate(tokenized_sentences):\n",
        "        if sentence[-1] == 0:\n",
        "            continue\n",
        "            \n",
        "        for word_idx in range(MAX_SENTENCE_LENGTH):\n",
        "            if sentence[word_idx] != 0:\n",
        "                words = [word_rev_index[word_id] for word_id in sentence[word_idx:]]\n",
        "                pred_att_ws = pred_ws_att[sent_idx][-len(words):]\n",
        "                pred_att_ws = np.expand_dims(pred_att_ws, axis=0)\n",
        "                break\n",
        "\n",
        "        fig, ax = plt.subplots(figsize=(len(words), 1))\n",
        "        plt.rc('xtick', labelsize=16)\n",
        "        midpoint = (max(pred_att[:, 0]) - min(pred_att[:, 0])) / 2\n",
        "        heatmap = sn.heatmap(pred_att_ws, xticklabels=words, yticklabels=False, square=True, linewidths=0.1, cmap='coolwarm', center=midpoint, vmin=0, vmax=1)\n",
        "        plt.xticks(rotation=45)\n",
        "        plt.show()\n",
        "        "
      ]
    },
    {
      "cell_type": "code",
      "execution_count": 96,
      "metadata": {
        "id": "HldVYL9aaGpz"
      },
      "outputs": [],
      "source": [
        "def sentiment_word_sentence_norm_analysis(review):         # review 에 text가 들어가게됨\n",
        "    tokenized_sentences = doc2hierarchical(review)  # model 에 넣을수 있는 형태로 변형시켜줌\n",
        "    \n",
        "    pred_sent_attention = attention_extractor.predict(np.asarray([tokenized_sentences]))[1][0]\n",
        "    pred_word_attention = attention_extractor.predict(np.asarray([tokenized_sentences]))[0][0] \n",
        "    \n",
        "    pred_ws_att =  pred_word_attention * np.tile(pred_sent_attention, (25, 1)).T # 여기서 pred_ws_att 나오게됨\n",
        "\n",
        "    # 정규화 시키기\n",
        "    pred_att = normalize(pred_ws_att, norm='l2', axis=1)\n",
        "\n",
        "    for sent_idx, sentence in enumerate(tokenized_sentences):\n",
        "        if sentence[-1] == 0:\n",
        "            continue\n",
        "            \n",
        "        for word_idx in range(MAX_SENTENCE_LENGTH):\n",
        "            if sentence[word_idx] != 0:\n",
        "                words = [word_rev_index[word_id] for word_id in sentence[word_idx:]]\n",
        "                pred_att_ws = pred_att[sent_idx][-len(words):]\n",
        "                pred_att_ws = np.expand_dims(pred_att_ws, axis=0)\n",
        "                break\n",
        "\n",
        "        fig, ax = plt.subplots(figsize=(len(words), 1))\n",
        "        plt.rc('xtick', labelsize=16)\n",
        "        midpoint = (max(pred_att[:, 0]) - min(pred_att[:, 0])) / 2\n",
        "        heatmap = sn.heatmap(pred_att_ws, xticklabels=words, yticklabels=False, square=True, linewidths=0.1, cmap='coolwarm', center=midpoint, vmin=0, vmax=1)\n",
        "        plt.xticks(rotation=45)\n",
        "        plt.show()\n",
        "        "
      ]
    },
    {
      "cell_type": "code",
      "source": [
        "sent1=\"Absolute perfection end game !! Good acting performance to all the characters. Great cgi's. Truly epic & perfect ending to a long journey of marvel movie. Go see it you wont regret it !! Perfection Marvel Endgame !!\"\n",
        "\n"
      ],
      "metadata": {
        "id": "_20pZnkxV0lM"
      },
      "execution_count": 97,
      "outputs": []
    },
    {
      "cell_type": "markdown",
      "metadata": {
        "id": "A7RV24Iqe2WE"
      },
      "source": [
        "# 시각화 예제"
      ]
    },
    {
      "cell_type": "code",
      "execution_count": null,
      "metadata": {
        "colab": {
          "base_uri": "https://localhost:8080/"
        },
        "id": "pXp1EOXiHlDE",
        "outputId": "d70fd4eb-168c-4d6a-d04c-c7777f1d07d7"
      },
      "outputs": [
        {
          "data": {
            "text/plain": [
              "array([[    0,     0,     0,     0,     0,     0,     0,     0,     0,\n",
              "            0,     0,     0,     0,     0,     0,     0,     0,     0,\n",
              "            0,     0,     0,  1591,  3116,   127,   465],\n",
              "       [    0,     0,     0,     0,     0,     0,     0,     0,     0,\n",
              "            0,     0,     0,     0,     0,     0,     0,     0,     0,\n",
              "           49,   113,   241,     5,    29,     1,   102],\n",
              "       [    0,     0,     0,     0,     0,     0,     0,     0,     0,\n",
              "            0,     0,     0,     0,     0,     0,     0,     0,     0,\n",
              "            0,     0,     0,     0,     0,    78, 67633],\n",
              "       [    0,     0,     0,     0,     0,     0,     0,     0,     0,\n",
              "            0,     0,     0,     0,     0,   371,  1630,   399,   272,\n",
              "            5,     3,   194,  1261,     4,  5815,    17],\n",
              "       [    0,     0,     0,     0,     0,     0,     0,     0,     0,\n",
              "            0,     0,     0,     0,     0,     0,     0,     0,     0,\n",
              "          139,    63,     9,    22,  4007,  2529,     9],\n",
              "       [    0,     0,     0,     0,     0,     0,     0,     0,     0,\n",
              "            0,     0,     0,     0,     0,     0,     0,     0,     0,\n",
              "            0,     0,     0,     0,  3116,  5815, 29041],\n",
              "       [    0,     0,     0,     0,     0,     0,     0,     0,     0,\n",
              "            0,     0,     0,     0,     0,     0,     0,     0,     0,\n",
              "            0,     0,     0,     0,     0,     0,     0],\n",
              "       [    0,     0,     0,     0,     0,     0,     0,     0,     0,\n",
              "            0,     0,     0,     0,     0,     0,     0,     0,     0,\n",
              "            0,     0,     0,     0,     0,     0,     0],\n",
              "       [    0,     0,     0,     0,     0,     0,     0,     0,     0,\n",
              "            0,     0,     0,     0,     0,     0,     0,     0,     0,\n",
              "            0,     0,     0,     0,     0,     0,     0],\n",
              "       [    0,     0,     0,     0,     0,     0,     0,     0,     0,\n",
              "            0,     0,     0,     0,     0,     0,     0,     0,     0,\n",
              "            0,     0,     0,     0,     0,     0,     0]], dtype=int32)"
            ]
          },
          "execution_count": 110,
          "metadata": {},
          "output_type": "execute_result"
        }
      ],
      "source": [
        "sent1=\"Absolute perfection end game !! Good acting performance to all the characters. Great cgi's. Truly epic & perfect ending to a long journey of marvel movie. Go see it you wont regret it !! Perfection Marvel Endgame !!\"\n",
        "tokenized_sentences = doc2hierarchical(sent1) ;tokenized_sentences # (10, 25) 총 10개의 문장으로 이루어짐"
      ]
    },
    {
      "cell_type": "code",
      "execution_count": null,
      "metadata": {
        "id": "3flpHpDTHuCT"
      },
      "outputs": [],
      "source": [
        "pred_word_attention = attention_extractor.predict(np.asarray([tokenized_sentences]))[0][0] ;pred_word_attention  # (10, 25) \n",
        "# 각 문장의 단어에 대한 attention score값을 알 수 있음\n",
        "pred_ws_att = pred_word_attention     # pred_att를  pred_word_attention의 모양을 그대로 가져오고자함"
      ]
    },
    {
      "cell_type": "code",
      "execution_count": null,
      "metadata": {
        "colab": {
          "base_uri": "https://localhost:8080/"
        },
        "id": "HSCfRvwLIo43",
        "outputId": "c9e241b3-743d-46a9-9ee7-299f81e10522"
      },
      "outputs": [
        {
          "data": {
            "text/plain": [
              "array([0.11101179, 0.12635273, 0.02672192, 0.51642346, 0.0705208 ,\n",
              "       0.13546988, 0.00446897, 0.00305323, 0.00295512, 0.00302207],\n",
              "      dtype=float32)"
            ]
          },
          "execution_count": 112,
          "metadata": {},
          "output_type": "execute_result"
        }
      ],
      "source": [
        "pred_sent_attention = attention_extractor.predict(np.asarray([tokenized_sentences]))[1][0] ;pred_sent_attention  # (10, ) 10개 문장에대한  attention값이 나옴"
      ]
    },
    {
      "cell_type": "code",
      "execution_count": null,
      "metadata": {
        "colab": {
          "base_uri": "https://localhost:8080/"
        },
        "id": "G0dkCtitclro",
        "outputId": "b00a0d99-41df-4798-d268-25f5df2b6d0b"
      },
      "outputs": [
        {
          "name": "stdout",
          "output_type": "stream",
          "text": [
            "[0.11101179 0.12635273 0.02672192 0.51642346 0.0705208  0.13546988\n",
            " 0.00446897 0.00305323 0.00295512 0.00302207]\n",
            "[[0.11101179 0.11101179 0.11101179 0.11101179 0.11101179 0.11101179\n",
            "  0.11101179 0.11101179 0.11101179 0.11101179 0.11101179 0.11101179\n",
            "  0.11101179 0.11101179 0.11101179 0.11101179 0.11101179 0.11101179\n",
            "  0.11101179 0.11101179 0.11101179 0.11101179 0.11101179 0.11101179\n",
            "  0.11101179]\n",
            " [0.12635273 0.12635273 0.12635273 0.12635273 0.12635273 0.12635273\n",
            "  0.12635273 0.12635273 0.12635273 0.12635273 0.12635273 0.12635273\n",
            "  0.12635273 0.12635273 0.12635273 0.12635273 0.12635273 0.12635273\n",
            "  0.12635273 0.12635273 0.12635273 0.12635273 0.12635273 0.12635273\n",
            "  0.12635273]\n",
            " [0.02672192 0.02672192 0.02672192 0.02672192 0.02672192 0.02672192\n",
            "  0.02672192 0.02672192 0.02672192 0.02672192 0.02672192 0.02672192\n",
            "  0.02672192 0.02672192 0.02672192 0.02672192 0.02672192 0.02672192\n",
            "  0.02672192 0.02672192 0.02672192 0.02672192 0.02672192 0.02672192\n",
            "  0.02672192]\n",
            " [0.51642346 0.51642346 0.51642346 0.51642346 0.51642346 0.51642346\n",
            "  0.51642346 0.51642346 0.51642346 0.51642346 0.51642346 0.51642346\n",
            "  0.51642346 0.51642346 0.51642346 0.51642346 0.51642346 0.51642346\n",
            "  0.51642346 0.51642346 0.51642346 0.51642346 0.51642346 0.51642346\n",
            "  0.51642346]\n",
            " [0.0705208  0.0705208  0.0705208  0.0705208  0.0705208  0.0705208\n",
            "  0.0705208  0.0705208  0.0705208  0.0705208  0.0705208  0.0705208\n",
            "  0.0705208  0.0705208  0.0705208  0.0705208  0.0705208  0.0705208\n",
            "  0.0705208  0.0705208  0.0705208  0.0705208  0.0705208  0.0705208\n",
            "  0.0705208 ]\n",
            " [0.13546988 0.13546988 0.13546988 0.13546988 0.13546988 0.13546988\n",
            "  0.13546988 0.13546988 0.13546988 0.13546988 0.13546988 0.13546988\n",
            "  0.13546988 0.13546988 0.13546988 0.13546988 0.13546988 0.13546988\n",
            "  0.13546988 0.13546988 0.13546988 0.13546988 0.13546988 0.13546988\n",
            "  0.13546988]\n",
            " [0.00446897 0.00446897 0.00446897 0.00446897 0.00446897 0.00446897\n",
            "  0.00446897 0.00446897 0.00446897 0.00446897 0.00446897 0.00446897\n",
            "  0.00446897 0.00446897 0.00446897 0.00446897 0.00446897 0.00446897\n",
            "  0.00446897 0.00446897 0.00446897 0.00446897 0.00446897 0.00446897\n",
            "  0.00446897]\n",
            " [0.00305323 0.00305323 0.00305323 0.00305323 0.00305323 0.00305323\n",
            "  0.00305323 0.00305323 0.00305323 0.00305323 0.00305323 0.00305323\n",
            "  0.00305323 0.00305323 0.00305323 0.00305323 0.00305323 0.00305323\n",
            "  0.00305323 0.00305323 0.00305323 0.00305323 0.00305323 0.00305323\n",
            "  0.00305323]\n",
            " [0.00295512 0.00295512 0.00295512 0.00295512 0.00295512 0.00295512\n",
            "  0.00295512 0.00295512 0.00295512 0.00295512 0.00295512 0.00295512\n",
            "  0.00295512 0.00295512 0.00295512 0.00295512 0.00295512 0.00295512\n",
            "  0.00295512 0.00295512 0.00295512 0.00295512 0.00295512 0.00295512\n",
            "  0.00295512]\n",
            " [0.00302207 0.00302207 0.00302207 0.00302207 0.00302207 0.00302207\n",
            "  0.00302207 0.00302207 0.00302207 0.00302207 0.00302207 0.00302207\n",
            "  0.00302207 0.00302207 0.00302207 0.00302207 0.00302207 0.00302207\n",
            "  0.00302207 0.00302207 0.00302207 0.00302207 0.00302207 0.00302207\n",
            "  0.00302207]]\n",
            "(10, 25)\n"
          ]
        }
      ],
      "source": [
        "print(pred_sent_attention)\n",
        "print(np.tile(pred_sent_attention, (25, 1)).T)\n",
        "print((np.tile(pred_sent_attention, (25, 1)).T).shape) # (10, 25)"
      ]
    },
    {
      "cell_type": "code",
      "execution_count": null,
      "metadata": {
        "colab": {
          "base_uri": "https://localhost:8080/"
        },
        "id": "RusNb_bqH3TF",
        "outputId": "04f835c6-9357-431f-8d3a-69fc48eef772"
      },
      "outputs": [
        {
          "name": "stdout",
          "output_type": "stream",
          "text": [
            "[7.2786469e-07 6.8984787e-07 6.8537429e-07 6.8397958e-07 6.8369525e-07\n",
            " 6.8394178e-07 6.8439590e-07 6.8491039e-07 6.8542272e-07 6.8591709e-07\n",
            " 6.8640713e-07 6.8694351e-07 6.8763427e-07 6.8877500e-07 6.9139429e-07\n",
            " 7.0071411e-07 7.4041861e-07 9.2450330e-07 2.3857806e-02 6.0130161e-04\n",
            " 3.0206898e-04 1.5442638e-05 8.9938880e-04 2.7825910e-04 2.9031871e-04]\n",
            "[2.4488793e-06 2.3209727e-06 2.3059215e-06 2.3012290e-06 2.3002724e-06\n",
            " 2.3011019e-06 2.3026298e-06 2.3043608e-06 2.3060845e-06 2.3077478e-06\n",
            " 2.3093965e-06 2.3112011e-06 2.3135251e-06 2.3173632e-06 2.3261757e-06\n",
            " 2.3575319e-06 2.4911164e-06 3.1104639e-06 8.0268882e-02 2.0230615e-03\n",
            " 1.0163022e-03 5.1956296e-05 3.0259669e-03 9.3619456e-04 9.7676867e-04]\n"
          ]
        }
      ],
      "source": [
        "# pred_sent_attention * pred_attention 을 곱해서  word의 sentence를 고려한 word attention을 구할 수 있으\n",
        "pred_ws_att = pred_word_attention * np.tile(pred_sent_attention, (25, 1)).T # pred_att를  pred_word_attention의 모양을 그대로 가져오고자함\n",
        "\n",
        "# for i in range(len(pred_sent_attention)):    # sentence개수만큼 구해야함 여기서는 10이 나옴\n",
        "#   for j in range(len(pred_word_attention[i])):       # sentence내의 word개수만큼 구해야함  여기서는 25이 나옴 한개 문장을 padding으로 길이 25로 맞춤\n",
        "#        pred_ws_att[i][j] = pred_sent_attention[i] * pred_word_attention[i][j]                               \n",
        "\n",
        "# attention 값이 바뀐것을 확인할 수 있음\n",
        "print(pred_ws_att[1])  # 기존 pred_word_attetion과 값이 달라진것을 확인할 수 있음\n",
        "print(pred_word_attention[1])"
      ]
    },
    {
      "cell_type": "code",
      "execution_count": null,
      "metadata": {
        "id": "ZAlPlJ14MB6Z"
      },
      "outputs": [],
      "source": [
        "pred_sent_attention = attention_extractor.predict(np.asarray([tokenized_sentences]))[1][0]\n",
        "pred_word_attention = attention_extractor.predict(np.asarray([tokenized_sentences]))[0][0] "
      ]
    },
    {
      "cell_type": "code",
      "execution_count": null,
      "metadata": {
        "colab": {
          "base_uri": "https://localhost:8080/"
        },
        "id": "S61hygWpWi81",
        "outputId": "d1d6b136-7855-4121-9f69-89aae4371160"
      },
      "outputs": [
        {
          "data": {
            "text/plain": [
              "1.150294e-05"
            ]
          },
          "execution_count": 213,
          "metadata": {},
          "output_type": "execute_result"
        }
      ],
      "source": [
        "pred_ws_att[0][0] = pred_sent_attention[0] * pred_word_attention[0][0]   ; pred_ws_att[0][0]"
      ]
    },
    {
      "cell_type": "code",
      "execution_count": null,
      "metadata": {
        "colab": {
          "base_uri": "https://localhost:8080/"
        },
        "id": "xvErdsHXV5pP",
        "outputId": "9298b9ff-c34f-48bd-e243-b82ae2088e25"
      },
      "outputs": [
        {
          "data": {
            "text/plain": [
              "0.15108556"
            ]
          },
          "execution_count": 273,
          "metadata": {},
          "output_type": "execute_result"
        }
      ],
      "source": [
        "pred_sent_attention[0]"
      ]
    },
    {
      "cell_type": "code",
      "execution_count": null,
      "metadata": {
        "colab": {
          "base_uri": "https://localhost:8080/"
        },
        "id": "AXFb6gOcXfKw",
        "outputId": "1b56731f-0f9c-417d-d4db-aaffce4c0409"
      },
      "outputs": [
        {
          "data": {
            "text/plain": [
              "0.04157463"
            ]
          },
          "execution_count": 49,
          "metadata": {},
          "output_type": "execute_result"
        }
      ],
      "source": [
        "pred_word_attention[0][0] "
      ]
    },
    {
      "cell_type": "code",
      "execution_count": null,
      "metadata": {
        "colab": {
          "base_uri": "https://localhost:8080/"
        },
        "id": "CaymISw9h3cl",
        "outputId": "65aa757c-18c1-49c0-ab27-dc341f23def1"
      },
      "outputs": [
        {
          "data": {
            "text/plain": [
              "array([[9.6137745e-05, 9.2632523e-05, 9.2343565e-05, 9.2338902e-05,\n",
              "        9.2364084e-05, 9.2385228e-05, 9.2399852e-05, 9.2409187e-05,\n",
              "        9.2414492e-05, 9.2416238e-05, 9.2415008e-05, 9.2411487e-05,\n",
              "        9.2406459e-05, 9.2401795e-05, 9.2400383e-05, 9.2408496e-05,\n",
              "        9.2438109e-05, 9.2521019e-05, 9.2751587e-05, 9.3160976e-05,\n",
              "        9.3509370e-05, 8.5284404e-02, 6.8331808e-01, 8.3170757e-02,\n",
              "        1.4628007e-01],\n",
              "       [8.6226290e-05, 8.2189559e-05, 8.1862338e-05, 8.1864993e-05,\n",
              "        8.1903338e-05, 8.1937789e-05, 8.1965773e-05, 8.1988990e-05,\n",
              "        8.2009006e-05, 8.2027545e-05, 8.2046405e-05, 8.2069411e-05,\n",
              "        8.2103696e-05, 8.2164159e-05, 8.2298342e-05, 8.2722938e-05,\n",
              "        8.4008578e-05, 8.6799540e-05, 7.1248424e-01, 2.4990421e-02,\n",
              "        1.7936912e-01, 1.2503319e-02, 3.1699967e-02, 2.1486828e-02,\n",
              "        1.5977832e-02],\n",
              "       [3.8897173e-04, 3.6841579e-04, 3.6674974e-04, 3.6675343e-04,\n",
              "        3.6693166e-04, 3.6708760e-04, 3.6720734e-04, 3.6730000e-04,\n",
              "        3.6737233e-04, 3.6742768e-04, 3.6746942e-04, 3.6749954e-04,\n",
              "        3.6752108e-04, 3.6753964e-04, 3.6756243e-04, 3.6760487e-04,\n",
              "        3.6769477e-04, 3.6788473e-04, 3.6827507e-04, 3.6913090e-04,\n",
              "        3.7137326e-04, 3.7719385e-04, 3.8819108e-04, 9.2763102e-01,\n",
              "        6.3859932e-02],\n",
              "       [2.1420616e-05, 2.0458374e-05, 2.0383166e-05, 2.0387228e-05,\n",
              "        2.0400474e-05, 2.0414016e-05, 2.0428233e-05, 2.0445677e-05,\n",
              "        2.0470789e-05, 2.0513096e-05, 2.0597745e-05, 2.0802161e-05,\n",
              "        2.1301483e-05, 2.2335345e-05, 2.5424296e-02, 3.0442920e-01,\n",
              "        5.2182448e-01, 9.0405189e-02, 6.3828740e-04, 8.5529464e-04,\n",
              "        1.1381791e-02, 3.1453911e-03, 3.5236386e-04, 3.8676184e-02,\n",
              "        2.5771565e-03],\n",
              "       [8.2583650e-04, 7.9708075e-04, 7.9466373e-04, 7.9457049e-04,\n",
              "        7.9472014e-04, 7.9483842e-04, 7.9490623e-04, 7.9493428e-04,\n",
              "        7.9493620e-04, 7.9492183e-04, 7.9490885e-04, 7.9491991e-04,\n",
              "        7.9499983e-04, 7.9521973e-04, 7.9572952e-04, 7.9713506e-04,\n",
              "        8.0092147e-04, 8.0398604e-04, 9.4883572e-03, 2.1629058e-02,\n",
              "        2.2625688e-02, 4.0170986e-02, 3.3811390e-01, 5.0214666e-01,\n",
              "        5.1466051e-02],\n",
              "       [3.8731938e-05, 3.6856585e-05, 3.6705576e-05, 3.6707293e-05,\n",
              "        3.6725258e-05, 3.6741159e-05, 3.6753918e-05, 3.6764119e-05,\n",
              "        3.6772497e-05, 3.6779442e-05, 3.6785157e-05, 3.6789897e-05,\n",
              "        3.6794037e-05, 3.6798247e-05, 3.6803580e-05, 3.6812220e-05,\n",
              "        3.6828158e-05, 3.6860347e-05, 3.6934453e-05, 3.7137190e-05,\n",
              "        3.7589001e-05, 3.8372440e-05, 4.5017526e-01, 5.3200024e-01,\n",
              "        1.7010426e-02],\n",
              "       [4.1720923e-02, 3.9934956e-02, 3.9788939e-02, 3.9789073e-02,\n",
              "        3.9804876e-02, 3.9818835e-02, 3.9829694e-02, 3.9838035e-02,\n",
              "        3.9844438e-02, 3.9849129e-02, 3.9852321e-02, 3.9854072e-02,\n",
              "        3.9854582e-02, 3.9853878e-02, 3.9852187e-02, 3.9849736e-02,\n",
              "        3.9847042e-02, 3.9844949e-02, 3.9844967e-02, 3.9850306e-02,\n",
              "        3.9867125e-02, 3.9912496e-02, 4.0053461e-02, 4.0441085e-02,\n",
              "        4.1002870e-02],\n",
              "       [4.1720923e-02, 3.9934956e-02, 3.9788939e-02, 3.9789073e-02,\n",
              "        3.9804876e-02, 3.9818835e-02, 3.9829694e-02, 3.9838035e-02,\n",
              "        3.9844438e-02, 3.9849129e-02, 3.9852321e-02, 3.9854072e-02,\n",
              "        3.9854582e-02, 3.9853878e-02, 3.9852187e-02, 3.9849736e-02,\n",
              "        3.9847042e-02, 3.9844949e-02, 3.9844967e-02, 3.9850306e-02,\n",
              "        3.9867125e-02, 3.9912496e-02, 4.0053461e-02, 4.0441085e-02,\n",
              "        4.1002870e-02],\n",
              "       [4.1720923e-02, 3.9934956e-02, 3.9788939e-02, 3.9789073e-02,\n",
              "        3.9804876e-02, 3.9818835e-02, 3.9829694e-02, 3.9838035e-02,\n",
              "        3.9844438e-02, 3.9849129e-02, 3.9852321e-02, 3.9854072e-02,\n",
              "        3.9854582e-02, 3.9853878e-02, 3.9852187e-02, 3.9849736e-02,\n",
              "        3.9847042e-02, 3.9844949e-02, 3.9844967e-02, 3.9850306e-02,\n",
              "        3.9867125e-02, 3.9912496e-02, 4.0053461e-02, 4.0441085e-02,\n",
              "        4.1002870e-02],\n",
              "       [4.1720923e-02, 3.9934956e-02, 3.9788939e-02, 3.9789073e-02,\n",
              "        3.9804876e-02, 3.9818835e-02, 3.9829694e-02, 3.9838035e-02,\n",
              "        3.9844438e-02, 3.9849129e-02, 3.9852321e-02, 3.9854072e-02,\n",
              "        3.9854582e-02, 3.9853878e-02, 3.9852187e-02, 3.9849736e-02,\n",
              "        3.9847042e-02, 3.9844949e-02, 3.9844967e-02, 3.9850306e-02,\n",
              "        3.9867125e-02, 3.9912496e-02, 4.0053461e-02, 4.0441085e-02,\n",
              "        4.1002870e-02]], dtype=float32)"
            ]
          },
          "execution_count": 114,
          "metadata": {},
          "output_type": "execute_result"
        }
      ],
      "source": [
        "pred_ws_att_mat = np.array(pred_ws_att) ;pred_ws_att_mat"
      ]
    },
    {
      "cell_type": "code",
      "execution_count": null,
      "metadata": {
        "colab": {
          "base_uri": "https://localhost:8080/"
        },
        "id": "PJmiCSgdrJuZ",
        "outputId": "80d59c5e-8bdc-446c-fcf9-caec53c7a871"
      },
      "outputs": [
        {
          "name": "stdout",
          "output_type": "stream",
          "text": [
            "[[0.19652928]\n",
            " [0.22368807]\n",
            " [0.04730705]\n",
            " [0.9142483 ]\n",
            " [0.12484623]\n",
            " [0.23982859]\n",
            " [0.00791163]\n",
            " [0.00540528]\n",
            " [0.00523158]\n",
            " [0.00535012]]\n",
            "[0.11101179 0.12635273 0.02672192 0.51642346 0.0705208  0.13546988\n",
            " 0.00446897 0.00305323 0.00295512 0.00302207]\n"
          ]
        }
      ],
      "source": [
        "from sklearn.preprocessing import normalize\n",
        "pred_sent_attention_2d = np.reshape(pred_sent_attention,(10,1))\n",
        "w_normalized = normalize(pred_sent_attention_2d, norm='l2', axis=0)\n",
        "# axis=1는 행으로 정규화해야하고 axis=0는 열로 정규화해야합니다. 선택적 인수 copy=False를 사용하여 행렬을 수정하십시오.\n",
        "print(w_normalized)\n",
        "print(pred_sent_attention)"
      ]
    },
    {
      "cell_type": "code",
      "execution_count": null,
      "metadata": {
        "colab": {
          "base_uri": "https://localhost:8080/"
        },
        "id": "PBPwVayWwUd4",
        "outputId": "3b593e34-da8d-4c51-edfa-5f1f1da4b40d"
      },
      "outputs": [
        {
          "name": "stdout",
          "output_type": "stream",
          "text": [
            "[[1.35619004e-04 1.30674278e-04 1.30266650e-04 1.30260072e-04\n",
            "  1.30295593e-04 1.30325425e-04 1.30346059e-04 1.30359229e-04\n",
            "  1.30366709e-04 1.30369168e-04 1.30367436e-04 1.30362474e-04\n",
            "  1.30355373e-04 1.30348795e-04 1.30346802e-04 1.30358254e-04\n",
            "  1.30400018e-04 1.30516986e-04 1.30842236e-04 1.31419758e-04\n",
            "  1.31911220e-04 1.20308481e-01 9.63938951e-01 1.17326811e-01\n",
            "  2.06353456e-01]\n",
            " [1.17088952e-04 1.11607369e-04 1.11163026e-04 1.11166635e-04\n",
            "  1.11218702e-04 1.11265486e-04 1.11303489e-04 1.11335015e-04\n",
            "  1.11362198e-04 1.11387373e-04 1.11412977e-04 1.11444220e-04\n",
            "  1.11490779e-04 1.11572881e-04 1.11755093e-04 1.12331662e-04\n",
            "  1.14077462e-04 1.17867385e-04 9.67501163e-01 3.39351520e-02\n",
            "  2.43570060e-01 1.69785880e-02 4.30462211e-02 2.91775316e-02\n",
            "  2.16967184e-02]\n",
            " [4.18326439e-04 3.96219199e-04 3.94427421e-04 3.94431379e-04\n",
            "  3.94623057e-04 3.94790783e-04 3.94919538e-04 3.95019189e-04\n",
            "  3.95096984e-04 3.95156501e-04 3.95201409e-04 3.95233801e-04\n",
            "  3.95256968e-04 3.95276933e-04 3.95301438e-04 3.95347073e-04\n",
            "  3.95443756e-04 3.95648065e-04 3.96067859e-04 3.96988267e-04\n",
            "  3.99399869e-04 4.05659724e-04 4.17486881e-04 9.97636974e-01\n",
            "  6.86792806e-02]\n",
            " [3.49591865e-05 3.33887729e-05 3.32660311e-05 3.32726595e-05\n",
            "  3.32942800e-05 3.33163807e-05 3.33395838e-05 3.33680509e-05\n",
            "  3.34090364e-05 3.34780816e-05 3.36162338e-05 3.39498474e-05\n",
            "  3.47647583e-05 3.64520565e-05 4.14933302e-02 4.96838987e-01\n",
            "  8.51635575e-01 1.47544399e-01 1.04170712e-03 1.39587047e-03\n",
            "  1.85754765e-02 5.13338717e-03 5.75069978e-04 6.31208718e-02\n",
            "  4.20600874e-03]\n",
            " [1.35434733e-03 1.30718877e-03 1.30322494e-03 1.30307197e-03\n",
            "  1.30331737e-03 1.30351144e-03 1.30362262e-03 1.30366860e-03\n",
            "  1.30367174e-03 1.30364823e-03 1.30362692e-03 1.30364508e-03\n",
            "  1.30377605e-03 1.30413671e-03 1.30497280e-03 1.30727782e-03\n",
            "  1.31348742e-03 1.31851318e-03 1.55606242e-02 3.54710110e-02\n",
            "  3.71054560e-02 6.58792257e-02 5.54496765e-01 8.23505640e-01\n",
            "  8.44027996e-02]\n",
            " [5.55602091e-05 5.28700511e-05 5.26534313e-05 5.26558943e-05\n",
            "  5.26816657e-05 5.27044758e-05 5.27227785e-05 5.27374104e-05\n",
            "  5.27494303e-05 5.27593911e-05 5.27675911e-05 5.27743905e-05\n",
            "  5.27803277e-05 5.27863667e-05 5.27940174e-05 5.28064120e-05\n",
            "  5.28292730e-05 5.28754463e-05 5.29817517e-05 5.32725753e-05\n",
            "  5.39206885e-05 5.50445147e-05 6.45767629e-01 7.63143957e-01\n",
            "  2.44011246e-02]\n",
            " [2.08592415e-01 1.99663103e-01 1.98933050e-01 1.98933721e-01\n",
            "  1.99012741e-01 1.99082524e-01 1.99136823e-01 1.99178517e-01\n",
            "  1.99210539e-01 1.99233994e-01 1.99249953e-01 1.99258700e-01\n",
            "  1.99261248e-01 1.99257731e-01 1.99249282e-01 1.99237019e-01\n",
            "  1.99223563e-01 1.99213088e-01 1.99213177e-01 1.99239880e-01\n",
            "  1.99323967e-01 1.99550807e-01 2.00255588e-01 2.02193588e-01\n",
            "  2.05002353e-01]\n",
            " [2.08592415e-01 1.99663103e-01 1.98933050e-01 1.98933721e-01\n",
            "  1.99012741e-01 1.99082524e-01 1.99136823e-01 1.99178517e-01\n",
            "  1.99210539e-01 1.99233994e-01 1.99249953e-01 1.99258700e-01\n",
            "  1.99261248e-01 1.99257731e-01 1.99249282e-01 1.99237019e-01\n",
            "  1.99223563e-01 1.99213088e-01 1.99213177e-01 1.99239880e-01\n",
            "  1.99323967e-01 1.99550807e-01 2.00255588e-01 2.02193588e-01\n",
            "  2.05002353e-01]\n",
            " [2.08592415e-01 1.99663103e-01 1.98933050e-01 1.98933721e-01\n",
            "  1.99012741e-01 1.99082524e-01 1.99136823e-01 1.99178517e-01\n",
            "  1.99210539e-01 1.99233994e-01 1.99249953e-01 1.99258700e-01\n",
            "  1.99261248e-01 1.99257731e-01 1.99249282e-01 1.99237019e-01\n",
            "  1.99223563e-01 1.99213088e-01 1.99213177e-01 1.99239880e-01\n",
            "  1.99323967e-01 1.99550807e-01 2.00255588e-01 2.02193588e-01\n",
            "  2.05002353e-01]\n",
            " [2.08592415e-01 1.99663103e-01 1.98933050e-01 1.98933721e-01\n",
            "  1.99012741e-01 1.99082524e-01 1.99136823e-01 1.99178517e-01\n",
            "  1.99210539e-01 1.99233994e-01 1.99249953e-01 1.99258700e-01\n",
            "  1.99261248e-01 1.99257731e-01 1.99249282e-01 1.99237019e-01\n",
            "  1.99223563e-01 1.99213088e-01 1.99213177e-01 1.99239880e-01\n",
            "  1.99323967e-01 1.99550807e-01 2.00255588e-01 2.02193588e-01\n",
            "  2.05002353e-01]]\n",
            "[[9.6137745e-05 9.2632523e-05 9.2343565e-05 9.2338902e-05 9.2364084e-05\n",
            "  9.2385228e-05 9.2399852e-05 9.2409187e-05 9.2414492e-05 9.2416238e-05\n",
            "  9.2415008e-05 9.2411487e-05 9.2406459e-05 9.2401795e-05 9.2400383e-05\n",
            "  9.2408496e-05 9.2438109e-05 9.2521019e-05 9.2751587e-05 9.3160976e-05\n",
            "  9.3509370e-05 8.5284404e-02 6.8331808e-01 8.3170757e-02 1.4628007e-01]\n",
            " [8.6226290e-05 8.2189559e-05 8.1862338e-05 8.1864993e-05 8.1903338e-05\n",
            "  8.1937789e-05 8.1965773e-05 8.1988990e-05 8.2009006e-05 8.2027545e-05\n",
            "  8.2046405e-05 8.2069411e-05 8.2103696e-05 8.2164159e-05 8.2298342e-05\n",
            "  8.2722938e-05 8.4008578e-05 8.6799540e-05 7.1248424e-01 2.4990421e-02\n",
            "  1.7936912e-01 1.2503319e-02 3.1699967e-02 2.1486828e-02 1.5977832e-02]\n",
            " [3.8897173e-04 3.6841579e-04 3.6674974e-04 3.6675343e-04 3.6693166e-04\n",
            "  3.6708760e-04 3.6720734e-04 3.6730000e-04 3.6737233e-04 3.6742768e-04\n",
            "  3.6746942e-04 3.6749954e-04 3.6752108e-04 3.6753964e-04 3.6756243e-04\n",
            "  3.6760487e-04 3.6769477e-04 3.6788473e-04 3.6827507e-04 3.6913090e-04\n",
            "  3.7137326e-04 3.7719385e-04 3.8819108e-04 9.2763102e-01 6.3859932e-02]\n",
            " [2.1420616e-05 2.0458374e-05 2.0383166e-05 2.0387228e-05 2.0400474e-05\n",
            "  2.0414016e-05 2.0428233e-05 2.0445677e-05 2.0470789e-05 2.0513096e-05\n",
            "  2.0597745e-05 2.0802161e-05 2.1301483e-05 2.2335345e-05 2.5424296e-02\n",
            "  3.0442920e-01 5.2182448e-01 9.0405189e-02 6.3828740e-04 8.5529464e-04\n",
            "  1.1381791e-02 3.1453911e-03 3.5236386e-04 3.8676184e-02 2.5771565e-03]\n",
            " [8.2583650e-04 7.9708075e-04 7.9466373e-04 7.9457049e-04 7.9472014e-04\n",
            "  7.9483842e-04 7.9490623e-04 7.9493428e-04 7.9493620e-04 7.9492183e-04\n",
            "  7.9490885e-04 7.9491991e-04 7.9499983e-04 7.9521973e-04 7.9572952e-04\n",
            "  7.9713506e-04 8.0092147e-04 8.0398604e-04 9.4883572e-03 2.1629058e-02\n",
            "  2.2625688e-02 4.0170986e-02 3.3811390e-01 5.0214666e-01 5.1466051e-02]\n",
            " [3.8731938e-05 3.6856585e-05 3.6705576e-05 3.6707293e-05 3.6725258e-05\n",
            "  3.6741159e-05 3.6753918e-05 3.6764119e-05 3.6772497e-05 3.6779442e-05\n",
            "  3.6785157e-05 3.6789897e-05 3.6794037e-05 3.6798247e-05 3.6803580e-05\n",
            "  3.6812220e-05 3.6828158e-05 3.6860347e-05 3.6934453e-05 3.7137190e-05\n",
            "  3.7589001e-05 3.8372440e-05 4.5017526e-01 5.3200024e-01 1.7010426e-02]\n",
            " [4.1720923e-02 3.9934956e-02 3.9788939e-02 3.9789073e-02 3.9804876e-02\n",
            "  3.9818835e-02 3.9829694e-02 3.9838035e-02 3.9844438e-02 3.9849129e-02\n",
            "  3.9852321e-02 3.9854072e-02 3.9854582e-02 3.9853878e-02 3.9852187e-02\n",
            "  3.9849736e-02 3.9847042e-02 3.9844949e-02 3.9844967e-02 3.9850306e-02\n",
            "  3.9867125e-02 3.9912496e-02 4.0053461e-02 4.0441085e-02 4.1002870e-02]\n",
            " [4.1720923e-02 3.9934956e-02 3.9788939e-02 3.9789073e-02 3.9804876e-02\n",
            "  3.9818835e-02 3.9829694e-02 3.9838035e-02 3.9844438e-02 3.9849129e-02\n",
            "  3.9852321e-02 3.9854072e-02 3.9854582e-02 3.9853878e-02 3.9852187e-02\n",
            "  3.9849736e-02 3.9847042e-02 3.9844949e-02 3.9844967e-02 3.9850306e-02\n",
            "  3.9867125e-02 3.9912496e-02 4.0053461e-02 4.0441085e-02 4.1002870e-02]\n",
            " [4.1720923e-02 3.9934956e-02 3.9788939e-02 3.9789073e-02 3.9804876e-02\n",
            "  3.9818835e-02 3.9829694e-02 3.9838035e-02 3.9844438e-02 3.9849129e-02\n",
            "  3.9852321e-02 3.9854072e-02 3.9854582e-02 3.9853878e-02 3.9852187e-02\n",
            "  3.9849736e-02 3.9847042e-02 3.9844949e-02 3.9844967e-02 3.9850306e-02\n",
            "  3.9867125e-02 3.9912496e-02 4.0053461e-02 4.0441085e-02 4.1002870e-02]\n",
            " [4.1720923e-02 3.9934956e-02 3.9788939e-02 3.9789073e-02 3.9804876e-02\n",
            "  3.9818835e-02 3.9829694e-02 3.9838035e-02 3.9844438e-02 3.9849129e-02\n",
            "  3.9852321e-02 3.9854072e-02 3.9854582e-02 3.9853878e-02 3.9852187e-02\n",
            "  3.9849736e-02 3.9847042e-02 3.9844949e-02 3.9844967e-02 3.9850306e-02\n",
            "  3.9867125e-02 3.9912496e-02 4.0053461e-02 4.0441085e-02 4.1002870e-02]]\n"
          ]
        }
      ],
      "source": [
        "w_normalized = normalize(pred_ws_att, norm='l2', axis=1)\n",
        "\n",
        "\n",
        "print(w_normalized)\n",
        "print(pred_ws_att)"
      ]
    },
    {
      "cell_type": "code",
      "execution_count": null,
      "metadata": {
        "colab": {
          "base_uri": "https://localhost:8080/",
          "height": 474
        },
        "id": "o_S7hoqkpHnA",
        "outputId": "73550ff7-0182-4f78-d7f9-518098cb46b7"
      },
      "outputs": [
        {
          "ename": "ValueError",
          "evalue": "ignored",
          "output_type": "error",
          "traceback": [
            "\u001b[0;31m---------------------------------------------------------------------------\u001b[0m",
            "\u001b[0;31mValueError\u001b[0m                                Traceback (most recent call last)",
            "\u001b[0;32m<ipython-input-131-7e9af27b2659>\u001b[0m in \u001b[0;36m<module>\u001b[0;34m()\u001b[0m\n\u001b[1;32m      3\u001b[0m \u001b[0;32mfrom\u001b[0m \u001b[0msklearn\u001b[0m\u001b[0;34m.\u001b[0m\u001b[0mpreprocessing\u001b[0m \u001b[0;32mimport\u001b[0m \u001b[0mStandardScaler\u001b[0m\u001b[0;34m\u001b[0m\u001b[0;34m\u001b[0m\u001b[0m\n\u001b[1;32m      4\u001b[0m \u001b[0mtransformer\u001b[0m \u001b[0;34m=\u001b[0m \u001b[0mStandardScaler\u001b[0m\u001b[0;34m(\u001b[0m\u001b[0;34m)\u001b[0m\u001b[0;34m\u001b[0m\u001b[0;34m\u001b[0m\u001b[0m\n\u001b[0;32m----> 5\u001b[0;31m \u001b[0mtransformer\u001b[0m\u001b[0;34m.\u001b[0m\u001b[0mfit\u001b[0m\u001b[0;34m(\u001b[0m\u001b[0mpred_sent_attention\u001b[0m\u001b[0;34m)\u001b[0m \u001b[0;31m#StandardScaler 모델에 x_train_df 데이터 적용 (평균, 표준편차 계산)\u001b[0m\u001b[0;34m\u001b[0m\u001b[0;34m\u001b[0m\u001b[0m\n\u001b[0m\u001b[1;32m      6\u001b[0m \u001b[0;31m#print(transformer.mean_) #[5.16666667 5.75      ]\u001b[0m\u001b[0;34m\u001b[0m\u001b[0;34m\u001b[0m\u001b[0;34m\u001b[0m\u001b[0m\n\u001b[1;32m      7\u001b[0m \u001b[0;31m#print(transformer.var_) #[ 6.80555556 12.02083333]\u001b[0m\u001b[0;34m\u001b[0m\u001b[0;34m\u001b[0m\u001b[0;34m\u001b[0m\u001b[0m\n",
            "\u001b[0;32m/usr/local/lib/python3.7/dist-packages/sklearn/preprocessing/_data.py\u001b[0m in \u001b[0;36mfit\u001b[0;34m(self, X, y, sample_weight)\u001b[0m\n\u001b[1;32m    804\u001b[0m         \u001b[0;31m# Reset internal state before fitting\u001b[0m\u001b[0;34m\u001b[0m\u001b[0;34m\u001b[0m\u001b[0;34m\u001b[0m\u001b[0m\n\u001b[1;32m    805\u001b[0m         \u001b[0mself\u001b[0m\u001b[0;34m.\u001b[0m\u001b[0m_reset\u001b[0m\u001b[0;34m(\u001b[0m\u001b[0;34m)\u001b[0m\u001b[0;34m\u001b[0m\u001b[0;34m\u001b[0m\u001b[0m\n\u001b[0;32m--> 806\u001b[0;31m         \u001b[0;32mreturn\u001b[0m \u001b[0mself\u001b[0m\u001b[0;34m.\u001b[0m\u001b[0mpartial_fit\u001b[0m\u001b[0;34m(\u001b[0m\u001b[0mX\u001b[0m\u001b[0;34m,\u001b[0m \u001b[0my\u001b[0m\u001b[0;34m,\u001b[0m \u001b[0msample_weight\u001b[0m\u001b[0;34m)\u001b[0m\u001b[0;34m\u001b[0m\u001b[0;34m\u001b[0m\u001b[0m\n\u001b[0m\u001b[1;32m    807\u001b[0m \u001b[0;34m\u001b[0m\u001b[0m\n\u001b[1;32m    808\u001b[0m     \u001b[0;32mdef\u001b[0m \u001b[0mpartial_fit\u001b[0m\u001b[0;34m(\u001b[0m\u001b[0mself\u001b[0m\u001b[0;34m,\u001b[0m \u001b[0mX\u001b[0m\u001b[0;34m,\u001b[0m \u001b[0my\u001b[0m\u001b[0;34m=\u001b[0m\u001b[0;32mNone\u001b[0m\u001b[0;34m,\u001b[0m \u001b[0msample_weight\u001b[0m\u001b[0;34m=\u001b[0m\u001b[0;32mNone\u001b[0m\u001b[0;34m)\u001b[0m\u001b[0;34m:\u001b[0m\u001b[0;34m\u001b[0m\u001b[0;34m\u001b[0m\u001b[0m\n",
            "\u001b[0;32m/usr/local/lib/python3.7/dist-packages/sklearn/preprocessing/_data.py\u001b[0m in \u001b[0;36mpartial_fit\u001b[0;34m(self, X, y, sample_weight)\u001b[0m\n\u001b[1;32m    845\u001b[0m             \u001b[0mdtype\u001b[0m\u001b[0;34m=\u001b[0m\u001b[0mFLOAT_DTYPES\u001b[0m\u001b[0;34m,\u001b[0m\u001b[0;34m\u001b[0m\u001b[0;34m\u001b[0m\u001b[0m\n\u001b[1;32m    846\u001b[0m             \u001b[0mforce_all_finite\u001b[0m\u001b[0;34m=\u001b[0m\u001b[0;34m\"allow-nan\"\u001b[0m\u001b[0;34m,\u001b[0m\u001b[0;34m\u001b[0m\u001b[0;34m\u001b[0m\u001b[0m\n\u001b[0;32m--> 847\u001b[0;31m             \u001b[0mreset\u001b[0m\u001b[0;34m=\u001b[0m\u001b[0mfirst_call\u001b[0m\u001b[0;34m,\u001b[0m\u001b[0;34m\u001b[0m\u001b[0;34m\u001b[0m\u001b[0m\n\u001b[0m\u001b[1;32m    848\u001b[0m         )\n\u001b[1;32m    849\u001b[0m         \u001b[0mn_features\u001b[0m \u001b[0;34m=\u001b[0m \u001b[0mX\u001b[0m\u001b[0;34m.\u001b[0m\u001b[0mshape\u001b[0m\u001b[0;34m[\u001b[0m\u001b[0;36m1\u001b[0m\u001b[0;34m]\u001b[0m\u001b[0;34m\u001b[0m\u001b[0;34m\u001b[0m\u001b[0m\n",
            "\u001b[0;32m/usr/local/lib/python3.7/dist-packages/sklearn/base.py\u001b[0m in \u001b[0;36m_validate_data\u001b[0;34m(self, X, y, reset, validate_separately, **check_params)\u001b[0m\n\u001b[1;32m    564\u001b[0m             \u001b[0;32mraise\u001b[0m \u001b[0mValueError\u001b[0m\u001b[0;34m(\u001b[0m\u001b[0;34m\"Validation should be done on X, y or both.\"\u001b[0m\u001b[0;34m)\u001b[0m\u001b[0;34m\u001b[0m\u001b[0;34m\u001b[0m\u001b[0m\n\u001b[1;32m    565\u001b[0m         \u001b[0;32melif\u001b[0m \u001b[0;32mnot\u001b[0m \u001b[0mno_val_X\u001b[0m \u001b[0;32mand\u001b[0m \u001b[0mno_val_y\u001b[0m\u001b[0;34m:\u001b[0m\u001b[0;34m\u001b[0m\u001b[0;34m\u001b[0m\u001b[0m\n\u001b[0;32m--> 566\u001b[0;31m             \u001b[0mX\u001b[0m \u001b[0;34m=\u001b[0m \u001b[0mcheck_array\u001b[0m\u001b[0;34m(\u001b[0m\u001b[0mX\u001b[0m\u001b[0;34m,\u001b[0m \u001b[0;34m**\u001b[0m\u001b[0mcheck_params\u001b[0m\u001b[0;34m)\u001b[0m\u001b[0;34m\u001b[0m\u001b[0;34m\u001b[0m\u001b[0m\n\u001b[0m\u001b[1;32m    567\u001b[0m             \u001b[0mout\u001b[0m \u001b[0;34m=\u001b[0m \u001b[0mX\u001b[0m\u001b[0;34m\u001b[0m\u001b[0;34m\u001b[0m\u001b[0m\n\u001b[1;32m    568\u001b[0m         \u001b[0;32melif\u001b[0m \u001b[0mno_val_X\u001b[0m \u001b[0;32mand\u001b[0m \u001b[0;32mnot\u001b[0m \u001b[0mno_val_y\u001b[0m\u001b[0;34m:\u001b[0m\u001b[0;34m\u001b[0m\u001b[0;34m\u001b[0m\u001b[0m\n",
            "\u001b[0;32m/usr/local/lib/python3.7/dist-packages/sklearn/utils/validation.py\u001b[0m in \u001b[0;36mcheck_array\u001b[0;34m(array, accept_sparse, accept_large_sparse, dtype, order, copy, force_all_finite, ensure_2d, allow_nd, ensure_min_samples, ensure_min_features, estimator)\u001b[0m\n\u001b[1;32m    771\u001b[0m                     \u001b[0;34m\"Reshape your data either using array.reshape(-1, 1) if \"\u001b[0m\u001b[0;34m\u001b[0m\u001b[0;34m\u001b[0m\u001b[0m\n\u001b[1;32m    772\u001b[0m                     \u001b[0;34m\"your data has a single feature or array.reshape(1, -1) \"\u001b[0m\u001b[0;34m\u001b[0m\u001b[0;34m\u001b[0m\u001b[0m\n\u001b[0;32m--> 773\u001b[0;31m                     \u001b[0;34m\"if it contains a single sample.\"\u001b[0m\u001b[0;34m.\u001b[0m\u001b[0mformat\u001b[0m\u001b[0;34m(\u001b[0m\u001b[0marray\u001b[0m\u001b[0;34m)\u001b[0m\u001b[0;34m\u001b[0m\u001b[0;34m\u001b[0m\u001b[0m\n\u001b[0m\u001b[1;32m    774\u001b[0m                 )\n\u001b[1;32m    775\u001b[0m \u001b[0;34m\u001b[0m\u001b[0m\n",
            "\u001b[0;31mValueError\u001b[0m: Expected 2D array, got 1D array instead:\narray=[0.11101179 0.12635273 0.02672192 0.51642346 0.0705208  0.13546988\n 0.00446897 0.00305323 0.00295512 0.00302207].\nReshape your data either using array.reshape(-1, 1) if your data has a single feature or array.reshape(1, -1) if it contains a single sample."
          ]
        }
      ],
      "source": [
        "import numpy as np\n",
        "from sklearn.preprocessing import normalize\n",
        "from sklearn.preprocessing import StandardScaler\n",
        "transformer = StandardScaler()\n",
        "transformer.fit(pred_sent_attention) #StandardScaler 모델에 x_train_df 데이터 적용 (평균, 표준편차 계산)\n",
        "#print(transformer.mean_) #[5.16666667 5.75      ]\n",
        "#print(transformer.var_) #[ 6.80555556 12.02083333]\n",
        "#print(transformer.scale_) #[2.60874597 3.46710734]\n",
        "x_data = transformer.transform(pred_sent_attention)\n",
        "print(x_data)\n",
        "\n",
        "#normalize(pred_sent_attention, axis=1).ravel()"
      ]
    },
    {
      "cell_type": "code",
      "execution_count": null,
      "metadata": {
        "id": "6JzGKe3vpg99"
      },
      "outputs": [],
      "source": [
        ""
      ]
    },
    {
      "cell_type": "code",
      "execution_count": null,
      "metadata": {
        "colab": {
          "base_uri": "https://localhost:8080/"
        },
        "id": "a1H7qi6mh3tt",
        "outputId": "44ba868f-2670-4005-fe6a-baadd9b42b03"
      },
      "outputs": [
        {
          "data": {
            "text/plain": [
              "0.5648613"
            ]
          },
          "execution_count": 119,
          "metadata": {},
          "output_type": "execute_result"
        }
      ],
      "source": [
        "norm = np.linalg.norm(pred_sent_attention, axis =0) ; norm"
      ]
    },
    {
      "cell_type": "code",
      "execution_count": null,
      "metadata": {
        "colab": {
          "base_uri": "https://localhost:8080/"
        },
        "id": "_uGJ_VO8l63l",
        "outputId": "b8b4f879-a0f2-4bd2-a020-30c1f43f7f48"
      },
      "outputs": [
        {
          "data": {
            "text/plain": [
              "array([[0.20006531, 0.20006531, 0.20006531, 0.20006531, 0.20006531,\n",
              "        0.20006531, 0.20006531, 0.20006531, 0.20006531, 0.20006531,\n",
              "        0.20006531, 0.20006531, 0.20006531, 0.20006531, 0.20006531,\n",
              "        0.20006531, 0.20006531, 0.20006531, 0.20006531, 0.20006531,\n",
              "        0.20006531, 0.20006531, 0.20006531, 0.20006531, 0.20006531],\n",
              "       [0.20011133, 0.20011133, 0.20011133, 0.20011133, 0.20011133,\n",
              "        0.20011133, 0.20011133, 0.20011133, 0.20011133, 0.20011133,\n",
              "        0.20011133, 0.20011133, 0.20011133, 0.20011133, 0.20011133,\n",
              "        0.20011133, 0.20011133, 0.20011133, 0.20011133, 0.20011133,\n",
              "        0.20011133, 0.20011133, 0.20011133, 0.20011133, 0.20011133],\n",
              "       [0.20034975, 0.20034975, 0.20034975, 0.20034975, 0.20034975,\n",
              "        0.20034975, 0.20034975, 0.20034975, 0.20034975, 0.20034975,\n",
              "        0.20034975, 0.20034975, 0.20034975, 0.20034975, 0.20034975,\n",
              "        0.20034975, 0.20034975, 0.20034975, 0.20034975, 0.20034975,\n",
              "        0.20034975, 0.20034975, 0.20034975, 0.20034975, 0.20034975],\n",
              "       [0.20049186, 0.20049186, 0.20049186, 0.20049186, 0.20049186,\n",
              "        0.20049186, 0.20049186, 0.20049186, 0.20049186, 0.20049186,\n",
              "        0.20049186, 0.20049186, 0.20049186, 0.20049186, 0.20049186,\n",
              "        0.20049186, 0.20049186, 0.20049186, 0.20049186, 0.20049186,\n",
              "        0.20049186, 0.20049186, 0.20049186, 0.20049186, 0.20049186],\n",
              "       [0.20014378, 0.20014378, 0.20014378, 0.20014378, 0.20014378,\n",
              "        0.20014378, 0.20014378, 0.20014378, 0.20014378, 0.20014378,\n",
              "        0.20014378, 0.20014378, 0.20014378, 0.20014378, 0.20014378,\n",
              "        0.20014378, 0.20014378, 0.20014378, 0.20014378, 0.20014378,\n",
              "        0.20014378, 0.20014378, 0.20014378, 0.20014378, 0.20014378],\n",
              "       [0.20009598, 0.20009598, 0.20009598, 0.20009598, 0.20009598,\n",
              "        0.20009598, 0.20009598, 0.20009598, 0.20009598, 0.20009598,\n",
              "        0.20009598, 0.20009598, 0.20009598, 0.20009598, 0.20009598,\n",
              "        0.20009598, 0.20009598, 0.20009598, 0.20009598, 0.20009598,\n",
              "        0.20009598, 0.20009598, 0.20009598, 0.20009598, 0.20009598],\n",
              "       [0.20006293, 0.20006293, 0.20006293, 0.20006293, 0.20006293,\n",
              "        0.20006293, 0.20006293, 0.20006293, 0.20006293, 0.20006293,\n",
              "        0.20006293, 0.20006293, 0.20006293, 0.20006293, 0.20006293,\n",
              "        0.20006293, 0.20006293, 0.20006293, 0.20006293, 0.20006293,\n",
              "        0.20006293, 0.20006293, 0.20006293, 0.20006293, 0.20006293],\n",
              "       [0.20006293, 0.20006293, 0.20006293, 0.20006293, 0.20006293,\n",
              "        0.20006293, 0.20006293, 0.20006293, 0.20006293, 0.20006293,\n",
              "        0.20006293, 0.20006293, 0.20006293, 0.20006293, 0.20006293,\n",
              "        0.20006293, 0.20006293, 0.20006293, 0.20006293, 0.20006293,\n",
              "        0.20006293, 0.20006293, 0.20006293, 0.20006293, 0.20006293],\n",
              "       [0.20006293, 0.20006293, 0.20006293, 0.20006293, 0.20006293,\n",
              "        0.20006293, 0.20006293, 0.20006293, 0.20006293, 0.20006293,\n",
              "        0.20006293, 0.20006293, 0.20006293, 0.20006293, 0.20006293,\n",
              "        0.20006293, 0.20006293, 0.20006293, 0.20006293, 0.20006293,\n",
              "        0.20006293, 0.20006293, 0.20006293, 0.20006293, 0.20006293],\n",
              "       [0.20006293, 0.20006293, 0.20006293, 0.20006293, 0.20006293,\n",
              "        0.20006293, 0.20006293, 0.20006293, 0.20006293, 0.20006293,\n",
              "        0.20006293, 0.20006293, 0.20006293, 0.20006293, 0.20006293,\n",
              "        0.20006293, 0.20006293, 0.20006293, 0.20006293, 0.20006293,\n",
              "        0.20006293, 0.20006293, 0.20006293, 0.20006293, 0.20006293]],\n",
              "      dtype=float32)"
            ]
          },
          "execution_count": 67,
          "metadata": {},
          "output_type": "execute_result"
        }
      ],
      "source": [
        "np.tile(norm, (25, 1)).T"
      ]
    },
    {
      "cell_type": "code",
      "execution_count": null,
      "metadata": {
        "colab": {
          "base_uri": "https://localhost:8080/"
        },
        "id": "ypL9_CrKjnQ8",
        "outputId": "0132c82a-4526-48f4-b084-6f9a8ebf21e2"
      },
      "outputs": [
        {
          "data": {
            "text/plain": [
              "array([[0.20780529, 0.20730865, 0.20628875, 0.20505401, 0.20387298,\n",
              "        0.20279817, 0.20183119, 0.20096709, 0.20019846, 0.19951372,\n",
              "        0.19889617, 0.19832331, 0.19776587, 0.19718622, 0.19653708,\n",
              "        0.19576252, 0.19480766, 0.19364627, 0.19232939, 0.19101207,\n",
              "        0.19009896, 0.20484851, 0.20705678, 0.19989844, 0.20456034],\n",
              "       [0.20687416, 0.20641196, 0.20542324, 0.20421834, 0.20306563,\n",
              "        0.20201673, 0.20107083, 0.20021865, 0.19944519, 0.19872674,\n",
              "        0.19802834, 0.19730125, 0.19648252, 0.1954996 , 0.19428657,\n",
              "        0.19281155, 0.19108059, 0.18928505, 0.19227944, 0.20783828,\n",
              "        0.22139268, 0.20384803, 0.19483502, 0.19596343, 0.19881462],\n",
              "       [0.21296512, 0.21241888, 0.21133997, 0.21004058, 0.20879376,\n",
              "        0.207652  , 0.20661639, 0.2056815 , 0.20484008, 0.20408122,\n",
              "        0.20339009, 0.20274782, 0.20213118, 0.20151173, 0.200854  ,\n",
              "        0.2001128 , 0.19923061, 0.19813597, 0.19674724, 0.19498529,\n",
              "        0.1927833 , 0.19001848, 0.18625616, 0.1822846 , 0.15565278],\n",
              "       [0.20881502, 0.208367  , 0.20734906, 0.20607707, 0.20481472,\n",
              "        0.20359829, 0.20240135, 0.20117743, 0.19986221, 0.19837536,\n",
              "        0.19663545, 0.19458665, 0.19218375, 0.18933551, 0.18797344,\n",
              "        0.18844326, 0.19061306, 0.20022461, 0.20088199, 0.25437978,\n",
              "        0.2043545 , 0.1853158 , 0.17199883, 0.19240688, 0.19756268],\n",
              "       [0.20821603, 0.20772259, 0.20668937, 0.20542903, 0.20421064,\n",
              "        0.20308425, 0.20204645, 0.20108458, 0.20017938, 0.19930193,\n",
              "        0.19841084, 0.19744986, 0.19634785, 0.19502486, 0.19341297,\n",
              "        0.1914907 , 0.18927586, 0.18678461, 0.18917386, 0.19093905,\n",
              "        0.19661033, 0.19689651, 0.20638995, 0.21906558, 0.21117122],\n",
              "       [0.210271  , 0.20977639, 0.20874669, 0.20749684, 0.2063001 ,\n",
              "        0.20521031, 0.20422962, 0.20335351, 0.20257498, 0.20188321,\n",
              "        0.20126243, 0.20069171, 0.20014387, 0.19958407, 0.1989672 ,\n",
              "        0.19823621, 0.19732301, 0.19616055, 0.19471666, 0.1930556 ,\n",
              "        0.19138642, 0.19026141, 0.19661972, 0.18641144, 0.19293848],\n",
              "       [0.20920001, 0.2086866 , 0.20765127, 0.2064026 , 0.20521043,\n",
              "        0.20412804, 0.20315811, 0.20229764, 0.2015422 , 0.20088492,\n",
              "        0.2003162 , 0.19982426, 0.19939558, 0.199015  , 0.1986652 ,\n",
              "        0.19832551, 0.19797014, 0.19756567, 0.19706853, 0.19642463,\n",
              "        0.19557527, 0.19447708, 0.19313273, 0.19158001, 0.18992954],\n",
              "       [0.20920001, 0.2086866 , 0.20765127, 0.2064026 , 0.20521043,\n",
              "        0.20412804, 0.20315811, 0.20229764, 0.2015422 , 0.20088492,\n",
              "        0.2003162 , 0.19982426, 0.19939558, 0.199015  , 0.1986652 ,\n",
              "        0.19832551, 0.19797014, 0.19756567, 0.19706853, 0.19642463,\n",
              "        0.19557527, 0.19447708, 0.19313273, 0.19158001, 0.18992954],\n",
              "       [0.20920001, 0.2086866 , 0.20765127, 0.2064026 , 0.20521043,\n",
              "        0.20412804, 0.20315811, 0.20229764, 0.2015422 , 0.20088492,\n",
              "        0.2003162 , 0.19982426, 0.19939558, 0.199015  , 0.1986652 ,\n",
              "        0.19832551, 0.19797014, 0.19756567, 0.19706853, 0.19642463,\n",
              "        0.19557527, 0.19447708, 0.19313273, 0.19158001, 0.18992954],\n",
              "       [0.20920001, 0.2086866 , 0.20765127, 0.2064026 , 0.20521043,\n",
              "        0.20412804, 0.20315811, 0.20229764, 0.2015422 , 0.20088492,\n",
              "        0.2003162 , 0.19982426, 0.19939558, 0.199015  , 0.1986652 ,\n",
              "        0.19832551, 0.19797014, 0.19756567, 0.19706853, 0.19642463,\n",
              "        0.19557527, 0.19447708, 0.19313273, 0.19158001, 0.18992954]],\n",
              "      dtype=float32)"
            ]
          },
          "execution_count": 65,
          "metadata": {},
          "output_type": "execute_result"
        }
      ],
      "source": [
        "a= pred_word_attention / np.tile(norm, (25, 1)).T ; a"
      ]
    },
    {
      "cell_type": "code",
      "execution_count": null,
      "metadata": {
        "id": "lbtq70E-jovl"
      },
      "outputs": [],
      "source": [
        "import matplotlib.pyplot as plt\n"
      ]
    },
    {
      "cell_type": "code",
      "execution_count": null,
      "metadata": {
        "colab": {
          "base_uri": "https://localhost:8080/",
          "height": 824
        },
        "id": "jBpVt03Og7kL",
        "outputId": "004013c6-08e9-40c6-b4b4-6b652b869456"
      },
      "outputs": [
        {
          "data": {
            "image/png": "[encoded data removed]",
            "text/plain": [
              "<Figure size 288x72 with 2 Axes>"
            ]
          },
          "metadata": {},
          "output_type": "display_data"
        },
        {
          "data": {
            "image/png": "[encoded data removed]",
            "text/plain": [
              "<Figure size 504x72 with 2 Axes>"
            ]
          },
          "metadata": {},
          "output_type": "display_data"
        },
        {
          "data": {
            "image/png": "[encoded data removed]",
            "text/plain": [
              "<Figure size 144x72 with 2 Axes>"
            ]
          },
          "metadata": {},
          "output_type": "display_data"
        },
        {
          "data": {
            "image/png": "[encoded data removed]",
            "text/plain": [
              "<Figure size 792x72 with 2 Axes>"
            ]
          },
          "metadata": {},
          "output_type": "display_data"
        },
        {
          "data": {
            "image/png": "[encoded data removed]",
            "text/plain": [
              "<Figure size 504x72 with 2 Axes>"
            ]
          },
          "metadata": {},
          "output_type": "display_data"
        },
        {
          "data": {
            "image/png": "[encoded data removed]",
            "text/plain": [
              "<Figure size 216x72 with 2 Axes>"
            ]
          },
          "metadata": {},
          "output_type": "display_data"
        }
      ],
      "source": [
        "sentiment_word_sentence_norm_analysis(sent1)"
      ]
    },
    {
      "cell_type": "code",
      "execution_count": null,
      "metadata": {
        "colab": {
          "base_uri": "https://localhost:8080/",
          "height": 823
        },
        "id": "YdHPYySfI2TA",
        "outputId": "d188b2a3-2157-4c7e-bdee-e2919c7e1482"
      },
      "outputs": [
        {
          "data": {
            "image/png": "[encoded data removed]",
            "text/plain": [
              "<Figure size 288x72 with 2 Axes>"
            ]
          },
          "metadata": {},
          "output_type": "display_data"
        },
        {
          "data": {
            "image/png": "[encoded data removed]",
            "text/plain": [
              "<Figure size 504x72 with 2 Axes>"
            ]
          },
          "metadata": {},
          "output_type": "display_data"
        },
        {
          "data": {
            "image/png": "[encoded data removed]",
            "text/plain": [
              "<Figure size 144x72 with 2 Axes>"
            ]
          },
          "metadata": {},
          "output_type": "display_data"
        },
        {
          "data": {
            "image/png": "[encoded data removed]",
            "text/plain": [
              "<Figure size 792x72 with 2 Axes>"
            ]
          },
          "metadata": {},
          "output_type": "display_data"
        },
        {
          "data": {
            "image/png": "[encoded data removed]",
            "text/plain": [
              "<Figure size 504x72 with 2 Axes>"
            ]
          },
          "metadata": {},
          "output_type": "display_data"
        },
        {
          "data": {
            "image/png": "[encoded data removed]",
            "text/plain": [
              "<Figure size 216x72 with 2 Axes>"
            ]
          },
          "metadata": {},
          "output_type": "display_data"
        }
      ],
      "source": [
        "sentiment_word_sentence_analysis(sent1)"
      ]
    },
    {
      "cell_type": "code",
      "execution_count": null,
      "metadata": {
        "colab": {
          "base_uri": "https://localhost:8080/",
          "height": 823
        },
        "id": "lNMRwEVjI2WK",
        "outputId": "2d456ed8-c1fe-4b9d-8712-2ffb9403413d"
      },
      "outputs": [
        {
          "data": {
            "image/png": "[encoded data removed]",
            "text/plain": [
              "<Figure size 288x72 with 2 Axes>"
            ]
          },
          "metadata": {},
          "output_type": "display_data"
        },
        {
          "data": {
            "image/png": "[encoded data removed]",
            "text/plain": [
              "<Figure size 504x72 with 2 Axes>"
            ]
          },
          "metadata": {},
          "output_type": "display_data"
        },
        {
          "data": {
            "image/png": "[encoded data removed]",
            "text/plain": [
              "<Figure size 144x72 with 2 Axes>"
            ]
          },
          "metadata": {},
          "output_type": "display_data"
        },
        {
          "data": {
            "image/png": "[encoded data removed]",
            "text/plain": [
              "<Figure size 792x72 with 2 Axes>"
            ]
          },
          "metadata": {},
          "output_type": "display_data"
        },
        {
          "data": {
            "image/png": "[encoded data removed]",
            "text/plain": [
              "<Figure size 504x72 with 2 Axes>"
            ]
          },
          "metadata": {},
          "output_type": "display_data"
        },
        {
          "data": {
            "image/png": "[encoded data removed]",
            "text/plain": [
              "<Figure size 216x72 with 2 Axes>"
            ]
          },
          "metadata": {},
          "output_type": "display_data"
        }
      ],
      "source": [
        "sentiment_analysis(sent1)"
      ]
    },
    {
      "cell_type": "code",
      "execution_count": null,
      "metadata": {
        "id": "Pf1M2arvV0g1"
      },
      "outputs": [],
      "source": [
        "\n",
        "#    word_attention_extractor = Model(inputs=[sentence_input], outputs=[word_attention])\n",
        "#    word_attentions = TimeDistributed(word_attention_extractor)(document_input)\n",
        "#    attention_extractor = Model(inputs=[document_input], outputs=[word_attentions, sentence_attention])\n",
        "\n",
        "def sentiment_sent_analysis(review):         # review 에 text가 들어가게됨\n",
        "    tokenized_sentences = doc2hierarchical(review)  # model 에 넣을수 있는 형태로 변형시켜줌\n",
        "    pred_sent_attention = attention_extractor.predict(np.asarray([tokenized_sentences]))[1][0]\n",
        "    print(pred_sent_attention)\n",
        "#    for sent_idx, doc in enumerate(tokenized_sentences):  # len(tokenized_sentences) = 문장의 개수 문장개수만큼 attention 계산함\n",
        "#        if doc[-1] == 0:\n",
        "#            continue\n",
        "            \n",
        "#        for sentence_idx in range(len(tokenized_sentences)):\n",
        "#            if doc[sentence_idx] != 0:\n",
        "                # words = [word_rev_index[word_id] for word_id in doc[word_idx:]]\n",
        "#                pred_att = pred_sent_attention[sent_idx][-len(words):]\n",
        "#                pred_att = np.expand_dims(pred_sent_att, axis=0)\n",
        " #               break\n",
        "\n",
        "#        fig, ax = plt.subplots(figsize=(len(words), 1))\n",
        "#        plt.rc('xtick', labelsize=16)\n",
        "#        midpoint = (max(pred_att[:, 0]) - min(pred_att[:, 0])) / 2\n",
        "#        heatmap = sn.heatmap(pred_att, xticklabels=words, yticklabels=False, square=True, linewidths=0.1, cmap='coolwarm', center=midpoint, vmin=0, vmax=1)\n",
        "#        plt.xticks(rotation=45)\n",
        "#        plt.show()\n"
      ]
    },
    {
      "cell_type": "code",
      "execution_count": null,
      "metadata": {
        "colab": {
          "base_uri": "https://localhost:8080/"
        },
        "id": "5yb67zQmPfWL",
        "outputId": "dfb4c748-9eeb-4b33-cc2a-795dd2ca7b51"
      },
      "outputs": [
        {
          "data": {
            "text/plain": [
              "array([0.15108556, 0.2972236 , 0.25681004, 0.1944112 , 0.05340075,\n",
              "       0.0442016 , 0.00086487, 0.00068306, 0.00067037, 0.00064894],\n",
              "      dtype=float32)"
            ]
          },
          "execution_count": 68,
          "metadata": {},
          "output_type": "execute_result"
        }
      ],
      "source": [
        ""
      ]
    },
    {
      "cell_type": "code",
      "execution_count": null,
      "metadata": {
        "colab": {
          "base_uri": "https://localhost:8080/"
        },
        "id": "dL8XAjadFz7x",
        "outputId": "eea6b097-8de5-4d6e-d9c7-945dc8142c7d"
      },
      "outputs": [
        {
          "data": {
            "text/plain": [
              "10"
            ]
          },
          "execution_count": 49,
          "metadata": {},
          "output_type": "execute_result"
        }
      ],
      "source": [
        "len(pred_sent_attention)"
      ]
    },
    {
      "cell_type": "code",
      "execution_count": null,
      "metadata": {
        "colab": {
          "base_uri": "https://localhost:8080/"
        },
        "id": "IDC9rAvNF8v_",
        "outputId": "458bca55-a06c-4544-e503-45d51d62fe0a"
      },
      "outputs": [
        {
          "data": {
            "text/plain": [
              "25"
            ]
          },
          "execution_count": 57,
          "metadata": {},
          "output_type": "execute_result"
        }
      ],
      "source": [
        "len(pred_word_attention[2])"
      ]
    },
    {
      "cell_type": "code",
      "execution_count": null,
      "metadata": {
        "colab": {
          "base_uri": "https://localhost:8080/"
        },
        "id": "4W92tsEIG5z0",
        "outputId": "d5bbca6c-efc5-4936-a237-cbc2710b2e89"
      },
      "outputs": [
        {
          "data": {
            "text/plain": [
              "2.6272624e-05"
            ]
          },
          "execution_count": 60,
          "metadata": {},
          "output_type": "execute_result"
        }
      ],
      "source": [
        " pred_word_attention[1][1]  "
      ]
    },
    {
      "cell_type": "code",
      "execution_count": null,
      "metadata": {
        "colab": {
          "base_uri": "https://localhost:8080/"
        },
        "id": "QEnRgyPeG7VV",
        "outputId": "31e388e2-0036-4343-9012-b5582909d16b"
      },
      "outputs": [
        {
          "data": {
            "text/plain": [
              "0.2972236"
            ]
          },
          "execution_count": 59,
          "metadata": {},
          "output_type": "execute_result"
        }
      ],
      "source": [
        "pred_sent_attention[1]"
      ]
    },
    {
      "cell_type": "code",
      "execution_count": null,
      "metadata": {
        "colab": {
          "base_uri": "https://localhost:8080/"
        },
        "id": "h9uo4wdDG1sk",
        "outputId": "e96fddb9-635f-42fd-8f08-278b30a96fa0"
      },
      "outputs": [
        {
          "data": {
            "text/plain": [
              "7.808844e-06"
            ]
          },
          "execution_count": 61,
          "metadata": {},
          "output_type": "execute_result"
        }
      ],
      "source": [
        "pred_sent_attention[1] * pred_word_attention[1][1]  "
      ]
    },
    {
      "cell_type": "code",
      "execution_count": null,
      "metadata": {
        "colab": {
          "base_uri": "https://localhost:8080/"
        },
        "id": "8rFpLhLUHgCq",
        "outputId": "52b3f8e6-e374-4315-e2a6-1172b17f7cbd"
      },
      "outputs": [
        {
          "data": {
            "text/plain": [
              "array([[1.00000000e+00, 7.36664151e-05, 7.33621418e-05, 7.32623012e-05,\n",
              "        7.32354820e-05, 7.32419066e-05, 7.32603512e-05, 7.32806802e-05,\n",
              "        7.32985063e-05, 7.33119232e-05, 7.33203124e-05, 7.33240959e-05,\n",
              "        7.33242341e-05, 7.33222769e-05, 7.33215056e-05, 7.33270281e-05,\n",
              "        7.33485067e-05, 7.34188361e-05, 7.36741422e-05, 7.50292893e-05,\n",
              "        7.88638790e-05, 3.16130757e-01, 4.72914219e-01, 6.32230937e-02,\n",
              "        1.46181628e-01],\n",
              "       [2.77204836e-05, 2.62726244e-05, 2.61022506e-05, 2.60491324e-05,\n",
              "        2.60383040e-05, 2.60476918e-05, 2.60649886e-05, 2.60845827e-05,\n",
              "        2.61040932e-05, 2.61229216e-05, 2.61415862e-05, 2.61620135e-05,\n",
              "        2.61883215e-05, 2.62317644e-05, 2.63315196e-05, 2.66864608e-05,\n",
              "        2.81985922e-05, 3.52093957e-05, 9.08616483e-01, 2.29003709e-02,\n",
              "        1.15041966e-02, 5.88127645e-04, 3.42529193e-02, 1.05974050e-02,\n",
              "        1.10566905e-02],\n",
              "       [1.24888305e-04, 1.20929704e-04, 1.20449287e-04, 1.20295226e-04,\n",
              "        1.20258293e-04, 1.20275268e-04, 1.20312092e-04, 1.20352721e-04,\n",
              "        1.20389683e-04, 1.20420227e-04, 1.20442746e-04, 1.20457786e-04,\n",
              "        1.20465593e-04, 1.20468125e-04, 1.20467557e-04, 1.20467899e-04,\n",
              "        1.20474673e-04, 1.20495817e-04, 1.20548793e-04, 1.20692479e-04,\n",
              "        1.21320954e-04, 1.23971025e-04, 1.34925096e-04, 6.61658883e-01,\n",
              "        3.35547209e-01],\n",
              "       [2.13461917e-05, 2.04569023e-05, 2.03467025e-05, 2.03138970e-05,\n",
              "        2.03093241e-05, 2.03185464e-05, 2.03346353e-05, 2.03551626e-05,\n",
              "        2.03804539e-05, 2.04142598e-05, 2.04693933e-05, 2.06498171e-05,\n",
              "        2.12705163e-05, 2.48583601e-05, 1.07999835e-02, 1.86284855e-01,\n",
              "        7.30168223e-01, 1.82413533e-02, 1.00615900e-04, 1.04323284e-04,\n",
              "        6.77056937e-03, 2.60130595e-03, 6.59901474e-04, 4.14684452e-02,\n",
              "        2.50861445e-03],\n",
              "       [3.38691025e-04, 3.28640657e-04, 3.27404734e-04, 3.26995651e-04,\n",
              "        3.26889131e-04, 3.26924230e-04, 3.27013258e-04, 3.27114307e-04,\n",
              "        3.27210582e-04, 3.27295624e-04, 3.27370974e-04, 3.27442802e-04,\n",
              "        3.27526039e-04, 3.27654911e-04, 3.27930320e-04, 3.28843977e-04,\n",
              "        3.32839641e-04, 3.45854321e-04, 3.34005542e-02, 3.34035419e-02,\n",
              "        2.51175929e-02, 3.14121246e-02, 2.78837442e-01, 5.52356422e-01,\n",
              "        3.95425893e-02],\n",
              "       [5.70739794e-05, 5.50860423e-05, 5.48472126e-05, 5.47707423e-05,\n",
              "        5.47522541e-05, 5.47606105e-05, 5.47788404e-05, 5.47988493e-05,\n",
              "        5.48170428e-05, 5.48318385e-05, 5.48425087e-05, 5.48490971e-05,\n",
              "        5.48519201e-05, 5.48518146e-05, 5.48503522e-05, 5.48502467e-05,\n",
              "        5.48565258e-05, 5.48800199e-05, 5.49606266e-05, 5.52580968e-05,\n",
              "        5.68735340e-05, 6.22442894e-05, 5.57827652e-01, 4.33543533e-01,\n",
              "        7.41013559e-03],\n",
              "       [4.13828194e-02, 3.99147682e-02, 3.97406742e-02, 3.96850184e-02,\n",
              "        3.96728888e-02, 3.96815538e-02, 3.96981351e-02, 3.97165753e-02,\n",
              "        3.97340208e-02, 3.97492014e-02, 3.97615992e-02, 3.97708304e-02,\n",
              "        3.97769585e-02, 3.97800319e-02, 3.97803336e-02, 3.97782288e-02,\n",
              "        3.97742465e-02, 3.97694483e-02, 3.97652760e-02, 3.97646315e-02,\n",
              "        3.97739261e-02, 3.98136005e-02, 3.99750322e-02, 4.06969860e-02,\n",
              "        4.30432446e-02],\n",
              "       [4.13828194e-02, 3.99147682e-02, 3.97406742e-02, 3.96850184e-02,\n",
              "        3.96728888e-02, 3.96815538e-02, 3.96981351e-02, 3.97165753e-02,\n",
              "        3.97340208e-02, 3.97492014e-02, 3.97615992e-02, 3.97708304e-02,\n",
              "        3.97769585e-02, 3.97800319e-02, 3.97803336e-02, 3.97782288e-02,\n",
              "        3.97742465e-02, 3.97694483e-02, 3.97652760e-02, 3.97646315e-02,\n",
              "        3.97739261e-02, 3.98136005e-02, 3.99750322e-02, 4.06969860e-02,\n",
              "        4.30432446e-02],\n",
              "       [4.13828194e-02, 3.99147682e-02, 3.97406742e-02, 3.96850184e-02,\n",
              "        3.96728888e-02, 3.96815538e-02, 3.96981351e-02, 3.97165753e-02,\n",
              "        3.97340208e-02, 3.97492014e-02, 3.97615992e-02, 3.97708304e-02,\n",
              "        3.97769585e-02, 3.97800319e-02, 3.97803336e-02, 3.97782288e-02,\n",
              "        3.97742465e-02, 3.97694483e-02, 3.97652760e-02, 3.97646315e-02,\n",
              "        3.97739261e-02, 3.98136005e-02, 3.99750322e-02, 4.06969860e-02,\n",
              "        4.30432446e-02],\n",
              "       [4.13828194e-02, 3.99147682e-02, 3.97406742e-02, 3.96850184e-02,\n",
              "        3.96728888e-02, 3.96815538e-02, 3.96981351e-02, 3.97165753e-02,\n",
              "        3.97340208e-02, 3.97492014e-02, 3.97615992e-02, 3.97708304e-02,\n",
              "        3.97769585e-02, 3.97800319e-02, 3.97803336e-02, 3.97782288e-02,\n",
              "        3.97742465e-02, 3.97694483e-02, 3.97652760e-02, 3.97646315e-02,\n",
              "        3.97739261e-02, 3.98136005e-02, 3.99750322e-02, 4.06969860e-02,\n",
              "        4.30432446e-02]], dtype=float32)"
            ]
          },
          "execution_count": 69,
          "metadata": {},
          "output_type": "execute_result"
        }
      ],
      "source": [
        "pred_att_sample = pred_word_attention\n",
        "type(pred_att_sample)\n",
        "pred_att_sample[0][0] = 1\n",
        "pred_att_sample"
      ]
    },
    {
      "cell_type": "code",
      "execution_count": null,
      "metadata": {
        "colab": {
          "base_uri": "https://localhost:8080/"
        },
        "id": "mQSOJ0XrHjpx",
        "outputId": "a4938b43-6951-4b87-ccf7-945a7e595871"
      },
      "outputs": [
        {
          "data": {
            "text/plain": [
              "numpy.ndarray"
            ]
          },
          "execution_count": 217,
          "metadata": {},
          "output_type": "execute_result"
        }
      ],
      "source": [
        "type(pred_attention)"
      ]
    },
    {
      "cell_type": "code",
      "execution_count": null,
      "metadata": {
        "colab": {
          "base_uri": "https://localhost:8080/"
        },
        "id": "bIL-FKjjSRSe",
        "outputId": "491f58b1-8eac-438a-b45a-5486b520c3b4"
      },
      "outputs": [
        {
          "data": {
            "text/plain": [
              "array([[1.15029397e-05, 1.11299314e-05, 1.10839601e-05, 1.10688752e-05,\n",
              "        1.10648234e-05, 1.10657938e-05, 1.10685805e-05, 1.10716519e-05,\n",
              "        1.10743458e-05, 1.10763731e-05, 1.10776400e-05, 1.10782121e-05,\n",
              "        1.10782330e-05, 1.10779365e-05, 1.10778201e-05, 1.10786550e-05,\n",
              "        1.10819001e-05, 1.10925257e-05, 1.11310983e-05, 1.13358419e-05,\n",
              "        1.19151928e-05, 4.77627926e-02, 7.14505091e-02, 9.55209602e-03,\n",
              "        2.20859330e-02],\n",
              "       [8.23918162e-06, 7.80884420e-06, 7.75820445e-06, 7.74241653e-06,\n",
              "        7.73919874e-06, 7.74198907e-06, 7.74712953e-06, 7.75295393e-06,\n",
              "        7.75875287e-06, 7.76434899e-06, 7.76989600e-06, 7.77596779e-06,\n",
              "        7.78378671e-06, 7.79669972e-06, 7.82634925e-06, 7.93184608e-06,\n",
              "        8.38128744e-06, 1.04650635e-05, 2.70062268e-01, 6.80653052e-03,\n",
              "        3.41931870e-03, 1.74805420e-04, 1.01807760e-02, 3.14979884e-03,\n",
              "        3.28630931e-03],\n",
              "       [3.20725703e-05, 3.10559626e-05, 3.09325878e-05, 3.08930212e-05,\n",
              "        3.08835370e-05, 3.08878953e-05, 3.08973540e-05, 3.09077877e-05,\n",
              "        3.09172792e-05, 3.09251227e-05, 3.09309071e-05, 3.09347670e-05,\n",
              "        3.09367751e-05, 3.09374227e-05, 3.09372772e-05, 3.09373645e-05,\n",
              "        3.09391071e-05, 3.09445350e-05, 3.09581410e-05, 3.09950410e-05,\n",
              "        3.11564399e-05, 3.18370039e-05, 3.46501183e-05, 1.69920638e-01,\n",
              "        8.61718953e-02],\n",
              "       [4.14993883e-06, 3.97705116e-06, 3.95562711e-06, 3.94924928e-06,\n",
              "        3.94836024e-06, 3.95015286e-06, 3.95328107e-06, 3.95727147e-06,\n",
              "        3.96218866e-06, 3.96876067e-06, 3.97947952e-06, 4.01455600e-06,\n",
              "        4.13522685e-06, 4.83274380e-06, 2.09963787e-03, 3.62158641e-02,\n",
              "        1.41952887e-01, 3.54632339e-03, 1.95608591e-05, 2.02816154e-05,\n",
              "        1.31627452e-03, 5.05723001e-04, 1.28292246e-04, 8.06193054e-03,\n",
              "        4.87702753e-04],\n",
              "       [1.80863535e-05, 1.75496571e-05, 1.74836568e-05, 1.74618126e-05,\n",
              "        1.74561246e-05, 1.74579982e-05, 1.74627530e-05, 1.74681481e-05,\n",
              "        1.74732904e-05, 1.74778306e-05, 1.74818542e-05, 1.74856905e-05,\n",
              "        1.74901361e-05, 1.74970173e-05, 1.75117239e-05, 1.75605146e-05,\n",
              "        1.77738857e-05, 1.84688797e-05, 1.78361451e-03, 1.78377412e-03,\n",
              "        1.34129822e-03, 1.67743093e-03, 1.48901278e-02, 2.94962451e-02,\n",
              "        2.11160374e-03],\n",
              "       [2.52276118e-06, 2.43489103e-06, 2.42433453e-06, 2.42095439e-06,\n",
              "        2.42013721e-06, 2.42050646e-06, 2.42131227e-06, 2.42219676e-06,\n",
              "        2.42300098e-06, 2.42365491e-06, 2.42412648e-06, 2.42441774e-06,\n",
              "        2.42454257e-06, 2.42453780e-06, 2.42447322e-06, 2.42446845e-06,\n",
              "        2.42474607e-06, 2.42578449e-06, 2.42934743e-06, 2.44249622e-06,\n",
              "        2.51390111e-06, 2.75129696e-06, 2.46568732e-02, 1.91633161e-02,\n",
              "        3.27539834e-04],\n",
              "       [3.57906938e-05, 3.45210246e-05, 3.43704560e-05, 3.43223219e-05,\n",
              "        3.43118299e-05, 3.43193242e-05, 3.43336651e-05, 3.43496140e-05,\n",
              "        3.43647007e-05, 3.43778302e-05, 3.43885513e-05, 3.43965366e-05,\n",
              "        3.44018372e-05, 3.44044965e-05, 3.44047548e-05, 3.44029359e-05,\n",
              "        3.43994907e-05, 3.43953398e-05, 3.43917345e-05, 3.43911743e-05,\n",
              "        3.43992142e-05, 3.44335276e-05, 3.45731460e-05, 3.51975395e-05,\n",
              "        3.72267459e-05],\n",
              "       [2.82670590e-05, 2.72642883e-05, 2.71453700e-05, 2.71073532e-05,\n",
              "        2.70990695e-05, 2.71049867e-05, 2.71163135e-05, 2.71289100e-05,\n",
              "        2.71408262e-05, 2.71511944e-05, 2.71596637e-05, 2.71659683e-05,\n",
              "        2.71701556e-05, 2.71722547e-05, 2.71724602e-05, 2.71710232e-05,\n",
              "        2.71683020e-05, 2.71650242e-05, 2.71621757e-05, 2.71617355e-05,\n",
              "        2.71680838e-05, 2.71951831e-05, 2.73054520e-05, 2.77985910e-05,\n",
              "        2.94012334e-05],\n",
              "       [2.77419149e-05, 2.67577725e-05, 2.66410643e-05, 2.66037550e-05,\n",
              "        2.65956223e-05, 2.66014322e-05, 2.66125480e-05, 2.66249099e-05,\n",
              "        2.66366042e-05, 2.66467814e-05, 2.66550924e-05, 2.66612806e-05,\n",
              "        2.66653878e-05, 2.66674488e-05, 2.66676507e-05, 2.66662410e-05,\n",
              "        2.66635707e-05, 2.66603547e-05, 2.66575571e-05, 2.66571242e-05,\n",
              "        2.66633560e-05, 2.66899533e-05, 2.67981723e-05, 2.72821508e-05,\n",
              "        2.88550182e-05],\n",
              "       [2.68550957e-05, 2.59024146e-05, 2.57894371e-05, 2.57533193e-05,\n",
              "        2.57454485e-05, 2.57510710e-05, 2.57618321e-05, 2.57737993e-05,\n",
              "        2.57851189e-05, 2.57949705e-05, 2.58030159e-05, 2.58090076e-05,\n",
              "        2.58129839e-05, 2.58149776e-05, 2.58151740e-05, 2.58138080e-05,\n",
              "        2.58112232e-05, 2.58081109e-05, 2.58054024e-05, 2.58049840e-05,\n",
              "        2.58110158e-05, 2.58367618e-05, 2.59415228e-05, 2.64100290e-05,\n",
              "        2.79326177e-05]], dtype=float32)"
            ]
          },
          "execution_count": 66,
          "metadata": {},
          "output_type": "execute_result"
        }
      ],
      "source": [
        ""
      ]
    },
    {
      "cell_type": "code",
      "execution_count": null,
      "metadata": {
        "colab": {
          "base_uri": "https://localhost:8080/"
        },
        "id": "2oU8nh6qQhFP",
        "outputId": "922bc3f9-87be-495b-995f-a74c7e612be2"
      },
      "outputs": [
        {
          "data": {
            "text/plain": [
              "10"
            ]
          },
          "execution_count": 132,
          "metadata": {},
          "output_type": "execute_result"
        }
      ],
      "source": [
        "len(tokenized_sentences)"
      ]
    },
    {
      "cell_type": "code",
      "execution_count": null,
      "metadata": {
        "colab": {
          "base_uri": "https://localhost:8080/"
        },
        "id": "6FhdfrmHUcbu",
        "outputId": "ad920e00-afb6-4885-d51f-0e77628a70b9"
      },
      "outputs": [
        {
          "name": "stdout",
          "output_type": "stream",
          "text": [
            "[0.10412683 0.42043734 0.02562917 0.32664895 0.08191442 0.02769754\n",
            " 0.00366709 0.00330669 0.00326987 0.00330221]\n"
          ]
        }
      ],
      "source": [
        "sentiment_sent_analysis(sent1)"
      ]
    },
    {
      "cell_type": "code",
      "execution_count": null,
      "metadata": {
        "id": "rvxnyHGvLOcb"
      },
      "outputs": [],
      "source": [
        ""
      ]
    },
    {
      "cell_type": "code",
      "execution_count": null,
      "metadata": {
        "id": "hFNPH3lJbZm4"
      },
      "outputs": [],
      "source": [
        ""
      ]
    },
    {
      "cell_type": "code",
      "execution_count": null,
      "metadata": {
        "colab": {
          "base_uri": "https://localhost:8080/"
        },
        "id": "axiBxpExbdG8",
        "outputId": "248a9e25-9083-4fef-fef7-f2439c0385db"
      },
      "outputs": [
        {
          "data": {
            "text/plain": [
              "array([[    0,     0,     0,     0,     0,     0,     0,     0,     0,\n",
              "            0,     0,     0,     0,     0,     0,     0,     0,     0,\n",
              "            0,     0,     0,  1591,  3116,   127,   465],\n",
              "       [    0,     0,     0,     0,     0,     0,     0,     0,     0,\n",
              "            0,     0,     0,     0,     0,     0,     0,     0,     0,\n",
              "           49,   113,   241,     5,    29,     1,   102],\n",
              "       [    0,     0,     0,     0,     0,     0,     0,     0,     0,\n",
              "            0,     0,     0,     0,     0,     0,     0,     0,     0,\n",
              "            0,     0,     0,     0,     0,    78, 67633],\n",
              "       [    0,     0,     0,     0,     0,     0,     0,     0,     0,\n",
              "            0,     0,     0,     0,     0,   371,  1630,   399,   272,\n",
              "            5,     3,   194,  1261,     4,  5815,    17],\n",
              "       [    0,     0,     0,     0,     0,     0,     0,     0,     0,\n",
              "            0,     0,     0,     0,     0,     0,     0,     0,     0,\n",
              "          139,    63,     9,    22,  4007,  2529,     9],\n",
              "       [    0,     0,     0,     0,     0,     0,     0,     0,     0,\n",
              "            0,     0,     0,     0,     0,     0,     0,     0,     0,\n",
              "            0,     0,     0,     0,  3116,  5815, 29041],\n",
              "       [    0,     0,     0,     0,     0,     0,     0,     0,     0,\n",
              "            0,     0,     0,     0,     0,     0,     0,     0,     0,\n",
              "            0,     0,     0,     0,     0,     0,     0],\n",
              "       [    0,     0,     0,     0,     0,     0,     0,     0,     0,\n",
              "            0,     0,     0,     0,     0,     0,     0,     0,     0,\n",
              "            0,     0,     0,     0,     0,     0,     0],\n",
              "       [    0,     0,     0,     0,     0,     0,     0,     0,     0,\n",
              "            0,     0,     0,     0,     0,     0,     0,     0,     0,\n",
              "            0,     0,     0,     0,     0,     0,     0],\n",
              "       [    0,     0,     0,     0,     0,     0,     0,     0,     0,\n",
              "            0,     0,     0,     0,     0,     0,     0,     0,     0,\n",
              "            0,     0,     0,     0,     0,     0,     0]], dtype=int32)"
            ]
          },
          "execution_count": 110,
          "metadata": {},
          "output_type": "execute_result"
        }
      ],
      "source": [
        "tokenized_sentences = doc2hierarchical(sent1) ;tokenized_sentences  # 각각의 단어를 padding 25로 맞춤 한 문장의 단어 수 25개까지 받음"
      ]
    },
    {
      "cell_type": "code",
      "execution_count": null,
      "metadata": {
        "colab": {
          "base_uri": "https://localhost:8080/"
        },
        "id": "MYQ1KZfebh0_",
        "outputId": "8e843d63-0b79-40ce-9592-1c739e0c8763"
      },
      "outputs": [
        {
          "data": {
            "text/plain": [
              "array([[2.51648104e-04, 2.44007140e-04, 2.42095790e-04, 2.41363610e-04,\n",
              "        2.41011687e-04, 2.40816400e-04, 2.40704365e-04, 2.40644673e-04,\n",
              "        2.40620808e-04, 2.40624489e-04, 2.40651338e-04, 2.40699766e-04,\n",
              "        2.40770925e-04, 2.40869223e-04, 2.41002970e-04, 2.41187809e-04,\n",
              "        2.41456626e-04, 2.41898932e-04, 2.42686612e-04, 2.45765928e-04,\n",
              "        2.46998330e-04, 3.26069444e-01, 4.48774517e-01, 7.62246102e-02,\n",
              "        1.43843934e-01],\n",
              "       [6.34506141e-05, 6.12678123e-05, 6.07304573e-05, 6.05297064e-05,\n",
              "        6.04372981e-05, 6.03902809e-05, 6.03684057e-05, 6.03632216e-05,\n",
              "        6.03710578e-05, 6.03904009e-05, 6.04218003e-05, 6.04679699e-05,\n",
              "        6.05358255e-05, 6.06415633e-05, 6.08299888e-05, 6.12488730e-05,\n",
              "        6.29635688e-05, 6.61362646e-05, 9.18018579e-01, 2.32745688e-02,\n",
              "        1.09368237e-02, 3.33800708e-04, 1.08969845e-02, 1.43945999e-02,\n",
              "        2.10429840e-02],\n",
              "       [2.71908593e-05, 2.63955590e-05, 2.62007143e-05, 2.61273053e-05,\n",
              "        2.60923935e-05, 2.60734905e-05, 2.60631477e-05, 2.60582274e-05,\n",
              "        2.60571833e-05, 2.60590241e-05, 2.60633969e-05, 2.60701581e-05,\n",
              "        2.60793095e-05, 2.60913002e-05, 2.61067307e-05, 2.61268069e-05,\n",
              "        2.61535279e-05, 2.61911209e-05, 2.62489830e-05, 2.63529273e-05,\n",
              "        2.65898252e-05, 2.74160902e-05, 2.92606364e-05, 6.13571823e-01,\n",
              "        3.85821164e-01],\n",
              "       [6.29393908e-05, 6.13027732e-05, 6.08967603e-05, 6.07481452e-05,\n",
              "        6.06844551e-05, 6.06586509e-05, 6.06567410e-05, 6.06754256e-05,\n",
              "        6.07172806e-05, 6.07938200e-05, 6.09452109e-05, 6.12567310e-05,\n",
              "        6.26371839e-05, 6.44380489e-05, 9.98607278e-03, 2.05490917e-01,\n",
              "        7.41207898e-01, 8.61308631e-03, 1.78962990e-04, 1.07245834e-03,\n",
              "        7.13963760e-03, 4.32549091e-03, 2.14818487e-04, 1.68921798e-02,\n",
              "        4.01910208e-03],\n",
              "       [3.47974245e-04, 3.36886646e-04, 3.34138458e-04, 3.33097763e-04,\n",
              "        3.32611118e-04, 3.32356169e-04, 3.32227210e-04, 3.32180323e-04,\n",
              "        3.32194555e-04, 3.32260504e-04, 3.32377094e-04, 3.32551834e-04,\n",
              "        3.32803727e-04, 3.33173375e-04, 3.33750242e-04, 3.34772572e-04,\n",
              "        3.37970152e-04, 3.41259147e-04, 2.40046047e-02, 7.95015786e-03,\n",
              "        1.48062585e-02, 2.27960888e-02, 1.88577145e-01, 7.00055778e-01,\n",
              "        3.57854031e-02],\n",
              "       [8.10482088e-05, 7.85715383e-05, 7.79546681e-05, 7.77192108e-05,\n",
              "        7.76064771e-05, 7.75440494e-05, 7.75084118e-05, 7.74894797e-05,\n",
              "        7.74821747e-05, 7.74834261e-05, 7.74919317e-05, 7.75070730e-05,\n",
              "        7.75292574e-05, 7.75595036e-05, 7.76000452e-05, 7.76551242e-05,\n",
              "        7.77322493e-05, 7.78483518e-05, 7.80537521e-05, 7.84640870e-05,\n",
              "        8.07165197e-05, 8.19028355e-05, 3.60202760e-01, 5.81976831e-01,\n",
              "        5.60999773e-02],\n",
              "       [4.17444222e-02, 4.03538011e-02, 4.00091931e-02, 3.98771614e-02,\n",
              "        3.98131721e-02, 3.97771001e-02, 3.97556722e-02, 3.97431441e-02,\n",
              "        3.97366248e-02, 3.97342369e-02, 3.97349782e-02, 3.97382379e-02,\n",
              "        3.97437513e-02, 3.97513472e-02, 3.97612303e-02, 3.97735536e-02,\n",
              "        3.97888981e-02, 3.98081988e-02, 3.98330167e-02, 3.98662128e-02,\n",
              "        3.99132520e-02, 3.99871655e-02, 4.01195399e-02, 4.05351035e-02,\n",
              "        4.11010385e-02],\n",
              "       [4.17444222e-02, 4.03538011e-02, 4.00091931e-02, 3.98771614e-02,\n",
              "        3.98131721e-02, 3.97771001e-02, 3.97556722e-02, 3.97431441e-02,\n",
              "        3.97366248e-02, 3.97342369e-02, 3.97349782e-02, 3.97382379e-02,\n",
              "        3.97437513e-02, 3.97513472e-02, 3.97612303e-02, 3.97735536e-02,\n",
              "        3.97888981e-02, 3.98081988e-02, 3.98330167e-02, 3.98662128e-02,\n",
              "        3.99132520e-02, 3.99871655e-02, 4.01195399e-02, 4.05351035e-02,\n",
              "        4.11010385e-02],\n",
              "       [4.17444222e-02, 4.03538011e-02, 4.00091931e-02, 3.98771614e-02,\n",
              "        3.98131721e-02, 3.97771001e-02, 3.97556722e-02, 3.97431441e-02,\n",
              "        3.97366248e-02, 3.97342369e-02, 3.97349782e-02, 3.97382379e-02,\n",
              "        3.97437513e-02, 3.97513472e-02, 3.97612303e-02, 3.97735536e-02,\n",
              "        3.97888981e-02, 3.98081988e-02, 3.98330167e-02, 3.98662128e-02,\n",
              "        3.99132520e-02, 3.99871655e-02, 4.01195399e-02, 4.05351035e-02,\n",
              "        4.11010385e-02],\n",
              "       [4.17444222e-02, 4.03538011e-02, 4.00091931e-02, 3.98771614e-02,\n",
              "        3.98131721e-02, 3.97771001e-02, 3.97556722e-02, 3.97431441e-02,\n",
              "        3.97366248e-02, 3.97342369e-02, 3.97349782e-02, 3.97382379e-02,\n",
              "        3.97437513e-02, 3.97513472e-02, 3.97612303e-02, 3.97735536e-02,\n",
              "        3.97888981e-02, 3.98081988e-02, 3.98330167e-02, 3.98662128e-02,\n",
              "        3.99132520e-02, 3.99871655e-02, 4.01195399e-02, 4.05351035e-02,\n",
              "        4.11010385e-02]], dtype=float32)"
            ]
          },
          "execution_count": 195,
          "metadata": {},
          "output_type": "execute_result"
        }
      ],
      "source": [
        "pred_attention = attention_extractor.predict(np.asarray([tokenized_sentences]))[0][0] ; pred_attention"
      ]
    },
    {
      "cell_type": "code",
      "execution_count": null,
      "metadata": {
        "id": "dYbKku36bmXr"
      },
      "outputs": [],
      "source": [
        "for sent_idx, sentence in enumerate(tokenized_sentences):\n",
        "    if sentence[-1] == 0:\n",
        "        continue\n",
        "        \n",
        "    for word_idx in range(MAX_SENTENCE_LENGTH):\n",
        "        if sentence[word_idx] != 0:\n",
        "            words = [word_rev_index[word_id] for word_id in sentence[word_idx:]]\n",
        "            pred_att = pred_attention[sent_idx][-len(words):]\n",
        "            pred_att = np.expand_dims(pred_att, axis=0)\n",
        "            break"
      ]
    },
    {
      "cell_type": "code",
      "execution_count": null,
      "metadata": {
        "colab": {
          "base_uri": "https://localhost:8080/"
        },
        "id": "TnxCDDd4b-1p",
        "outputId": "f569d9ee-c3bc-4f09-9113-0353dfa5437a"
      },
      "outputs": [
        {
          "data": {
            "text/plain": [
              "array([[0.38078085, 0.5167992 , 0.1015916 ]], dtype=float32)"
            ]
          },
          "execution_count": 135,
          "metadata": {},
          "output_type": "execute_result"
        }
      ],
      "source": [
        "# 가장 마지막 단어의 attention임을 알 수 있음\n",
        "pred_att # perfection. marvel, endgame"
      ]
    },
    {
      "cell_type": "code",
      "execution_count": null,
      "metadata": {
        "colab": {
          "base_uri": "https://localhost:8080/",
          "height": 322
        },
        "id": "_J8HVPvwcAxh",
        "outputId": "83b9129f-d870-4ab8-f7a7-d0bac75a048b"
      },
      "outputs": [
        {
          "ename": "NameError",
          "evalue": "ignored",
          "output_type": "error",
          "traceback": [
            "\u001b[0;31m---------------------------------------------------------------------------\u001b[0m",
            "\u001b[0;31mNameError\u001b[0m                                 Traceback (most recent call last)",
            "\u001b[0;32m<ipython-input-60-6cf73323a00b>\u001b[0m in \u001b[0;36m<module>\u001b[0;34m()\u001b[0m\n\u001b[0;32m----> 1\u001b[0;31m \u001b[0msentiment_word_sentence_analysis\u001b[0m\u001b[0;34m(\u001b[0m\u001b[0;34m\"Absolute perfection end game !! Good acting performance to all the characters. Great cgi's. Truly epic & perfect ending to a long journey of marvel movie. Go see it you wont regret it !! Perfection Marvel Endgame !!\"\u001b[0m\u001b[0;34m)\u001b[0m\u001b[0;34m\u001b[0m\u001b[0;34m\u001b[0m\u001b[0m\n\u001b[0m",
            "\u001b[0;32m<ipython-input-39-fcec3ac1ecea>\u001b[0m in \u001b[0;36msentiment_word_sentence_analysis\u001b[0;34m(review)\u001b[0m\n\u001b[1;32m     29\u001b[0m                 \u001b[0;32mbreak\u001b[0m\u001b[0;34m\u001b[0m\u001b[0;34m\u001b[0m\u001b[0m\n\u001b[1;32m     30\u001b[0m \u001b[0;34m\u001b[0m\u001b[0m\n\u001b[0;32m---> 31\u001b[0;31m         \u001b[0mfig\u001b[0m\u001b[0;34m,\u001b[0m \u001b[0max\u001b[0m \u001b[0;34m=\u001b[0m \u001b[0mplt\u001b[0m\u001b[0;34m.\u001b[0m\u001b[0msubplots\u001b[0m\u001b[0;34m(\u001b[0m\u001b[0mfigsize\u001b[0m\u001b[0;34m=\u001b[0m\u001b[0;34m(\u001b[0m\u001b[0mlen\u001b[0m\u001b[0;34m(\u001b[0m\u001b[0mwords\u001b[0m\u001b[0;34m)\u001b[0m\u001b[0;34m,\u001b[0m \u001b[0;36m1\u001b[0m\u001b[0;34m)\u001b[0m\u001b[0;34m)\u001b[0m\u001b[0;34m\u001b[0m\u001b[0;34m\u001b[0m\u001b[0m\n\u001b[0m\u001b[1;32m     32\u001b[0m         \u001b[0mplt\u001b[0m\u001b[0;34m.\u001b[0m\u001b[0mrc\u001b[0m\u001b[0;34m(\u001b[0m\u001b[0;34m'xtick'\u001b[0m\u001b[0;34m,\u001b[0m \u001b[0mlabelsize\u001b[0m\u001b[0;34m=\u001b[0m\u001b[0;36m16\u001b[0m\u001b[0;34m)\u001b[0m\u001b[0;34m\u001b[0m\u001b[0;34m\u001b[0m\u001b[0m\n\u001b[1;32m     33\u001b[0m         \u001b[0mmidpoint\u001b[0m \u001b[0;34m=\u001b[0m \u001b[0;34m(\u001b[0m\u001b[0mmax\u001b[0m\u001b[0;34m(\u001b[0m\u001b[0mpred_att\u001b[0m\u001b[0;34m[\u001b[0m\u001b[0;34m:\u001b[0m\u001b[0;34m,\u001b[0m \u001b[0;36m0\u001b[0m\u001b[0;34m]\u001b[0m\u001b[0;34m)\u001b[0m \u001b[0;34m-\u001b[0m \u001b[0mmin\u001b[0m\u001b[0;34m(\u001b[0m\u001b[0mpred_att\u001b[0m\u001b[0;34m[\u001b[0m\u001b[0;34m:\u001b[0m\u001b[0;34m,\u001b[0m \u001b[0;36m0\u001b[0m\u001b[0;34m]\u001b[0m\u001b[0;34m)\u001b[0m\u001b[0;34m)\u001b[0m \u001b[0;34m/\u001b[0m \u001b[0;36m2\u001b[0m\u001b[0;34m\u001b[0m\u001b[0;34m\u001b[0m\u001b[0m\n",
            "\u001b[0;31mNameError\u001b[0m: name 'plt' is not defined"
          ]
        }
      ],
      "source": [
        "sentiment_word_sentence_analysis(\"Absolute perfection end game !! Good acting performance to all the characters. Great cgi's. Truly epic & perfect ending to a long journey of marvel movie. Go see it you wont regret it !! Perfection Marvel Endgame !!\")\n"
      ]
    },
    {
      "cell_type": "code",
      "execution_count": null,
      "metadata": {
        "colab": {
          "base_uri": "https://localhost:8080/",
          "height": 824
        },
        "id": "sPBaNWV2Y9el",
        "outputId": "053e781e-9725-49d8-dec9-61c720493936"
      },
      "outputs": [
        {
          "data": {
            "image/png": "[encoded data removed]",
            "text/plain": [
              "<Figure size 288x72 with 2 Axes>"
            ]
          },
          "metadata": {},
          "output_type": "display_data"
        },
        {
          "data": {
            "image/png": "[encoded data removed]",
            "text/plain": [
              "<Figure size 504x72 with 2 Axes>"
            ]
          },
          "metadata": {},
          "output_type": "display_data"
        },
        {
          "data": {
            "image/png": "[encoded data removed]",
            "text/plain": [
              "<Figure size 144x72 with 2 Axes>"
            ]
          },
          "metadata": {},
          "output_type": "display_data"
        },
        {
          "data": {
            "image/png": "[encoded data removed]",
            "text/plain": [
              "<Figure size 792x72 with 2 Axes>"
            ]
          },
          "metadata": {},
          "output_type": "display_data"
        },
        {
          "data": {
            "image/png": "[encoded data removed]",
            "text/plain": [
              "<Figure size 504x72 with 2 Axes>"
            ]
          },
          "metadata": {},
          "output_type": "display_data"
        },
        {
          "data": {
            "image/png": "[encoded data removed]",
            "text/plain": [
              "<Figure size 216x72 with 2 Axes>"
            ]
          },
          "metadata": {},
          "output_type": "display_data"
        }
      ],
      "source": [
        "sentiment_analysis(\"Absolute perfection end game !! Good acting performance to all the characters. Great cgi's. Truly epic & perfect ending to a long journey of marvel movie. Go see it you wont regret it !! Perfection Marvel Endgame !!\")\n",
        "# 총 6개의 문장으로 이루어짐"
      ]
    },
    {
      "cell_type": "code",
      "execution_count": null,
      "metadata": {
        "colab": {
          "base_uri": "https://localhost:8080/",
          "height": 790
        },
        "id": "F_vfgavRaWz5",
        "outputId": "e5f3cd9c-2d6a-4271-b848-5b9a51fb77c4"
      },
      "outputs": [
        {
          "data": {
            "image/png": "[encoded data removed]",
            "text/plain": [
              "<Figure size 216x72 with 2 Axes>"
            ]
          },
          "metadata": {},
          "output_type": "display_data"
        },
        {
          "data": {
            "image/png": "[encoded data removed]",
            "text/plain": [
              "<Figure size 288x72 with 2 Axes>"
            ]
          },
          "metadata": {},
          "output_type": "display_data"
        },
        {
          "data": {
            "image/png": "[encoded data removed]",
            "text/plain": [
              "<Figure size 432x72 with 2 Axes>"
            ]
          },
          "metadata": {},
          "output_type": "display_data"
        },
        {
          "data": {
            "image/png": "[encoded data removed]",
            "text/plain": [
              "<Figure size 360x72 with 2 Axes>"
            ]
          },
          "metadata": {},
          "output_type": "display_data"
        },
        {
          "data": {
            "image/png": "[encoded data removed]",
            "text/plain": [
              "<Figure size 648x72 with 2 Axes>"
            ]
          },
          "metadata": {},
          "output_type": "display_data"
        },
        {
          "data": {
            "image/png": "[encoded data removed]",
            "text/plain": [
              "<Figure size 216x72 with 2 Axes>"
            ]
          },
          "metadata": {},
          "output_type": "display_data"
        }
      ],
      "source": [
        "sentiment_analysis(\"Delicious healthy food. The steak is amazing. Fish and pork are awesome too. Service is above and beyond. Not a bad thing to say about this place. Worth every penny!\")"
      ]
    },
    {
      "cell_type": "code",
      "execution_count": null,
      "metadata": {
        "colab": {
          "base_uri": "https://localhost:8080/",
          "height": 757
        },
        "id": "kj8023Ao6Smy",
        "outputId": "25e8e55e-3454-4933-ba7e-57f647f397cf"
      },
      "outputs": [
        {
          "data": {
            "image/png": "[encoded data removed]",
            "text/plain": [
              "<Figure size 1800x72 with 2 Axes>"
            ]
          },
          "metadata": {},
          "output_type": "display_data"
        },
        {
          "data": {
            "image/png": "[encoded data removed]",
            "text/plain": [
              "<Figure size 936x72 with 2 Axes>"
            ]
          },
          "metadata": {},
          "output_type": "display_data"
        },
        {
          "data": {
            "image/png": "[encoded data removed]",
            "text/plain": [
              "<Figure size 720x72 with 2 Axes>"
            ]
          },
          "metadata": {},
          "output_type": "display_data"
        },
        {
          "data": {
            "image/png": "[encoded data removed]",
            "text/plain": [
              "<Figure size 1800x72 with 2 Axes>"
            ]
          },
          "metadata": {},
          "output_type": "display_data"
        },
        {
          "data": {
            "image/png": "[encoded data removed]",
            "text/plain": [
              "<Figure size 648x72 with 2 Axes>"
            ]
          },
          "metadata": {},
          "output_type": "display_data"
        }
      ],
      "source": [
        "sentiment_analysis('''**HISTORY OF PRESENT ILLNESS:**  This is a 66-year-old male with\n",
        "a nonhealing right malleolar wound and fracture for the last\n",
        "2 years who underwent a right ankle traction and open\n",
        "reduction internal fixation. The patient has had multiple\n",
        "admissions for wound infections and multiple IV antibiotic\n",
        "courses. Most recent admission was [**2189-9-28**], for a\n",
        "wound infection. The patient recently complained of a\n",
        "temperature elevation on [**2189-11-30**], and now is to be\n",
        "admitted to Dr.[**Name (NI) 1392**] service for continued IV\n",
        "antibiotics. The patient initially was discharged on\n",
        "daptomycin and followed by VNA.\n",
        "''')"
      ]
    },
    {
      "cell_type": "code",
      "execution_count": null,
      "metadata": {
        "id": "FAZXJPLR02h8"
      },
      "outputs": [],
      "source": [
        "# sentence attention 수치 뽑기\n",
        "sentiment_sent_analysis(\"Absolute perfection end game !! Good acting performance to all the characters. Great cgi's. Truly epic & perfect ending to a long journey of marvel movie. Go see it you wont regret it !! Perfection Marvel Endgame !!\")\n",
        "\n"
      ]
    },
    {
      "cell_type": "code",
      "source": [
        "# word attention 시각화\n",
        "def sentiment_analysis(review):         # review 에 text가 들어가게됨\n",
        "    tokenized_sentences = doc2hierarchical(review)  # model 에 넣을수 있는 형태로 변형시켜줌\n",
        "    \n",
        "    # word attention만 가져오기\n",
        "    pred_attention = attention_extractor.predict(np.asarray([tokenized_sentences]))[0][0]\n",
        "    for sent_idx, sentence in enumerate(tokenized_sentences):\n",
        "        if sentence[-1] == 0:\n",
        "            continue\n",
        "            \n",
        "        for word_idx in range(MAX_SENTENCE_LENGTH):\n",
        "            if sentence[word_idx] != 0:\n",
        "                words = [word_rev_index[word_id] for word_id in sentence[word_idx:]]\n",
        "                pred_att = pred_attention[sent_idx][-len(words):]\n",
        "                pred_att = np.expand_dims(pred_att, axis=0)\n",
        "                break\n"
      ],
      "metadata": {
        "id": "uP_4iECZzkxi"
      },
      "execution_count": null,
      "outputs": []
    },
    {
      "cell_type": "markdown",
      "source": [
        "# 주요 단어만 추출하기"
      ],
      "metadata": {
        "id": "ih9VX9ayFgOg"
      }
    },
    {
      "cell_type": "code",
      "source": [
        "\n",
        "import pandas as pd\n",
        "\n",
        "df = pd.DataFrame(columns = {'word','att','logic'}) \n",
        "word_list = []\n",
        "att_list = []\n",
        "#word_list = pd.DataFrame(columns = {'word'}) \n",
        "#att_list = pd.DataFrame(columns = {'att'}) \n",
        "df\n",
        "\n",
        "for sent_idx, sentence in enumerate(tokenized_sentences):\n",
        "    if sentence[-1] == 0:\n",
        "        continue\n",
        "        \n",
        "    for word_idx in range(MAX_SENTENCE_LENGTH):\n",
        "        if sentence[word_idx] != 0 :  # word index 가 0이 아닌 부분만 붙이기 / 필요한 word들만 뽑음\n",
        "            words = [word_rev_index[word_id] for word_id in sentence[word_idx:]]  \n",
        "            pred_att = pred_attention[sent_idx][-len(words):]\n",
        "            # pred_att = np.expand_dims(pred_att, axis=0)\n",
        "            print(words)\n",
        "            print(pred_att)\n",
        "            for i  in range(len(words)):\n",
        "              word_list.append(words[i])\n",
        "              att_list.append(pred_att[i]) # [word_idx]\n",
        "            break\n",
        "    word_list.append(\".\")\n",
        "    att_list.append(0)\n",
        "        \n",
        "df['word'] = word_list \n",
        "df['att'] = att_list\n",
        "df"
      ],
      "metadata": {
        "colab": {
          "base_uri": "https://localhost:8080/",
          "height": 1000
        },
        "id": "5mQ9DnPm0Lot",
        "outputId": "1110be44-cfdf-4f5d-a175-1de553ddf755"
      },
      "execution_count": 300,
      "outputs": [
        {
          "output_type": "stream",
          "name": "stdout",
          "text": [
            "['absolute', 'perfection', 'end', 'game']\n",
            "[0.16116576 0.585602   0.11041432 0.14158988]\n",
            "['good', 'acting', 'performance', 'to', 'all', 'the', 'characters']\n",
            "[7.9890293e-01 5.9305452e-02 4.2103030e-02 6.1349804e-04 4.7786135e-02\n",
            " 3.4467150e-02 1.5702384e-02]\n",
            "['great', \"cgi's\"]\n",
            "[0.9925154  0.00637273]\n",
            "['truly', 'epic', 'perfect', 'ending', 'to', 'a', 'long', 'journey', 'of', 'marvel', 'movie']\n",
            "[1.50569668e-02 2.02618033e-01 6.06341124e-01 2.06315964e-02\n",
            " 2.09072081e-04 2.14540679e-03 1.82590596e-02 6.75654458e-03\n",
            " 3.75984819e-04 1.17218494e-01 1.00847250e-02]\n",
            "['go', 'see', 'it', 'you', 'wont', 'regret', 'it']\n",
            "[0.04855189 0.06475572 0.08488308 0.07468578 0.17023194 0.52431756\n",
            " 0.02494328]\n",
            "['perfection', 'marvel', 'endgame']\n",
            "[0.41119236 0.5139444  0.07425467]\n"
          ]
        },
        {
          "output_type": "execute_result",
          "data": {
            "text/plain": [
              "   logic         word       att\n",
              "0    NaN     absolute  0.161166\n",
              "1    NaN   perfection  0.585602\n",
              "2    NaN          end  0.110414\n",
              "3    NaN         game  0.141590\n",
              "4    NaN            .  0.000000\n",
              "5    NaN         good  0.798903\n",
              "6    NaN       acting  0.059305\n",
              "7    NaN  performance  0.042103\n",
              "8    NaN           to  0.000613\n",
              "9    NaN          all  0.047786\n",
              "10   NaN          the  0.034467\n",
              "11   NaN   characters  0.015702\n",
              "12   NaN            .  0.000000\n",
              "13   NaN        great  0.992515\n",
              "14   NaN        cgi's  0.006373\n",
              "15   NaN            .  0.000000\n",
              "16   NaN        truly  0.015057\n",
              "17   NaN         epic  0.202618\n",
              "18   NaN      perfect  0.606341\n",
              "19   NaN       ending  0.020632\n",
              "20   NaN           to  0.000209\n",
              "21   NaN            a  0.002145\n",
              "22   NaN         long  0.018259\n",
              "23   NaN      journey  0.006757\n",
              "24   NaN           of  0.000376\n",
              "25   NaN       marvel  0.117218\n",
              "26   NaN        movie  0.010085\n",
              "27   NaN            .  0.000000\n",
              "28   NaN           go  0.048552\n",
              "29   NaN          see  0.064756\n",
              "30   NaN           it  0.084883\n",
              "31   NaN          you  0.074686\n",
              "32   NaN         wont  0.170232\n",
              "33   NaN       regret  0.524318\n",
              "34   NaN           it  0.024943\n",
              "35   NaN            .  0.000000\n",
              "36   NaN   perfection  0.411192\n",
              "37   NaN       marvel  0.513944\n",
              "38   NaN      endgame  0.074255\n",
              "39   NaN            .  0.000000"
            ],
            "text/html": [
              "\n",
              "  <div id=\"df-de4838c9-47f3-448c-908f-45f93298181d\">\n",
              "    <div class=\"colab-df-container\">\n",
              "      <div>\n",
              "<style scoped>\n",
              "    .dataframe tbody tr th:only-of-type {\n",
              "        vertical-align: middle;\n",
              "    }\n",
              "\n",
              "    .dataframe tbody tr th {\n",
              "        vertical-align: top;\n",
              "    }\n",
              "\n",
              "    .dataframe thead th {\n",
              "        text-align: right;\n",
              "    }\n",
              "</style>\n",
              "<table border=\"1\" class=\"dataframe\">\n",
              "  <thead>\n",
              "    <tr style=\"text-align: right;\">\n",
              "      <th></th>\n",
              "      <th>logic</th>\n",
              "      <th>word</th>\n",
              "      <th>att</th>\n",
              "    </tr>\n",
              "  </thead>\n",
              "  <tbody>\n",
              "    <tr>\n",
              "      <th>0</th>\n",
              "      <td>NaN</td>\n",
              "      <td>absolute</td>\n",
              "      <td>0.161166</td>\n",
              "    </tr>\n",
              "    <tr>\n",
              "      <th>1</th>\n",
              "      <td>NaN</td>\n",
              "      <td>perfection</td>\n",
              "      <td>0.585602</td>\n",
              "    </tr>\n",
              "    <tr>\n",
              "      <th>2</th>\n",
              "      <td>NaN</td>\n",
              "      <td>end</td>\n",
              "      <td>0.110414</td>\n",
              "    </tr>\n",
              "    <tr>\n",
              "      <th>3</th>\n",
              "      <td>NaN</td>\n",
              "      <td>game</td>\n",
              "      <td>0.141590</td>\n",
              "    </tr>\n",
              "    <tr>\n",
              "      <th>4</th>\n",
              "      <td>NaN</td>\n",
              "      <td>.</td>\n",
              "      <td>0.000000</td>\n",
              "    </tr>\n",
              "    <tr>\n",
              "      <th>5</th>\n",
              "      <td>NaN</td>\n",
              "      <td>good</td>\n",
              "      <td>0.798903</td>\n",
              "    </tr>\n",
              "    <tr>\n",
              "      <th>6</th>\n",
              "      <td>NaN</td>\n",
              "      <td>acting</td>\n",
              "      <td>0.059305</td>\n",
              "    </tr>\n",
              "    <tr>\n",
              "      <th>7</th>\n",
              "      <td>NaN</td>\n",
              "      <td>performance</td>\n",
              "      <td>0.042103</td>\n",
              "    </tr>\n",
              "    <tr>\n",
              "      <th>8</th>\n",
              "      <td>NaN</td>\n",
              "      <td>to</td>\n",
              "      <td>0.000613</td>\n",
              "    </tr>\n",
              "    <tr>\n",
              "      <th>9</th>\n",
              "      <td>NaN</td>\n",
              "      <td>all</td>\n",
              "      <td>0.047786</td>\n",
              "    </tr>\n",
              "    <tr>\n",
              "      <th>10</th>\n",
              "      <td>NaN</td>\n",
              "      <td>the</td>\n",
              "      <td>0.034467</td>\n",
              "    </tr>\n",
              "    <tr>\n",
              "      <th>11</th>\n",
              "      <td>NaN</td>\n",
              "      <td>characters</td>\n",
              "      <td>0.015702</td>\n",
              "    </tr>\n",
              "    <tr>\n",
              "      <th>12</th>\n",
              "      <td>NaN</td>\n",
              "      <td>.</td>\n",
              "      <td>0.000000</td>\n",
              "    </tr>\n",
              "    <tr>\n",
              "      <th>13</th>\n",
              "      <td>NaN</td>\n",
              "      <td>great</td>\n",
              "      <td>0.992515</td>\n",
              "    </tr>\n",
              "    <tr>\n",
              "      <th>14</th>\n",
              "      <td>NaN</td>\n",
              "      <td>cgi's</td>\n",
              "      <td>0.006373</td>\n",
              "    </tr>\n",
              "    <tr>\n",
              "      <th>15</th>\n",
              "      <td>NaN</td>\n",
              "      <td>.</td>\n",
              "      <td>0.000000</td>\n",
              "    </tr>\n",
              "    <tr>\n",
              "      <th>16</th>\n",
              "      <td>NaN</td>\n",
              "      <td>truly</td>\n",
              "      <td>0.015057</td>\n",
              "    </tr>\n",
              "    <tr>\n",
              "      <th>17</th>\n",
              "      <td>NaN</td>\n",
              "      <td>epic</td>\n",
              "      <td>0.202618</td>\n",
              "    </tr>\n",
              "    <tr>\n",
              "      <th>18</th>\n",
              "      <td>NaN</td>\n",
              "      <td>perfect</td>\n",
              "      <td>0.606341</td>\n",
              "    </tr>\n",
              "    <tr>\n",
              "      <th>19</th>\n",
              "      <td>NaN</td>\n",
              "      <td>ending</td>\n",
              "      <td>0.020632</td>\n",
              "    </tr>\n",
              "    <tr>\n",
              "      <th>20</th>\n",
              "      <td>NaN</td>\n",
              "      <td>to</td>\n",
              "      <td>0.000209</td>\n",
              "    </tr>\n",
              "    <tr>\n",
              "      <th>21</th>\n",
              "      <td>NaN</td>\n",
              "      <td>a</td>\n",
              "      <td>0.002145</td>\n",
              "    </tr>\n",
              "    <tr>\n",
              "      <th>22</th>\n",
              "      <td>NaN</td>\n",
              "      <td>long</td>\n",
              "      <td>0.018259</td>\n",
              "    </tr>\n",
              "    <tr>\n",
              "      <th>23</th>\n",
              "      <td>NaN</td>\n",
              "      <td>journey</td>\n",
              "      <td>0.006757</td>\n",
              "    </tr>\n",
              "    <tr>\n",
              "      <th>24</th>\n",
              "      <td>NaN</td>\n",
              "      <td>of</td>\n",
              "      <td>0.000376</td>\n",
              "    </tr>\n",
              "    <tr>\n",
              "      <th>25</th>\n",
              "      <td>NaN</td>\n",
              "      <td>marvel</td>\n",
              "      <td>0.117218</td>\n",
              "    </tr>\n",
              "    <tr>\n",
              "      <th>26</th>\n",
              "      <td>NaN</td>\n",
              "      <td>movie</td>\n",
              "      <td>0.010085</td>\n",
              "    </tr>\n",
              "    <tr>\n",
              "      <th>27</th>\n",
              "      <td>NaN</td>\n",
              "      <td>.</td>\n",
              "      <td>0.000000</td>\n",
              "    </tr>\n",
              "    <tr>\n",
              "      <th>28</th>\n",
              "      <td>NaN</td>\n",
              "      <td>go</td>\n",
              "      <td>0.048552</td>\n",
              "    </tr>\n",
              "    <tr>\n",
              "      <th>29</th>\n",
              "      <td>NaN</td>\n",
              "      <td>see</td>\n",
              "      <td>0.064756</td>\n",
              "    </tr>\n",
              "    <tr>\n",
              "      <th>30</th>\n",
              "      <td>NaN</td>\n",
              "      <td>it</td>\n",
              "      <td>0.084883</td>\n",
              "    </tr>\n",
              "    <tr>\n",
              "      <th>31</th>\n",
              "      <td>NaN</td>\n",
              "      <td>you</td>\n",
              "      <td>0.074686</td>\n",
              "    </tr>\n",
              "    <tr>\n",
              "      <th>32</th>\n",
              "      <td>NaN</td>\n",
              "      <td>wont</td>\n",
              "      <td>0.170232</td>\n",
              "    </tr>\n",
              "    <tr>\n",
              "      <th>33</th>\n",
              "      <td>NaN</td>\n",
              "      <td>regret</td>\n",
              "      <td>0.524318</td>\n",
              "    </tr>\n",
              "    <tr>\n",
              "      <th>34</th>\n",
              "      <td>NaN</td>\n",
              "      <td>it</td>\n",
              "      <td>0.024943</td>\n",
              "    </tr>\n",
              "    <tr>\n",
              "      <th>35</th>\n",
              "      <td>NaN</td>\n",
              "      <td>.</td>\n",
              "      <td>0.000000</td>\n",
              "    </tr>\n",
              "    <tr>\n",
              "      <th>36</th>\n",
              "      <td>NaN</td>\n",
              "      <td>perfection</td>\n",
              "      <td>0.411192</td>\n",
              "    </tr>\n",
              "    <tr>\n",
              "      <th>37</th>\n",
              "      <td>NaN</td>\n",
              "      <td>marvel</td>\n",
              "      <td>0.513944</td>\n",
              "    </tr>\n",
              "    <tr>\n",
              "      <th>38</th>\n",
              "      <td>NaN</td>\n",
              "      <td>endgame</td>\n",
              "      <td>0.074255</td>\n",
              "    </tr>\n",
              "    <tr>\n",
              "      <th>39</th>\n",
              "      <td>NaN</td>\n",
              "      <td>.</td>\n",
              "      <td>0.000000</td>\n",
              "    </tr>\n",
              "  </tbody>\n",
              "</table>\n",
              "</div>\n",
              "      <button class=\"colab-df-convert\" onclick=\"convertToInteractive('df-de4838c9-47f3-448c-908f-45f93298181d')\"\n",
              "              title=\"Convert this dataframe to an interactive table.\"\n",
              "              style=\"display:none;\">\n",
              "        \n",
              "  <svg xmlns=\"http://www.w3.org/2000/svg\" height=\"24px\"viewBox=\"0 0 24 24\"\n",
              "       width=\"24px\">\n",
              "    <path d=\"M0 0h24v24H0V0z\" fill=\"none\"/>\n",
              "    <path d=\"M18.56 5.44l.94 2.06.94-2.06 2.06-.94-2.06-.94-.94-2.06-.94 2.06-2.06.94zm-11 1L8.5 8.5l.94-2.06 2.06-.94-2.06-.94L8.5 2.5l-.94 2.06-2.06.94zm10 10l.94 2.06.94-2.06 2.06-.94-2.06-.94-.94-2.06-.94 2.06-2.06.94z\"/><path d=\"M17.41 7.96l-1.37-1.37c-.4-.4-.92-.59-1.43-.59-.52 0-1.04.2-1.43.59L10.3 9.45l-7.72 7.72c-.78.78-.78 2.05 0 2.83L4 21.41c.39.39.9.59 1.41.59.51 0 1.02-.2 1.41-.59l7.78-7.78 2.81-2.81c.8-.78.8-2.07 0-2.86zM5.41 20L4 18.59l7.72-7.72 1.47 1.35L5.41 20z\"/>\n",
              "  </svg>\n",
              "      </button>\n",
              "      \n",
              "  <style>\n",
              "    .colab-df-container {\n",
              "      display:flex;\n",
              "      flex-wrap:wrap;\n",
              "      gap: 12px;\n",
              "    }\n",
              "\n",
              "    .colab-df-convert {\n",
              "      background-color: #E8F0FE;\n",
              "      border: none;\n",
              "      border-radius: 50%;\n",
              "      cursor: pointer;\n",
              "      display: none;\n",
              "      fill: #1967D2;\n",
              "      height: 32px;\n",
              "      padding: 0 0 0 0;\n",
              "      width: 32px;\n",
              "    }\n",
              "\n",
              "    .colab-df-convert:hover {\n",
              "      background-color: #E2EBFA;\n",
              "      box-shadow: 0px 1px 2px rgba(60, 64, 67, 0.3), 0px 1px 3px 1px rgba(60, 64, 67, 0.15);\n",
              "      fill: #174EA6;\n",
              "    }\n",
              "\n",
              "    [theme=dark] .colab-df-convert {\n",
              "      background-color: #3B4455;\n",
              "      fill: #D2E3FC;\n",
              "    }\n",
              "\n",
              "    [theme=dark] .colab-df-convert:hover {\n",
              "      background-color: #434B5C;\n",
              "      box-shadow: 0px 1px 3px 1px rgba(0, 0, 0, 0.15);\n",
              "      filter: drop-shadow(0px 1px 2px rgba(0, 0, 0, 0.3));\n",
              "      fill: #FFFFFF;\n",
              "    }\n",
              "  </style>\n",
              "\n",
              "      <script>\n",
              "        const buttonEl =\n",
              "          document.querySelector('#df-de4838c9-47f3-448c-908f-45f93298181d button.colab-df-convert');\n",
              "        buttonEl.style.display =\n",
              "          google.colab.kernel.accessAllowed ? 'block' : 'none';\n",
              "\n",
              "        async function convertToInteractive(key) {\n",
              "          const element = document.querySelector('#df-de4838c9-47f3-448c-908f-45f93298181d');\n",
              "          const dataTable =\n",
              "            await google.colab.kernel.invokeFunction('convertToInteractive',\n",
              "                                                     [key], {});\n",
              "          if (!dataTable) return;\n",
              "\n",
              "          const docLinkHtml = 'Like what you see? Visit the ' +\n",
              "            '<a target=\"_blank\" href=https://colab.research.google.com/notebooks/data_table.ipynb>data table notebook</a>'\n",
              "            + ' to learn more about interactive tables.';\n",
              "          element.innerHTML = '';\n",
              "          dataTable['output_type'] = 'display_data';\n",
              "          await google.colab.output.renderOutput(dataTable, element);\n",
              "          const docLink = document.createElement('div');\n",
              "          docLink.innerHTML = docLinkHtml;\n",
              "          element.appendChild(docLink);\n",
              "        }\n",
              "      </script>\n",
              "    </div>\n",
              "  </div>\n",
              "  "
            ]
          },
          "metadata": {},
          "execution_count": 300
        }
      ]
    },
    {
      "cell_type": "code",
      "source": [
        "threshold = 0.1\n",
        "for i in range(len(df)):\n",
        "  if df['att'][i] > threshold  : \n",
        "    df['logic'][i] = 1\n",
        "  else:\n",
        "    df['logic'][i] = 0\n",
        "print(len(df))\n",
        "print(df)\n"
      ],
      "metadata": {
        "colab": {
          "base_uri": "https://localhost:8080/",
          "height": 1000
        },
        "id": "1EnBqE6mBKhX",
        "outputId": "52b602cb-eb32-446e-dfba-9be9fe012e9e"
      },
      "execution_count": 301,
      "outputs": [
        {
          "output_type": "stream",
          "name": "stdout",
          "text": [
            "40\n",
            "   logic         word       att\n",
            "0      1     absolute  0.161166\n",
            "1      1   perfection  0.585602\n",
            "2      1          end  0.110414\n",
            "3      1         game  0.141590\n",
            "4      0            .  0.000000\n",
            "5      1         good  0.798903\n",
            "6      0       acting  0.059305\n",
            "7      0  performance  0.042103\n",
            "8      0           to  0.000613\n",
            "9      0          all  0.047786\n",
            "10     0          the  0.034467\n",
            "11     0   characters  0.015702\n",
            "12     0            .  0.000000\n",
            "13     1        great  0.992515\n",
            "14     0        cgi's  0.006373\n",
            "15     0            .  0.000000\n",
            "16     0        truly  0.015057\n",
            "17     1         epic  0.202618\n",
            "18     1      perfect  0.606341\n",
            "19     0       ending  0.020632\n",
            "20     0           to  0.000209\n",
            "21     0            a  0.002145\n",
            "22     0         long  0.018259\n",
            "23     0      journey  0.006757\n",
            "24     0           of  0.000376\n",
            "25     1       marvel  0.117218\n",
            "26     0        movie  0.010085\n",
            "27     0            .  0.000000\n",
            "28     0           go  0.048552\n",
            "29     0          see  0.064756\n",
            "30     0           it  0.084883\n",
            "31     0          you  0.074686\n",
            "32     1         wont  0.170232\n",
            "33     1       regret  0.524318\n",
            "34     0           it  0.024943\n",
            "35     0            .  0.000000\n",
            "36     1   perfection  0.411192\n",
            "37     1       marvel  0.513944\n",
            "38     0      endgame  0.074255\n",
            "39     0            .  0.000000\n"
          ]
        },
        {
          "output_type": "stream",
          "name": "stderr",
          "text": [
            "/usr/local/lib/python3.7/dist-packages/ipykernel_launcher.py:4: SettingWithCopyWarning: \n",
            "A value is trying to be set on a copy of a slice from a DataFrame\n",
            "\n",
            "See the caveats in the documentation: https://pandas.pydata.org/pandas-docs/stable/user_guide/indexing.html#returning-a-view-versus-a-copy\n",
            "  after removing the cwd from sys.path.\n",
            "/usr/local/lib/python3.7/dist-packages/ipykernel_launcher.py:6: SettingWithCopyWarning: \n",
            "A value is trying to be set on a copy of a slice from a DataFrame\n",
            "\n",
            "See the caveats in the documentation: https://pandas.pydata.org/pandas-docs/stable/user_guide/indexing.html#returning-a-view-versus-a-copy\n",
            "  \n"
          ]
        },
        {
          "output_type": "error",
          "ename": "TypeError",
          "evalue": "ignored",
          "traceback": [
            "\u001b[0;31m---------------------------------------------------------------------------\u001b[0m",
            "\u001b[0;31mTypeError\u001b[0m                                 Traceback (most recent call last)",
            "\u001b[0;32m<ipython-input-301-ff2563a6bf32>\u001b[0m in \u001b[0;36m<module>\u001b[0;34m()\u001b[0m\n\u001b[1;32m      7\u001b[0m \u001b[0mprint\u001b[0m\u001b[0;34m(\u001b[0m\u001b[0mlen\u001b[0m\u001b[0;34m(\u001b[0m\u001b[0mdf\u001b[0m\u001b[0;34m)\u001b[0m\u001b[0;34m)\u001b[0m\u001b[0;34m\u001b[0m\u001b[0;34m\u001b[0m\u001b[0m\n\u001b[1;32m      8\u001b[0m \u001b[0mprint\u001b[0m\u001b[0;34m(\u001b[0m\u001b[0mdf\u001b[0m\u001b[0;34m)\u001b[0m\u001b[0;34m\u001b[0m\u001b[0;34m\u001b[0m\u001b[0m\n\u001b[0;32m----> 9\u001b[0;31m \u001b[0mdf\u001b[0m \u001b[0;34m=\u001b[0m \u001b[0mdf\u001b[0m\u001b[0;34m(\u001b[0m\u001b[0mignore_index\u001b[0m\u001b[0;34m=\u001b[0m\u001b[0;32mTrue\u001b[0m\u001b[0;34m)\u001b[0m\u001b[0;34m\u001b[0m\u001b[0;34m\u001b[0m\u001b[0m\n\u001b[0m",
            "\u001b[0;31mTypeError\u001b[0m: 'DataFrame' object is not callable"
          ]
        }
      ]
    },
    {
      "cell_type": "code",
      "source": [
        "#df_ = df[df['logic']==1]  \n",
        "df_ = df[(df['logic'] == 1) | (df['word'] == '.')]\n",
        "print(len(df_))\n",
        "\n",
        "df_=df_.reset_index()\n",
        "print(df_)\n",
        "# 19로 길이가 줄어든것을 확인할 수 있음"
      ],
      "metadata": {
        "colab": {
          "base_uri": "https://localhost:8080/"
        },
        "id": "DgVSIF0W7QgH",
        "outputId": "7b84f760-b337-470f-8ec8-f45868dcd393"
      },
      "execution_count": 303,
      "outputs": [
        {
          "output_type": "stream",
          "name": "stdout",
          "text": [
            "19\n",
            "    index logic        word       att\n",
            "0       0     1    absolute  0.161166\n",
            "1       1     1  perfection  0.585602\n",
            "2       2     1         end  0.110414\n",
            "3       3     1        game  0.141590\n",
            "4       4     0           .  0.000000\n",
            "5       5     1        good  0.798903\n",
            "6      12     0           .  0.000000\n",
            "7      13     1       great  0.992515\n",
            "8      15     0           .  0.000000\n",
            "9      17     1        epic  0.202618\n",
            "10     18     1     perfect  0.606341\n",
            "11     25     1      marvel  0.117218\n",
            "12     27     0           .  0.000000\n",
            "13     32     1        wont  0.170232\n",
            "14     33     1      regret  0.524318\n",
            "15     35     0           .  0.000000\n",
            "16     36     1  perfection  0.411192\n",
            "17     37     1      marvel  0.513944\n",
            "18     39     0           .  0.000000\n"
          ]
        }
      ]
    },
    {
      "cell_type": "code",
      "source": [
        "paragraph = []\n",
        "for i in range(len(df_)) : \n",
        "  paragraph.append(df_['word'][i])"
      ],
      "metadata": {
        "id": "-b0mmiZsFuWn"
      },
      "execution_count": 304,
      "outputs": []
    },
    {
      "cell_type": "code",
      "source": [
        "print(paragraph) # 한개의 다큐먼트에서 중요한 단어들만 뽑아서 만든 단어 조합임"
      ],
      "metadata": {
        "colab": {
          "base_uri": "https://localhost:8080/"
        },
        "id": "TAPzh5-oI3st",
        "outputId": "943f5c66-824c-4e96-b7a2-710b43477103"
      },
      "execution_count": 306,
      "outputs": [
        {
          "output_type": "stream",
          "name": "stdout",
          "text": [
            "['absolute', 'perfection', 'end', 'game', '.', 'good', '.', 'great', '.', 'epic', 'perfect', 'marvel', '.', 'wont', 'regret', '.', 'perfection', 'marvel', '.']\n"
          ]
        }
      ]
    },
    {
      "cell_type": "code",
      "source": [
        "full_paragraph = \" \".join(paragraph);  full_paragraph  # attention스코어가 threshold이상인 줄어든 문장을 확인할 수 있음 \n",
        "# 해당 문장을 기존 모델에 넣었을때의 성능일 비교해볼 수 있음"
      ],
      "metadata": {
        "colab": {
          "base_uri": "https://localhost:8080/",
          "height": 34
        },
        "id": "Mpvf_eclI9Ig",
        "outputId": "6580d6a0-0ada-4fc4-af2f-e471705d9380"
      },
      "execution_count": 309,
      "outputs": [
        {
          "output_type": "execute_result",
          "data": {
            "text/plain": [
              "'absolute perfection end game . good . great . epic perfect marvel . wont regret . perfection marvel .'"
            ],
            "application/vnd.google.colaboratory.intrinsic+json": {
              "type": "string"
            }
          },
          "metadata": {},
          "execution_count": 309
        }
      ]
    },
    {
      "cell_type": "code",
      "source": [
        ""
      ],
      "metadata": {
        "id": "xz6XaoK3LZXx"
      },
      "execution_count": 310,
      "outputs": []
    },
    {
      "cell_type": "code",
      "source": [
        ""
      ],
      "metadata": {
        "id": "GYg6A7pFVOfD"
      },
      "execution_count": null,
      "outputs": []
    }
  ],
  "metadata": {
    "accelerator": "GPU",
    "colab": {
      "collapsed_sections": [],
      "machine_shape": "hm",
      "name": "HAN.ipynb",
      "provenance": [],
      "toc_visible": true,
      "authorship_tag": "ABX9TyONIr9uW14XWwD+g7cnp6uJ",
      "include_colab_link": true
    },
    "kernelspec": {
      "display_name": "Python 3",
      "name": "python3"
    },
    "language_info": {
      "name": "python"
    }
  },
  "nbformat": 4,
  "nbformat_minor": 0
}